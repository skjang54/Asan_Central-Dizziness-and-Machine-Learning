{
 "cells": [
  {
   "cell_type": "code",
   "execution_count": 97,
   "metadata": {},
   "outputs": [],
   "source": [
    "import pandas as pd\n",
    "import numpy as np\n",
    "import os \n",
    "%matplotlib inline"
   ]
  },
  {
   "cell_type": "code",
   "execution_count": 98,
   "metadata": {
    "scrolled": false
   },
   "outputs": [
    {
     "name": "stdout",
     "output_type": "stream",
     "text": [
      "['/home/hdd1/Projects/dizziness', '/home/skjang/anaconda3/envs/skorch/lib/python37.zip', '/home/skjang/anaconda3/envs/skorch/lib/python3.7', '/home/skjang/anaconda3/envs/skorch/lib/python3.7/lib-dynload', '', '/home/skjang/anaconda3/envs/skorch/lib/python3.7/site-packages', '/home/skjang/anaconda3/envs/skorch/lib/python3.7/site-packages/skorch-0.6.1.dev0-py3.7.egg', '/home/skjang/anaconda3/envs/skorch/lib/python3.7/site-packages/IPython/extensions', '/home/skjang/.ipython']\n"
     ]
    }
   ],
   "source": [
    "import sys\n",
    "print(sys.path) "
   ]
  },
  {
   "cell_type": "code",
   "execution_count": 99,
   "metadata": {},
   "outputs": [],
   "source": [
    "feature_withLab=False"
   ]
  },
  {
   "cell_type": "code",
   "execution_count": 100,
   "metadata": {},
   "outputs": [],
   "source": [
    "savedir='/home/hdd1/Projects/dizziness/data'"
   ]
  },
  {
   "cell_type": "code",
   "execution_count": 101,
   "metadata": {},
   "outputs": [],
   "source": [
    "# dizdata = pd.read_csv('/home/hdd1/DeepBrain Dropbox/Nunaps/SMART_Clinic/SK_Jang/19A_dizziness/data/dizziness_data_dimR4692col40_wohighmissing_190830.csv')\n",
    "dizdata = pd.read_csv('/home/hdd1/DeepBrain Dropbox/Nunaps/SMART_Clinic/SK_Jang/19A_dizziness/data/dizziness_data_dimR4521col39_wohighmissing3000_191107.csv')\n",
    "# dizdata = pd.read_csv('/home/hdd1/DeepBrain Dropbox/Nunaps/SMART_Clinic/SK_Jang/19A_dizziness/data/dizziness_data_dimR4521col42_wohighmissing4000_191107.csv')\n",
    "contvar = pd.read_csv('/home/hdd1/DeepBrain Dropbox/Nunaps/SMART_Clinic/SK_Jang/19A_dizziness/data/dizziness_data_190820_continousVar.csv').iloc[:,0].to_list()"
   ]
  },
  {
   "cell_type": "code",
   "execution_count": 102,
   "metadata": {},
   "outputs": [],
   "source": [
    "varlist = pd.read_csv('/home/hdd1/DeepBrain Dropbox/Nunaps/SMART_Clinic/SK_Jang/19A_dizziness/data/excluededVariables.csv')"
   ]
  },
  {
   "cell_type": "code",
   "execution_count": 103,
   "metadata": {},
   "outputs": [],
   "source": [
    "rmvar=varlist.loc[varlist.exclude==1,:]['Feature Id']"
   ]
  },
  {
   "cell_type": "code",
   "execution_count": 104,
   "metadata": {},
   "outputs": [
    {
     "data": {
      "text/html": [
       "<div>\n",
       "<style scoped>\n",
       "    .dataframe tbody tr th:only-of-type {\n",
       "        vertical-align: middle;\n",
       "    }\n",
       "\n",
       "    .dataframe tbody tr th {\n",
       "        vertical-align: top;\n",
       "    }\n",
       "\n",
       "    .dataframe thead th {\n",
       "        text-align: right;\n",
       "    }\n",
       "</style>\n",
       "<table border=\"1\" class=\"dataframe\">\n",
       "  <thead>\n",
       "    <tr style=\"text-align: right;\">\n",
       "      <th></th>\n",
       "      <th>ID</th>\n",
       "      <th>arrival_date</th>\n",
       "      <th>Central.dizziness</th>\n",
       "      <th>Sex.M1F0</th>\n",
       "      <th>age</th>\n",
       "      <th>dizziness</th>\n",
       "      <th>Hypertension</th>\n",
       "      <th>Diabetes</th>\n",
       "      <th>smoking</th>\n",
       "      <th>chronic.kidney.disease</th>\n",
       "      <th>...</th>\n",
       "      <th>Glucose</th>\n",
       "      <th>Creatinine</th>\n",
       "      <th>Uric acid</th>\n",
       "      <th>Total cholesterol</th>\n",
       "      <th>Total protein</th>\n",
       "      <th>BUN</th>\n",
       "      <th>Sodium</th>\n",
       "      <th>Potassium</th>\n",
       "      <th>CRP</th>\n",
       "      <th>Revisit</th>\n",
       "    </tr>\n",
       "  </thead>\n",
       "  <tbody>\n",
       "    <tr>\n",
       "      <th>0</th>\n",
       "      <td>21425372</td>\n",
       "      <td>2010-01-01 14:59:00</td>\n",
       "      <td>0</td>\n",
       "      <td>1</td>\n",
       "      <td>49</td>\n",
       "      <td>1</td>\n",
       "      <td>1</td>\n",
       "      <td>0</td>\n",
       "      <td>1</td>\n",
       "      <td>0</td>\n",
       "      <td>...</td>\n",
       "      <td>115.0</td>\n",
       "      <td>0.6</td>\n",
       "      <td>5.1</td>\n",
       "      <td>145.0</td>\n",
       "      <td>8.1</td>\n",
       "      <td>11.0</td>\n",
       "      <td>137.0</td>\n",
       "      <td>4.9</td>\n",
       "      <td>0.10</td>\n",
       "      <td>0</td>\n",
       "    </tr>\n",
       "    <tr>\n",
       "      <th>1</th>\n",
       "      <td>15963709</td>\n",
       "      <td>2010-01-02 09:42:00</td>\n",
       "      <td>0</td>\n",
       "      <td>0</td>\n",
       "      <td>60</td>\n",
       "      <td>0</td>\n",
       "      <td>1</td>\n",
       "      <td>0</td>\n",
       "      <td>0</td>\n",
       "      <td>0</td>\n",
       "      <td>...</td>\n",
       "      <td>185.0</td>\n",
       "      <td>0.7</td>\n",
       "      <td>4.6</td>\n",
       "      <td>182.0</td>\n",
       "      <td>6.9</td>\n",
       "      <td>14.0</td>\n",
       "      <td>137.0</td>\n",
       "      <td>3.8</td>\n",
       "      <td>0.10</td>\n",
       "      <td>0</td>\n",
       "    </tr>\n",
       "    <tr>\n",
       "      <th>2</th>\n",
       "      <td>23695696</td>\n",
       "      <td>2010-01-02 18:44:00</td>\n",
       "      <td>0</td>\n",
       "      <td>1</td>\n",
       "      <td>61</td>\n",
       "      <td>0</td>\n",
       "      <td>0</td>\n",
       "      <td>0</td>\n",
       "      <td>0</td>\n",
       "      <td>0</td>\n",
       "      <td>...</td>\n",
       "      <td>96.0</td>\n",
       "      <td>0.9</td>\n",
       "      <td>7.0</td>\n",
       "      <td>162.0</td>\n",
       "      <td>6.5</td>\n",
       "      <td>16.0</td>\n",
       "      <td>142.0</td>\n",
       "      <td>4.9</td>\n",
       "      <td>0.10</td>\n",
       "      <td>0</td>\n",
       "    </tr>\n",
       "    <tr>\n",
       "      <th>3</th>\n",
       "      <td>28910718</td>\n",
       "      <td>2010-01-03 09:11:00</td>\n",
       "      <td>0</td>\n",
       "      <td>0</td>\n",
       "      <td>58</td>\n",
       "      <td>0</td>\n",
       "      <td>1</td>\n",
       "      <td>1</td>\n",
       "      <td>0</td>\n",
       "      <td>0</td>\n",
       "      <td>...</td>\n",
       "      <td>130.0</td>\n",
       "      <td>0.6</td>\n",
       "      <td>3.0</td>\n",
       "      <td>151.0</td>\n",
       "      <td>6.5</td>\n",
       "      <td>12.0</td>\n",
       "      <td>137.0</td>\n",
       "      <td>4.3</td>\n",
       "      <td>0.10</td>\n",
       "      <td>0</td>\n",
       "    </tr>\n",
       "    <tr>\n",
       "      <th>4</th>\n",
       "      <td>39551342</td>\n",
       "      <td>2010-01-03 12:52:00</td>\n",
       "      <td>0</td>\n",
       "      <td>0</td>\n",
       "      <td>70</td>\n",
       "      <td>0</td>\n",
       "      <td>0</td>\n",
       "      <td>0</td>\n",
       "      <td>0</td>\n",
       "      <td>0</td>\n",
       "      <td>...</td>\n",
       "      <td>155.0</td>\n",
       "      <td>0.5</td>\n",
       "      <td>2.6</td>\n",
       "      <td>226.0</td>\n",
       "      <td>6.7</td>\n",
       "      <td>18.0</td>\n",
       "      <td>138.0</td>\n",
       "      <td>3.8</td>\n",
       "      <td>0.25</td>\n",
       "      <td>0</td>\n",
       "    </tr>\n",
       "  </tbody>\n",
       "</table>\n",
       "<p>5 rows × 39 columns</p>\n",
       "</div>"
      ],
      "text/plain": [
       "         ID         arrival_date  Central.dizziness  Sex.M1F0  age  dizziness  \\\n",
       "0  21425372  2010-01-01 14:59:00                  0         1   49          1   \n",
       "1  15963709  2010-01-02 09:42:00                  0         0   60          0   \n",
       "2  23695696  2010-01-02 18:44:00                  0         1   61          0   \n",
       "3  28910718  2010-01-03 09:11:00                  0         0   58          0   \n",
       "4  39551342  2010-01-03 12:52:00                  0         0   70          0   \n",
       "\n",
       "   Hypertension  Diabetes  smoking  chronic.kidney.disease  ...  Glucose  \\\n",
       "0             1         0        1                       0  ...    115.0   \n",
       "1             1         0        0                       0  ...    185.0   \n",
       "2             0         0        0                       0  ...     96.0   \n",
       "3             1         1        0                       0  ...    130.0   \n",
       "4             0         0        0                       0  ...    155.0   \n",
       "\n",
       "   Creatinine  Uric acid Total cholesterol  Total protein   BUN  Sodium  \\\n",
       "0         0.6        5.1             145.0            8.1  11.0   137.0   \n",
       "1         0.7        4.6             182.0            6.9  14.0   137.0   \n",
       "2         0.9        7.0             162.0            6.5  16.0   142.0   \n",
       "3         0.6        3.0             151.0            6.5  12.0   137.0   \n",
       "4         0.5        2.6             226.0            6.7  18.0   138.0   \n",
       "\n",
       "   Potassium   CRP  Revisit  \n",
       "0        4.9  0.10        0  \n",
       "1        3.8  0.10        0  \n",
       "2        4.9  0.10        0  \n",
       "3        4.3  0.10        0  \n",
       "4        3.8  0.25        0  \n",
       "\n",
       "[5 rows x 39 columns]"
      ]
     },
     "execution_count": 104,
     "metadata": {},
     "output_type": "execute_result"
    }
   ],
   "source": [
    "dizdata.head()"
   ]
  },
  {
   "cell_type": "code",
   "execution_count": 105,
   "metadata": {},
   "outputs": [
    {
     "data": {
      "text/plain": [
       "(4521, 39)"
      ]
     },
     "execution_count": 105,
     "metadata": {},
     "output_type": "execute_result"
    }
   ],
   "source": [
    "dizdata.shape "
   ]
  },
  {
   "cell_type": "code",
   "execution_count": 106,
   "metadata": {},
   "outputs": [
    {
     "data": {
      "text/plain": [
       "4426"
      ]
     },
     "execution_count": 106,
     "metadata": {},
     "output_type": "execute_result"
    }
   ],
   "source": [
    "len(dizdata.ID.unique())"
   ]
  },
  {
   "cell_type": "code",
   "execution_count": 107,
   "metadata": {},
   "outputs": [
    {
     "data": {
      "text/plain": [
       "1    4332\n",
       "2      93\n",
       "3       1\n",
       "Name: ID, dtype: int64"
      ]
     },
     "execution_count": 107,
     "metadata": {},
     "output_type": "execute_result"
    }
   ],
   "source": [
    "dizdata.ID.value_counts().value_counts()"
   ]
  },
  {
   "cell_type": "code",
   "execution_count": 108,
   "metadata": {
    "scrolled": true
   },
   "outputs": [
    {
     "data": {
      "text/plain": [
       "['visit_id',\n",
       " 'ID',\n",
       " 'arrival_date',\n",
       " 'age',\n",
       " '수축기혈압',\n",
       " '이완기혈압',\n",
       " '맥박',\n",
       " 'WBC',\n",
       " 'Hb',\n",
       " 'Hct',\n",
       " 'Platelet',\n",
       " 'Prothrombin time (sec)',\n",
       " 'Prothrombin time (percent)',\n",
       " 'Prothrombin time (INR)',\n",
       " 'aPTT',\n",
       " 'Glucose',\n",
       " 'Creatinine',\n",
       " 'Uric acid',\n",
       " 'Total cholesterol',\n",
       " 'Total protein',\n",
       " 'BUN',\n",
       " 'Sodium',\n",
       " 'Potassium',\n",
       " 'Triglyceride',\n",
       " 'HDL-cholesterol',\n",
       " 'LDL-cholesterol',\n",
       " 'CRP',\n",
       " 'HbA1c',\n",
       " 'Glucose,Stick']"
      ]
     },
     "execution_count": 108,
     "metadata": {},
     "output_type": "execute_result"
    }
   ],
   "source": [
    "contvar"
   ]
  },
  {
   "cell_type": "code",
   "execution_count": 109,
   "metadata": {},
   "outputs": [],
   "source": [
    "img_var=[ 'MR,Diffusion (without enhance)',\n",
    " 'MR,Acute stroke brain & Diffusion (with enhance)',\n",
    " 'MR,Brain thrombolysis & Diffusion (with enhance)',\n",
    " 'MR,Head angiography (with enhance)',\n",
    " 'MR,Head & Neck angiography (with enhance)',\n",
    " 'MR, Head Angio With & 3 Sequence',\n",
    " 'CT,Brain(without enhance)',\n",
    " 'CT,Brain (with enhance)',\n",
    " 'CT,Head angiography (with enhance)']"
   ]
  },
  {
   "cell_type": "code",
   "execution_count": 110,
   "metadata": {},
   "outputs": [],
   "source": [
    "total_var=dizdata.drop(columns=['ID','arrival_date','의식상태',\n",
    "'Central.dizziness']).columns"
   ]
  },
  {
   "cell_type": "code",
   "execution_count": 111,
   "metadata": {},
   "outputs": [],
   "source": [
    "total_var=total_var[~total_var.isin(rmvar)].tolist()"
   ]
  },
  {
   "cell_type": "code",
   "execution_count": 112,
   "metadata": {},
   "outputs": [
    {
     "data": {
      "text/plain": [
       "['Sex.M1F0',\n",
       " 'age',\n",
       " 'dizziness',\n",
       " 'Hypertension',\n",
       " 'Diabetes',\n",
       " 'smoking',\n",
       " 'chronic.kidney.disease',\n",
       " 'coronary.artery.disease',\n",
       " 'previous.stroke',\n",
       " 'Hyperlipidemia',\n",
       " '수축기혈압',\n",
       " '이완기혈압',\n",
       " '맥박',\n",
       " 'WBC',\n",
       " 'Hct',\n",
       " 'Platelet',\n",
       " 'Glucose',\n",
       " 'Creatinine',\n",
       " 'Uric acid',\n",
       " 'Total cholesterol',\n",
       " 'BUN',\n",
       " 'CRP',\n",
       " 'Revisit']"
      ]
     },
     "execution_count": 112,
     "metadata": {},
     "output_type": "execute_result"
    }
   ],
   "source": [
    "total_var"
   ]
  },
  {
   "cell_type": "code",
   "execution_count": 113,
   "metadata": {},
   "outputs": [],
   "source": [
    "\n",
    "if feature_withLab == True :\n",
    "    feature_var = total_var \n",
    "else : \n",
    "    feature_var = ['Sex.M1F0',\n",
    "     'age',\n",
    "     'dizziness',\n",
    "     'Hypertension',\n",
    "     'Diabetes',\n",
    "     'smoking',\n",
    "     'coronary.artery.disease',\n",
    "#      'chronic.kidney.disease',\n",
    "     'previous.stroke',\n",
    "     'Hyperlipidemia',\n",
    "     '수축기혈압',\n",
    "     '이완기혈압',\n",
    "     '맥박',\n",
    "     'Revisit'\n",
    "                  ]\n"
   ]
  },
  {
   "cell_type": "code",
   "execution_count": 114,
   "metadata": {
    "scrolled": false
   },
   "outputs": [
    {
     "data": {
      "text/plain": [
       "(4521, 39)"
      ]
     },
     "execution_count": 114,
     "metadata": {},
     "output_type": "execute_result"
    }
   ],
   "source": [
    "dizdata.shape"
   ]
  },
  {
   "cell_type": "markdown",
   "metadata": {},
   "source": [
    "#### Exclude patients in Testset, which visited before 2012-10-13 12:28:00 "
   ]
  },
  {
   "cell_type": "code",
   "execution_count": 115,
   "metadata": {},
   "outputs": [],
   "source": [
    "dizdata2=dizdata.copy()\n",
    "dizdata2['Testset']=dizdata2.arrival_date>'2012-10-03 12:28:00'\n",
    "trainID=np.unique(dizdata2.loc[~dizdata2['Testset'],:]['ID'])\n",
    "tmp2=dizdata2.loc[(~dizdata2.ID.isin(trainID))|(~dizdata2.Testset),:] \n",
    "dizdata=dizdata2"
   ]
  },
  {
   "cell_type": "code",
   "execution_count": 116,
   "metadata": {
    "scrolled": false
   },
   "outputs": [
    {
     "data": {
      "text/plain": [
       "0    4100\n",
       "1     421\n",
       "Name: Central.dizziness, dtype: int64"
      ]
     },
     "execution_count": 116,
     "metadata": {},
     "output_type": "execute_result"
    }
   ],
   "source": [
    "dizdata['Central.dizziness'].value_counts()"
   ]
  },
  {
   "cell_type": "code",
   "execution_count": 117,
   "metadata": {
    "scrolled": true
   },
   "outputs": [
    {
     "data": {
      "text/plain": [
       "0    80\n",
       "1    15\n",
       "Name: Central.dizziness, dtype: int64"
      ]
     },
     "execution_count": 117,
     "metadata": {},
     "output_type": "execute_result"
    }
   ],
   "source": [
    "dizdata.loc[dizdata['Revisit']==1,:]['Central.dizziness'].value_counts()"
   ]
  },
  {
   "cell_type": "code",
   "execution_count": 118,
   "metadata": {},
   "outputs": [
    {
     "data": {
      "text/plain": [
       "0    4020\n",
       "1     406\n",
       "Name: Central.dizziness, dtype: int64"
      ]
     },
     "execution_count": 118,
     "metadata": {},
     "output_type": "execute_result"
    }
   ],
   "source": [
    "dizdata.loc[dizdata['Revisit']==0,:]['Central.dizziness'].value_counts()"
   ]
  },
  {
   "cell_type": "code",
   "execution_count": 119,
   "metadata": {},
   "outputs": [],
   "source": [
    "CD_revisitpat=dizdata.loc[dizdata.ID.isin(dizdata.loc[(dizdata['Revisit']==1)&dizdata['Central.dizziness']==1,:]['ID']),:]['ID'].drop_duplicates()"
   ]
  },
  {
   "cell_type": "code",
   "execution_count": 120,
   "metadata": {},
   "outputs": [],
   "source": [
    "import re \n",
    "def deID(id): \n",
    "    nid=re.sub('^.....', '***', str(id))\n",
    "    return nid"
   ]
  },
  {
   "cell_type": "code",
   "execution_count": 121,
   "metadata": {
    "scrolled": false
   },
   "outputs": [],
   "source": [
    "tmp=dizdata.loc[dizdata.ID.isin(CD_revisitpat),:].sort_values(['ID','arrival_date'])\n",
    "tmp['ID']=tmp['ID'].apply(deID) \n",
    "tmp.head()\n",
    "tmp.to_csv('CD_revisitpat.csv',index=False)"
   ]
  },
  {
   "cell_type": "markdown",
   "metadata": {},
   "source": [
    "## Split testset"
   ]
  },
  {
   "cell_type": "code",
   "execution_count": 122,
   "metadata": {},
   "outputs": [],
   "source": [
    "adm=dizdata['arrival_date']"
   ]
  },
  {
   "cell_type": "code",
   "execution_count": 123,
   "metadata": {
    "scrolled": true
   },
   "outputs": [],
   "source": [
    "adm=pd.to_datetime(adm)"
   ]
  },
  {
   "cell_type": "code",
   "execution_count": 124,
   "metadata": {},
   "outputs": [],
   "source": [
    "import pandas as pd\n",
    "import numpy as np\n",
    "from math import ceil"
   ]
  },
  {
   "cell_type": "code",
   "execution_count": 125,
   "metadata": {},
   "outputs": [],
   "source": [
    "# def train_test_split_sorted(X, y, test_size, dates):\n",
    "#     \"\"\"Splits X and y into train and test sets, with test set separated by most recent dates.\n",
    "\n",
    "#     Example:\n",
    "#     --------\n",
    "#     >>> from sklearn import datasets\n",
    "\n",
    "#     # Fake dataset:\n",
    "#     >>> gen_data = datasets.make_classification(n_samples=10000, n_features=5)\n",
    "#     >>> dates = np.array(pd.date_range('2016-01-01', periods=10000, freq='5min'))\n",
    "#     >>> np.random.shuffle(dates)\n",
    "#     >>> df = pd.DataFrame(gen_data[0])\n",
    "#     >>> df['date'] = dates\n",
    "#     >>> df['target'] = gen_data[1]\n",
    "\n",
    "#     # Separate:\n",
    "#     >>> X_train, X_test, y_train, y_test = train_test_split_sorted(df.drop('target', axis=1), df['target'], 0.33, df['date'])\n",
    "\n",
    "#     >>> print('Length train set: {}'.format(len(y_train)))\n",
    "#     Length train set: 8000\n",
    "#     >>> print('Length test set: {}'.format(len(y_test)))\n",
    "#     Length test set: 2000\n",
    "#     >>> print('Last date in train set: {}'.format(X_train['date'].max()))\n",
    "#     Last date in train set: 2016-01-28 18:35:00\n",
    "#     >>> print('First date in test set: {}'.format(X_test['date'].min()))\n",
    "#     First date in test set: 2016-01-28 18:40:00\n",
    "#     \"\"\"\n",
    "\n",
    "#     n_test = ceil(test_size * len(X))\n",
    "\n",
    "#     sorted_index = [x for _, x in sorted(zip(np.array(dates), np.arange(0, len(dates))), key=lambda pair: pair[0])]\n",
    "#     train_idx = sorted_index[:-n_test]\n",
    "#     test_idx = sorted_index[-n_test:]\n",
    "\n",
    "#     if isinstance(X, (pd.Series, pd.DataFrame)):\n",
    "#         X_train = X.iloc[train_idx]\n",
    "#         X_test = X.iloc[test_idx]\n",
    "#     else:\n",
    "#         X_train = X[train_idx]\n",
    "#         X_test = X[test_idx]\n",
    "#     if isinstance(y, (pd.Series, pd.DataFrame)):\n",
    "#         y_train = y.iloc[train_idx]\n",
    "#         y_test = y.iloc[test_idx]\n",
    "#     else:\n",
    "#         y_train = y[train_idx]\n",
    "#         y_test = y[test_idx]\n",
    "\n",
    "#     return X_train, X_test, y_train.astype(int), y_test.astype(int)"
   ]
  },
  {
   "cell_type": "code",
   "execution_count": 126,
   "metadata": {},
   "outputs": [],
   "source": [
    "def train_test_split_rmdup(X, y, test_size, dates, patientID):\n",
    "\n",
    "    n_test = ceil(test_size * len(X))\n",
    "\n",
    "    sorted_index = [x for _, x in sorted(zip(np.array(dates), np.arange(0, len(dates))), key=lambda pair: pair[0])]\n",
    "    train_idx = sorted_index[:-n_test]\n",
    "    test_idx_tmp = sorted_index[-n_test:]\n",
    "    print(f'No. records in testset before excluding duplicated patients : {len(test_idx_tmp)}')\n",
    "    X_train = X.iloc[train_idx]\n",
    "    X_test_tmp = X.iloc[test_idx_tmp]\n",
    "    \n",
    "    # remove dupilicated patients in a testset\n",
    "    dup_bool = patientID[test_idx_tmp].isin(patientID[train_idx]) #1357\n",
    "    dup_ID = patientID[test_idx_tmp][dup_bool] #40\n",
    "    test_idx = dup_bool[~dup_bool].index.tolist() #1350-40 = 1317\n",
    "    print(f'No. Duplicated records : {sum(dup_bool)}') # 40\n",
    "    print(f'No. Duplicated patients (unique) : {len(dup_ID.unique())}')\n",
    "    print(f'No. patients (unique) in testset : {len(patientID[test_idx].unique())}')\n",
    "    print(f'No. patients (unique) in trainset : {len(patientID[train_idx].unique())}')\n",
    "    print(f'No. records in testset : {len(test_idx)}')\n",
    "    X_test = X_test_tmp.loc[test_idx,:]\n",
    "    \n",
    "    if isinstance(y, (pd.Series, pd.DataFrame)):\n",
    "        y_train = y.iloc[train_idx]\n",
    "        y_test = y.iloc[test_idx]\n",
    "    else:\n",
    "        y_train = y[train_idx]\n",
    "        y_test = y[test_idx]\n",
    "\n",
    "    return X_train, X_test, y_train.astype(int), y_test.astype(int),dup_ID"
   ]
  },
  {
   "cell_type": "code",
   "execution_count": 127,
   "metadata": {
    "scrolled": true
   },
   "outputs": [
    {
     "name": "stdout",
     "output_type": "stream",
     "text": [
      "No. records in testset before excluding duplicated patients : 1357\n",
      "No. Duplicated records : 40\n",
      "No. Duplicated patients (unique) : 40\n",
      "No. patients (unique) in testset : 1310\n",
      "No. patients (unique) in trainset : 3116\n",
      "No. records in testset : 1317\n"
     ]
    }
   ],
   "source": [
    "X_train, X_test, y_train, y_test, dup_ID=train_test_split_rmdup(dizdata.loc[:,dizdata.columns.isin(feature_var)],dizdata['Central.dizziness'],0.3,adm,dizdata.ID)"
   ]
  },
  {
   "cell_type": "code",
   "execution_count": 128,
   "metadata": {},
   "outputs": [],
   "source": [
    "import datetime\n",
    "today_datever=datetime.datetime.now().strftime(\"%y%m%d\")\n",
    "# if today_datever=='191107':\n",
    "#     today_datever='191107rmdup'"
   ]
  },
  {
   "cell_type": "code",
   "execution_count": 129,
   "metadata": {},
   "outputs": [
    {
     "name": "stdout",
     "output_type": "stream",
     "text": [
      "/home/hdd1/Projects/dizziness/data/Dizzdataset_noimputation_withLABFalse_200422.pkl\n"
     ]
    }
   ],
   "source": [
    "import pickle\n",
    "def save_object(obj, filename):\n",
    "    with open(filename, 'wb') as output:  # Overwrites any existing file.\n",
    "        pickle.dump(obj, output, pickle.HIGHEST_PROTOCOL)\n",
    "        \n",
    "objs = [\n",
    "    X_train, X_test, y_train, y_test\n",
    "]\n",
    "tmp='%s/Dizzdataset_noimputation_withLAB%s_%s.pkl' %(savedir,feature_withLab,today_datever)\n",
    "print(tmp)\n",
    "save_object(objs, tmp)"
   ]
  },
  {
   "cell_type": "code",
   "execution_count": 130,
   "metadata": {},
   "outputs": [],
   "source": [
    "dizdata2.to_csv('%s/DizzinessDataset_withTestsetLabel_%s.csv' %(savedir,today_datever),index=False)"
   ]
  },
  {
   "cell_type": "code",
   "execution_count": 131,
   "metadata": {
    "scrolled": true
   },
   "outputs": [
    {
     "data": {
      "text/plain": [
       "4481"
      ]
     },
     "execution_count": 131,
     "metadata": {},
     "output_type": "execute_result"
    }
   ],
   "source": [
    "len(X_train)+len(X_test)"
   ]
  },
  {
   "cell_type": "code",
   "execution_count": 132,
   "metadata": {
    "scrolled": false
   },
   "outputs": [
    {
     "data": {
      "text/html": [
       "<div>\n",
       "<style scoped>\n",
       "    .dataframe tbody tr th:only-of-type {\n",
       "        vertical-align: middle;\n",
       "    }\n",
       "\n",
       "    .dataframe tbody tr th {\n",
       "        vertical-align: top;\n",
       "    }\n",
       "\n",
       "    .dataframe thead th {\n",
       "        text-align: right;\n",
       "    }\n",
       "</style>\n",
       "<table border=\"1\" class=\"dataframe\">\n",
       "  <thead>\n",
       "    <tr style=\"text-align: right;\">\n",
       "      <th></th>\n",
       "      <th>ID</th>\n",
       "      <th>arrival_date</th>\n",
       "      <th>Central.dizziness</th>\n",
       "      <th>Sex.M1F0</th>\n",
       "      <th>age</th>\n",
       "      <th>dizziness</th>\n",
       "      <th>Hypertension</th>\n",
       "      <th>Diabetes</th>\n",
       "      <th>smoking</th>\n",
       "      <th>chronic.kidney.disease</th>\n",
       "      <th>...</th>\n",
       "      <th>Creatinine</th>\n",
       "      <th>Uric acid</th>\n",
       "      <th>Total cholesterol</th>\n",
       "      <th>Total protein</th>\n",
       "      <th>BUN</th>\n",
       "      <th>Sodium</th>\n",
       "      <th>Potassium</th>\n",
       "      <th>CRP</th>\n",
       "      <th>Revisit</th>\n",
       "      <th>Testset</th>\n",
       "    </tr>\n",
       "  </thead>\n",
       "  <tbody>\n",
       "    <tr>\n",
       "      <th>0</th>\n",
       "      <td>21425372</td>\n",
       "      <td>2010-01-01 14:59:00</td>\n",
       "      <td>0</td>\n",
       "      <td>1</td>\n",
       "      <td>49</td>\n",
       "      <td>1</td>\n",
       "      <td>1</td>\n",
       "      <td>0</td>\n",
       "      <td>1</td>\n",
       "      <td>0</td>\n",
       "      <td>...</td>\n",
       "      <td>0.6</td>\n",
       "      <td>5.1</td>\n",
       "      <td>145.0</td>\n",
       "      <td>8.1</td>\n",
       "      <td>11.0</td>\n",
       "      <td>137.0</td>\n",
       "      <td>4.9</td>\n",
       "      <td>0.10</td>\n",
       "      <td>0</td>\n",
       "      <td>False</td>\n",
       "    </tr>\n",
       "    <tr>\n",
       "      <th>1</th>\n",
       "      <td>15963709</td>\n",
       "      <td>2010-01-02 09:42:00</td>\n",
       "      <td>0</td>\n",
       "      <td>0</td>\n",
       "      <td>60</td>\n",
       "      <td>0</td>\n",
       "      <td>1</td>\n",
       "      <td>0</td>\n",
       "      <td>0</td>\n",
       "      <td>0</td>\n",
       "      <td>...</td>\n",
       "      <td>0.7</td>\n",
       "      <td>4.6</td>\n",
       "      <td>182.0</td>\n",
       "      <td>6.9</td>\n",
       "      <td>14.0</td>\n",
       "      <td>137.0</td>\n",
       "      <td>3.8</td>\n",
       "      <td>0.10</td>\n",
       "      <td>0</td>\n",
       "      <td>False</td>\n",
       "    </tr>\n",
       "    <tr>\n",
       "      <th>2</th>\n",
       "      <td>23695696</td>\n",
       "      <td>2010-01-02 18:44:00</td>\n",
       "      <td>0</td>\n",
       "      <td>1</td>\n",
       "      <td>61</td>\n",
       "      <td>0</td>\n",
       "      <td>0</td>\n",
       "      <td>0</td>\n",
       "      <td>0</td>\n",
       "      <td>0</td>\n",
       "      <td>...</td>\n",
       "      <td>0.9</td>\n",
       "      <td>7.0</td>\n",
       "      <td>162.0</td>\n",
       "      <td>6.5</td>\n",
       "      <td>16.0</td>\n",
       "      <td>142.0</td>\n",
       "      <td>4.9</td>\n",
       "      <td>0.10</td>\n",
       "      <td>0</td>\n",
       "      <td>False</td>\n",
       "    </tr>\n",
       "    <tr>\n",
       "      <th>3</th>\n",
       "      <td>28910718</td>\n",
       "      <td>2010-01-03 09:11:00</td>\n",
       "      <td>0</td>\n",
       "      <td>0</td>\n",
       "      <td>58</td>\n",
       "      <td>0</td>\n",
       "      <td>1</td>\n",
       "      <td>1</td>\n",
       "      <td>0</td>\n",
       "      <td>0</td>\n",
       "      <td>...</td>\n",
       "      <td>0.6</td>\n",
       "      <td>3.0</td>\n",
       "      <td>151.0</td>\n",
       "      <td>6.5</td>\n",
       "      <td>12.0</td>\n",
       "      <td>137.0</td>\n",
       "      <td>4.3</td>\n",
       "      <td>0.10</td>\n",
       "      <td>0</td>\n",
       "      <td>False</td>\n",
       "    </tr>\n",
       "    <tr>\n",
       "      <th>4</th>\n",
       "      <td>39551342</td>\n",
       "      <td>2010-01-03 12:52:00</td>\n",
       "      <td>0</td>\n",
       "      <td>0</td>\n",
       "      <td>70</td>\n",
       "      <td>0</td>\n",
       "      <td>0</td>\n",
       "      <td>0</td>\n",
       "      <td>0</td>\n",
       "      <td>0</td>\n",
       "      <td>...</td>\n",
       "      <td>0.5</td>\n",
       "      <td>2.6</td>\n",
       "      <td>226.0</td>\n",
       "      <td>6.7</td>\n",
       "      <td>18.0</td>\n",
       "      <td>138.0</td>\n",
       "      <td>3.8</td>\n",
       "      <td>0.25</td>\n",
       "      <td>0</td>\n",
       "      <td>False</td>\n",
       "    </tr>\n",
       "  </tbody>\n",
       "</table>\n",
       "<p>5 rows × 40 columns</p>\n",
       "</div>"
      ],
      "text/plain": [
       "         ID         arrival_date  Central.dizziness  Sex.M1F0  age  dizziness  \\\n",
       "0  21425372  2010-01-01 14:59:00                  0         1   49          1   \n",
       "1  15963709  2010-01-02 09:42:00                  0         0   60          0   \n",
       "2  23695696  2010-01-02 18:44:00                  0         1   61          0   \n",
       "3  28910718  2010-01-03 09:11:00                  0         0   58          0   \n",
       "4  39551342  2010-01-03 12:52:00                  0         0   70          0   \n",
       "\n",
       "   Hypertension  Diabetes  smoking  chronic.kidney.disease  ...  Creatinine  \\\n",
       "0             1         0        1                       0  ...         0.6   \n",
       "1             1         0        0                       0  ...         0.7   \n",
       "2             0         0        0                       0  ...         0.9   \n",
       "3             1         1        0                       0  ...         0.6   \n",
       "4             0         0        0                       0  ...         0.5   \n",
       "\n",
       "   Uric acid  Total cholesterol Total protein   BUN  Sodium  Potassium   CRP  \\\n",
       "0        5.1              145.0           8.1  11.0   137.0        4.9  0.10   \n",
       "1        4.6              182.0           6.9  14.0   137.0        3.8  0.10   \n",
       "2        7.0              162.0           6.5  16.0   142.0        4.9  0.10   \n",
       "3        3.0              151.0           6.5  12.0   137.0        4.3  0.10   \n",
       "4        2.6              226.0           6.7  18.0   138.0        3.8  0.25   \n",
       "\n",
       "   Revisit  Testset  \n",
       "0        0    False  \n",
       "1        0    False  \n",
       "2        0    False  \n",
       "3        0    False  \n",
       "4        0    False  \n",
       "\n",
       "[5 rows x 40 columns]"
      ]
     },
     "execution_count": 132,
     "metadata": {},
     "output_type": "execute_result"
    }
   ],
   "source": [
    "dizdata2.head()"
   ]
  },
  {
   "cell_type": "markdown",
   "metadata": {},
   "source": [
    "## Imputation"
   ]
  },
  {
   "cell_type": "code",
   "execution_count": 133,
   "metadata": {
    "scrolled": true
   },
   "outputs": [
    {
     "data": {
      "text/html": [
       "<div>\n",
       "<style scoped>\n",
       "    .dataframe tbody tr th:only-of-type {\n",
       "        vertical-align: middle;\n",
       "    }\n",
       "\n",
       "    .dataframe tbody tr th {\n",
       "        vertical-align: top;\n",
       "    }\n",
       "\n",
       "    .dataframe thead th {\n",
       "        text-align: right;\n",
       "    }\n",
       "</style>\n",
       "<table border=\"1\" class=\"dataframe\">\n",
       "  <thead>\n",
       "    <tr style=\"text-align: right;\">\n",
       "      <th></th>\n",
       "      <th>Sex.M1F0</th>\n",
       "      <th>age</th>\n",
       "      <th>dizziness</th>\n",
       "      <th>Hypertension</th>\n",
       "      <th>Diabetes</th>\n",
       "      <th>smoking</th>\n",
       "      <th>coronary.artery.disease</th>\n",
       "      <th>previous.stroke</th>\n",
       "      <th>Hyperlipidemia</th>\n",
       "      <th>수축기혈압</th>\n",
       "      <th>이완기혈압</th>\n",
       "      <th>맥박</th>\n",
       "      <th>Revisit</th>\n",
       "    </tr>\n",
       "  </thead>\n",
       "  <tbody>\n",
       "    <tr>\n",
       "      <th>0</th>\n",
       "      <td>1</td>\n",
       "      <td>49</td>\n",
       "      <td>1</td>\n",
       "      <td>1</td>\n",
       "      <td>0</td>\n",
       "      <td>1</td>\n",
       "      <td>0</td>\n",
       "      <td>0</td>\n",
       "      <td>0</td>\n",
       "      <td>152</td>\n",
       "      <td>94</td>\n",
       "      <td>77</td>\n",
       "      <td>0</td>\n",
       "    </tr>\n",
       "    <tr>\n",
       "      <th>1</th>\n",
       "      <td>0</td>\n",
       "      <td>60</td>\n",
       "      <td>0</td>\n",
       "      <td>1</td>\n",
       "      <td>0</td>\n",
       "      <td>0</td>\n",
       "      <td>0</td>\n",
       "      <td>0</td>\n",
       "      <td>0</td>\n",
       "      <td>169</td>\n",
       "      <td>105</td>\n",
       "      <td>71</td>\n",
       "      <td>0</td>\n",
       "    </tr>\n",
       "    <tr>\n",
       "      <th>2</th>\n",
       "      <td>1</td>\n",
       "      <td>61</td>\n",
       "      <td>0</td>\n",
       "      <td>0</td>\n",
       "      <td>0</td>\n",
       "      <td>0</td>\n",
       "      <td>1</td>\n",
       "      <td>0</td>\n",
       "      <td>0</td>\n",
       "      <td>138</td>\n",
       "      <td>89</td>\n",
       "      <td>67</td>\n",
       "      <td>0</td>\n",
       "    </tr>\n",
       "    <tr>\n",
       "      <th>3</th>\n",
       "      <td>0</td>\n",
       "      <td>58</td>\n",
       "      <td>0</td>\n",
       "      <td>1</td>\n",
       "      <td>1</td>\n",
       "      <td>0</td>\n",
       "      <td>0</td>\n",
       "      <td>1</td>\n",
       "      <td>0</td>\n",
       "      <td>188</td>\n",
       "      <td>109</td>\n",
       "      <td>71</td>\n",
       "      <td>0</td>\n",
       "    </tr>\n",
       "    <tr>\n",
       "      <th>4</th>\n",
       "      <td>0</td>\n",
       "      <td>70</td>\n",
       "      <td>0</td>\n",
       "      <td>0</td>\n",
       "      <td>0</td>\n",
       "      <td>0</td>\n",
       "      <td>0</td>\n",
       "      <td>0</td>\n",
       "      <td>1</td>\n",
       "      <td>131</td>\n",
       "      <td>92</td>\n",
       "      <td>71</td>\n",
       "      <td>0</td>\n",
       "    </tr>\n",
       "  </tbody>\n",
       "</table>\n",
       "</div>"
      ],
      "text/plain": [
       "   Sex.M1F0  age  dizziness  Hypertension  Diabetes  smoking  \\\n",
       "0         1   49          1             1         0        1   \n",
       "1         0   60          0             1         0        0   \n",
       "2         1   61          0             0         0        0   \n",
       "3         0   58          0             1         1        0   \n",
       "4         0   70          0             0         0        0   \n",
       "\n",
       "   coronary.artery.disease  previous.stroke  Hyperlipidemia  수축기혈압  이완기혈압  맥박  \\\n",
       "0                        0                0               0    152     94  77   \n",
       "1                        0                0               0    169    105  71   \n",
       "2                        1                0               0    138     89  67   \n",
       "3                        0                1               0    188    109  71   \n",
       "4                        0                0               1    131     92  71   \n",
       "\n",
       "   Revisit  \n",
       "0        0  \n",
       "1        0  \n",
       "2        0  \n",
       "3        0  \n",
       "4        0  "
      ]
     },
     "execution_count": 133,
     "metadata": {},
     "output_type": "execute_result"
    }
   ],
   "source": [
    "X_train.head()"
   ]
  },
  {
   "cell_type": "code",
   "execution_count": 134,
   "metadata": {},
   "outputs": [],
   "source": [
    "temp=X_train.iloc[0,:]"
   ]
  },
  {
   "cell_type": "code",
   "execution_count": 135,
   "metadata": {},
   "outputs": [
    {
     "data": {
      "text/plain": [
       "Sex.M1F0                     1\n",
       "age                         49\n",
       "dizziness                    1\n",
       "Hypertension                 1\n",
       "Diabetes                     0\n",
       "smoking                      1\n",
       "coronary.artery.disease      0\n",
       "previous.stroke              0\n",
       "Hyperlipidemia               0\n",
       "수축기혈압                      152\n",
       "이완기혈압                       94\n",
       "맥박                          77\n",
       "Revisit                      0\n",
       "Name: 0, dtype: int64"
      ]
     },
     "execution_count": 135,
     "metadata": {},
     "output_type": "execute_result"
    }
   ],
   "source": [
    "temp"
   ]
  },
  {
   "cell_type": "code",
   "execution_count": 136,
   "metadata": {
    "scrolled": true
   },
   "outputs": [],
   "source": [
    "freqval=X_train.apply(lambda x : x.value_counts().sort_values(ascending=False).iloc[[0]].index) #DataFrame"
   ]
  },
  {
   "cell_type": "code",
   "execution_count": 137,
   "metadata": {},
   "outputs": [],
   "source": [
    "contvar=X_train.columns[X_train.columns.isin(contvar)].to_list()"
   ]
  },
  {
   "cell_type": "code",
   "execution_count": 138,
   "metadata": {},
   "outputs": [],
   "source": [
    "categval=X_train.loc[:,~X_train.columns.isin(contvar)].columns.to_list()\n",
    "\n",
    "# if ~feature_withLab  :\n",
    "#     categval=['chronic.kidney.disease' if x=='간질환' else x for x in categval]\n"
   ]
  },
  {
   "cell_type": "code",
   "execution_count": 139,
   "metadata": {
    "scrolled": true
   },
   "outputs": [
    {
     "data": {
      "text/html": [
       "<div>\n",
       "<style scoped>\n",
       "    .dataframe tbody tr th:only-of-type {\n",
       "        vertical-align: middle;\n",
       "    }\n",
       "\n",
       "    .dataframe tbody tr th {\n",
       "        vertical-align: top;\n",
       "    }\n",
       "\n",
       "    .dataframe thead th {\n",
       "        text-align: right;\n",
       "    }\n",
       "</style>\n",
       "<table border=\"1\" class=\"dataframe\">\n",
       "  <thead>\n",
       "    <tr style=\"text-align: right;\">\n",
       "      <th></th>\n",
       "      <th>Sex.M1F0</th>\n",
       "      <th>age</th>\n",
       "      <th>dizziness</th>\n",
       "      <th>Hypertension</th>\n",
       "      <th>Diabetes</th>\n",
       "      <th>smoking</th>\n",
       "      <th>coronary.artery.disease</th>\n",
       "      <th>previous.stroke</th>\n",
       "      <th>Hyperlipidemia</th>\n",
       "      <th>수축기혈압</th>\n",
       "      <th>이완기혈압</th>\n",
       "      <th>맥박</th>\n",
       "      <th>Revisit</th>\n",
       "    </tr>\n",
       "  </thead>\n",
       "  <tbody>\n",
       "    <tr>\n",
       "      <th>0</th>\n",
       "      <td>0</td>\n",
       "      <td>63</td>\n",
       "      <td>1</td>\n",
       "      <td>0</td>\n",
       "      <td>0</td>\n",
       "      <td>0</td>\n",
       "      <td>0</td>\n",
       "      <td>0</td>\n",
       "      <td>0</td>\n",
       "      <td>135</td>\n",
       "      <td>78</td>\n",
       "      <td>78</td>\n",
       "      <td>0</td>\n",
       "    </tr>\n",
       "  </tbody>\n",
       "</table>\n",
       "</div>"
      ],
      "text/plain": [
       "   Sex.M1F0  age  dizziness  Hypertension  Diabetes  smoking  \\\n",
       "0         0   63          1             0         0        0   \n",
       "\n",
       "   coronary.artery.disease  previous.stroke  Hyperlipidemia  수축기혈압  이완기혈압  맥박  \\\n",
       "0                        0                0               0    135     78  78   \n",
       "\n",
       "   Revisit  \n",
       "0        0  "
      ]
     },
     "execution_count": 139,
     "metadata": {},
     "output_type": "execute_result"
    }
   ],
   "source": [
    "freqval"
   ]
  },
  {
   "cell_type": "code",
   "execution_count": 140,
   "metadata": {},
   "outputs": [],
   "source": [
    "temp[categval]=freqval[categval].values.tolist()[0]"
   ]
  },
  {
   "cell_type": "code",
   "execution_count": 141,
   "metadata": {
    "scrolled": true
   },
   "outputs": [],
   "source": [
    "temp[contvar]=X_train[contvar].median() "
   ]
  },
  {
   "cell_type": "code",
   "execution_count": 142,
   "metadata": {
    "scrolled": true
   },
   "outputs": [
    {
     "data": {
      "text/plain": [
       "Sex.M1F0                     0.0\n",
       "age                         62.0\n",
       "dizziness                    1.0\n",
       "Hypertension                 0.0\n",
       "Diabetes                     0.0\n",
       "smoking                      0.0\n",
       "coronary.artery.disease      0.0\n",
       "previous.stroke              0.0\n",
       "Hyperlipidemia               0.0\n",
       "수축기혈압                      144.0\n",
       "이완기혈압                       87.0\n",
       "맥박                          73.0\n",
       "Revisit                      0.0\n",
       "Name: 0, dtype: float64"
      ]
     },
     "execution_count": 142,
     "metadata": {},
     "output_type": "execute_result"
    }
   ],
   "source": [
    "temp"
   ]
  },
  {
   "cell_type": "code",
   "execution_count": 143,
   "metadata": {
    "scrolled": true
   },
   "outputs": [],
   "source": [
    "# fillval=pd.DataFrame(medval.copy())\n",
    "# fillval.iloc[fillval.index.isin(categval),:]=catgfreqval.transpose()\n",
    "fillval_dic=dict(zip(temp.index,temp))"
   ]
  },
  {
   "cell_type": "code",
   "execution_count": 144,
   "metadata": {
    "scrolled": true
   },
   "outputs": [
    {
     "data": {
      "text/plain": [
       "13"
      ]
     },
     "execution_count": 144,
     "metadata": {},
     "output_type": "execute_result"
    }
   ],
   "source": [
    "len(fillval_dic.items())"
   ]
  },
  {
   "cell_type": "code",
   "execution_count": 145,
   "metadata": {
    "scrolled": true
   },
   "outputs": [],
   "source": [
    "# Imputate train/testset\n",
    "X_train=X_train.fillna(value=fillval_dic)\n",
    "X_test=X_test.fillna(value=fillval_dic)"
   ]
  },
  {
   "cell_type": "code",
   "execution_count": 146,
   "metadata": {},
   "outputs": [],
   "source": [
    "# import pickle\n",
    "# def save_object(obj, filename):\n",
    "#     with open(filename, 'wb') as output:  # Overwrites any existing file.\n",
    "#         pickle.dump(obj, output, pickle.HIGHEST_PROTOCOL)\n",
    "        \n",
    "# objs = [\n",
    "#     X_train, X_test, y_train, y_test\n",
    "# ]\n",
    "# save_object(objs, '%s/Dizzdataset_simpleimputation_withLAB%s_%s.pkl' %(savedir,feature_withLab,today_datever))"
   ]
  },
  {
   "cell_type": "code",
   "execution_count": 147,
   "metadata": {},
   "outputs": [
    {
     "name": "stdout",
     "output_type": "stream",
     "text": [
      "/home/hdd1/Projects/dizziness/data/Dizzdataset_simpleimputation_withLABFalse_200422.pkl\n"
     ]
    }
   ],
   "source": [
    "print('%s/Dizzdataset_simpleimputation_withLAB%s_%s.pkl' %(savedir,feature_withLab,today_datever))"
   ]
  },
  {
   "cell_type": "code",
   "execution_count": 148,
   "metadata": {},
   "outputs": [],
   "source": [
    "# X_train.to_csv('%s/X_train_simpleimputation_withLAB%s_%s.csv' %(savedir,feature_withLab,today_datever),index=False)\n",
    "# X_test.to_csv('%s/X_test_simpleimputation_withLAB%s_%s.csv' %(savedir,feature_withLab,today_datever),index=False)\n",
    "# y_train.to_csv('%s/y_train_simpleimputation_withLAB%s_%s.csv' %(savedir,feature_withLab,today_datever),index=False)\n",
    "# y_test.to_csv('%s/y_test_simpleimputation_withLAB%s_%s.csv' %(savedir,feature_withLab,today_datever),index=False)"
   ]
  },
  {
   "cell_type": "code",
   "execution_count": 149,
   "metadata": {
    "scrolled": false
   },
   "outputs": [
    {
     "data": {
      "text/html": [
       "<div>\n",
       "<style scoped>\n",
       "    .dataframe tbody tr th:only-of-type {\n",
       "        vertical-align: middle;\n",
       "    }\n",
       "\n",
       "    .dataframe tbody tr th {\n",
       "        vertical-align: top;\n",
       "    }\n",
       "\n",
       "    .dataframe thead th {\n",
       "        text-align: right;\n",
       "    }\n",
       "</style>\n",
       "<table border=\"1\" class=\"dataframe\">\n",
       "  <thead>\n",
       "    <tr style=\"text-align: right;\">\n",
       "      <th></th>\n",
       "      <th>Sex.M1F0</th>\n",
       "      <th>age</th>\n",
       "      <th>dizziness</th>\n",
       "      <th>Hypertension</th>\n",
       "      <th>Diabetes</th>\n",
       "      <th>smoking</th>\n",
       "      <th>coronary.artery.disease</th>\n",
       "      <th>previous.stroke</th>\n",
       "      <th>Hyperlipidemia</th>\n",
       "      <th>수축기혈압</th>\n",
       "      <th>이완기혈압</th>\n",
       "      <th>맥박</th>\n",
       "      <th>Revisit</th>\n",
       "    </tr>\n",
       "  </thead>\n",
       "  <tbody>\n",
       "    <tr>\n",
       "      <th>0</th>\n",
       "      <td>0</td>\n",
       "      <td>63</td>\n",
       "      <td>1</td>\n",
       "      <td>0</td>\n",
       "      <td>0</td>\n",
       "      <td>0</td>\n",
       "      <td>0</td>\n",
       "      <td>0</td>\n",
       "      <td>0</td>\n",
       "      <td>135</td>\n",
       "      <td>78</td>\n",
       "      <td>78</td>\n",
       "      <td>0</td>\n",
       "    </tr>\n",
       "  </tbody>\n",
       "</table>\n",
       "</div>"
      ],
      "text/plain": [
       "   Sex.M1F0  age  dizziness  Hypertension  Diabetes  smoking  \\\n",
       "0         0   63          1             0         0        0   \n",
       "\n",
       "   coronary.artery.disease  previous.stroke  Hyperlipidemia  수축기혈압  이완기혈압  맥박  \\\n",
       "0                        0                0               0    135     78  78   \n",
       "\n",
       "   Revisit  \n",
       "0        0  "
      ]
     },
     "execution_count": 149,
     "metadata": {},
     "output_type": "execute_result"
    }
   ],
   "source": [
    "freqval"
   ]
  },
  {
   "cell_type": "code",
   "execution_count": 150,
   "metadata": {},
   "outputs": [],
   "source": [
    "seldata=dizdata.copy()"
   ]
  },
  {
   "cell_type": "code",
   "execution_count": 151,
   "metadata": {
    "scrolled": true
   },
   "outputs": [],
   "source": [
    "seldata=seldata.loc[~(seldata.ID.isin(dup_ID)&seldata.Testset),:]"
   ]
  },
  {
   "cell_type": "code",
   "execution_count": 152,
   "metadata": {},
   "outputs": [
    {
     "data": {
      "text/plain": [
       "(4521, 40)"
      ]
     },
     "execution_count": 152,
     "metadata": {},
     "output_type": "execute_result"
    }
   ],
   "source": [
    "dizdata.shape"
   ]
  },
  {
   "cell_type": "code",
   "execution_count": 153,
   "metadata": {
    "scrolled": true
   },
   "outputs": [
    {
     "data": {
      "text/plain": [
       "(3164, 13)"
      ]
     },
     "execution_count": 153,
     "metadata": {},
     "output_type": "execute_result"
    }
   ],
   "source": [
    "X_train.shape"
   ]
  },
  {
   "cell_type": "code",
   "execution_count": 154,
   "metadata": {},
   "outputs": [
    {
     "name": "stdout",
     "output_type": "stream",
     "text": [
      "9.102402022756005\n",
      "9.567198177676538\n",
      "90.89759797724399\n"
     ]
    }
   ],
   "source": [
    "print(100*sum(y_train==1)/len(y_train))\n",
    "print(100*sum(y_test==1)/len(y_test))\n",
    "print(100*sum(y_train==0)/len(y_train))"
   ]
  },
  {
   "cell_type": "code",
   "execution_count": 155,
   "metadata": {},
   "outputs": [],
   "source": [
    "# seldata['Train']=seldata.index.isin(X_train.index)"
   ]
  },
  {
   "cell_type": "code",
   "execution_count": 156,
   "metadata": {},
   "outputs": [],
   "source": [
    "wl=False"
   ]
  },
  {
   "cell_type": "code",
   "execution_count": 157,
   "metadata": {},
   "outputs": [
    {
     "data": {
      "text/plain": [
       "4481"
      ]
     },
     "execution_count": 157,
     "metadata": {},
     "output_type": "execute_result"
    }
   ],
   "source": [
    "len(seldata)"
   ]
  },
  {
   "cell_type": "code",
   "execution_count": 158,
   "metadata": {},
   "outputs": [
    {
     "data": {
      "text/plain": [
       "0    2644\n",
       "1    1837\n",
       "Name: Sex.M1F0, dtype: int64"
      ]
     },
     "execution_count": 158,
     "metadata": {},
     "output_type": "execute_result"
    }
   ],
   "source": [
    "seldata['Sex.M1F0'].value_counts()"
   ]
  },
  {
   "cell_type": "code",
   "execution_count": 159,
   "metadata": {},
   "outputs": [
    {
     "data": {
      "text/plain": [
       "0    0.590047\n",
       "1    0.409953\n",
       "Name: Sex.M1F0, dtype: float64"
      ]
     },
     "execution_count": 159,
     "metadata": {},
     "output_type": "execute_result"
    }
   ],
   "source": [
    "seldata['Sex.M1F0'].value_counts()/len(seldata)"
   ]
  },
  {
   "cell_type": "code",
   "execution_count": 160,
   "metadata": {
    "scrolled": true
   },
   "outputs": [
    {
     "data": {
      "text/plain": [
       "61.72907833072975"
      ]
     },
     "execution_count": 160,
     "metadata": {},
     "output_type": "execute_result"
    }
   ],
   "source": [
    "seldata['age'].mean()"
   ]
  },
  {
   "cell_type": "code",
   "execution_count": 161,
   "metadata": {},
   "outputs": [
    {
     "data": {
      "text/plain": [
       "11.620420575488177"
      ]
     },
     "execution_count": 161,
     "metadata": {},
     "output_type": "execute_result"
    }
   ],
   "source": [
    "seldata['age'].std()"
   ]
  },
  {
   "cell_type": "code",
   "execution_count": 162,
   "metadata": {},
   "outputs": [],
   "source": [
    "uniquepat=seldata.loc[~seldata['ID'].duplicated(),:]"
   ]
  },
  {
   "cell_type": "code",
   "execution_count": 163,
   "metadata": {},
   "outputs": [
    {
     "data": {
      "text/plain": [
       "61.672616357885225"
      ]
     },
     "execution_count": 163,
     "metadata": {},
     "output_type": "execute_result"
    }
   ],
   "source": [
    "uniquepat.age.mean()"
   ]
  },
  {
   "cell_type": "code",
   "execution_count": 164,
   "metadata": {},
   "outputs": [
    {
     "data": {
      "text/plain": [
       "11.619218650885232"
      ]
     },
     "execution_count": 164,
     "metadata": {},
     "output_type": "execute_result"
    }
   ],
   "source": [
    "uniquepat.age.std()"
   ]
  },
  {
   "cell_type": "code",
   "execution_count": 165,
   "metadata": {},
   "outputs": [
    {
     "data": {
      "text/plain": [
       "0    2614\n",
       "1    1812\n",
       "Name: Sex.M1F0, dtype: int64"
      ]
     },
     "execution_count": 165,
     "metadata": {},
     "output_type": "execute_result"
    }
   ],
   "source": [
    "uniquepat['Sex.M1F0'].value_counts()"
   ]
  },
  {
   "cell_type": "code",
   "execution_count": 166,
   "metadata": {},
   "outputs": [],
   "source": [
    "if ~feature_withLab  :\n",
    "    categval=['chronic.kidney.disease' if x=='간질환' else x for x in categval]"
   ]
  },
  {
   "cell_type": "code",
   "execution_count": 167,
   "metadata": {},
   "outputs": [
    {
     "data": {
      "text/plain": [
       "['Sex.M1F0',\n",
       " 'dizziness',\n",
       " 'Hypertension',\n",
       " 'Diabetes',\n",
       " 'smoking',\n",
       " 'coronary.artery.disease',\n",
       " 'previous.stroke',\n",
       " 'Hyperlipidemia',\n",
       " 'Revisit']"
      ]
     },
     "execution_count": 167,
     "metadata": {},
     "output_type": "execute_result"
    }
   ],
   "source": [
    "categval"
   ]
  },
  {
   "cell_type": "code",
   "execution_count": 168,
   "metadata": {},
   "outputs": [
    {
     "data": {
      "text/plain": [
       "Index(['ID', 'arrival_date', 'Central.dizziness', 'Sex.M1F0', 'age',\n",
       "       'dizziness', 'Hypertension', 'Diabetes', 'smoking',\n",
       "       'chronic.kidney.disease', 'coronary.artery.disease', 'previous.stroke',\n",
       "       'Hyperlipidemia', '의식상태', '수축기혈압', '이완기혈압', '맥박', '간질환', '호흡기', '수술력',\n",
       "       'Neoplasm', 'WBC', 'Hb', 'Hct', 'Platelet', 'Prothrombin time (sec)',\n",
       "       'Prothrombin time (percent)', 'Prothrombin time (INR)', 'aPTT',\n",
       "       'Glucose', 'Creatinine', 'Uric acid', 'Total cholesterol',\n",
       "       'Total protein', 'BUN', 'Sodium', 'Potassium', 'CRP', 'Revisit',\n",
       "       'Testset'],\n",
       "      dtype='object')"
      ]
     },
     "execution_count": 168,
     "metadata": {},
     "output_type": "execute_result"
    }
   ],
   "source": [
    "seldata.columns"
   ]
  },
  {
   "cell_type": "code",
   "execution_count": 169,
   "metadata": {
    "scrolled": true
   },
   "outputs": [
    {
     "data": {
      "text/plain": [
       "['Sex.M1F0',\n",
       " 'age',\n",
       " 'dizziness',\n",
       " 'Hypertension',\n",
       " 'Diabetes',\n",
       " 'smoking',\n",
       " 'coronary.artery.disease',\n",
       " 'previous.stroke',\n",
       " 'Hyperlipidemia',\n",
       " '수축기혈압',\n",
       " '이완기혈압',\n",
       " '맥박',\n",
       " 'Revisit']"
      ]
     },
     "execution_count": 169,
     "metadata": {},
     "output_type": "execute_result"
    }
   ],
   "source": [
    "feature_var"
   ]
  },
  {
   "cell_type": "code",
   "execution_count": 170,
   "metadata": {
    "scrolled": false
   },
   "outputs": [],
   "source": [
    "from tableone import TableOne\n",
    "tab=TableOne(data=seldata, columns=feature_var, categorical=categval ,groupby='Central.dizziness', pval=True,isnull=True)"
   ]
  },
  {
   "cell_type": "code",
   "execution_count": 171,
   "metadata": {},
   "outputs": [
    {
     "data": {
      "text/html": [
       "<div>\n",
       "<style scoped>\n",
       "    .dataframe tbody tr th:only-of-type {\n",
       "        vertical-align: middle;\n",
       "    }\n",
       "\n",
       "    .dataframe tbody tr th {\n",
       "        vertical-align: top;\n",
       "    }\n",
       "\n",
       "    .dataframe thead tr th {\n",
       "        text-align: left;\n",
       "    }\n",
       "\n",
       "    .dataframe thead tr:last-of-type th {\n",
       "        text-align: right;\n",
       "    }\n",
       "</style>\n",
       "<table border=\"1\" class=\"dataframe\">\n",
       "  <thead>\n",
       "    <tr>\n",
       "      <th></th>\n",
       "      <th></th>\n",
       "      <th colspan=\"5\" halign=\"left\">Grouped by Central.dizziness</th>\n",
       "    </tr>\n",
       "    <tr>\n",
       "      <th></th>\n",
       "      <th></th>\n",
       "      <th>isnull</th>\n",
       "      <th>0</th>\n",
       "      <th>1</th>\n",
       "      <th>pval</th>\n",
       "      <th>ptest</th>\n",
       "    </tr>\n",
       "    <tr>\n",
       "      <th>variable</th>\n",
       "      <th>level</th>\n",
       "      <th></th>\n",
       "      <th></th>\n",
       "      <th></th>\n",
       "      <th></th>\n",
       "      <th></th>\n",
       "    </tr>\n",
       "  </thead>\n",
       "  <tbody>\n",
       "    <tr>\n",
       "      <th>n</th>\n",
       "      <th></th>\n",
       "      <td></td>\n",
       "      <td>4067</td>\n",
       "      <td>414</td>\n",
       "      <td></td>\n",
       "      <td></td>\n",
       "    </tr>\n",
       "    <tr>\n",
       "      <th rowspan=\"2\" valign=\"top\">Sex.M1F0</th>\n",
       "      <th>0</th>\n",
       "      <td>0</td>\n",
       "      <td>2475 (60.9)</td>\n",
       "      <td>169 (40.8)</td>\n",
       "      <td>&lt;0.001</td>\n",
       "      <td>Chi-squared</td>\n",
       "    </tr>\n",
       "    <tr>\n",
       "      <th>1</th>\n",
       "      <td></td>\n",
       "      <td>1592 (39.1)</td>\n",
       "      <td>245 (59.2)</td>\n",
       "      <td></td>\n",
       "      <td></td>\n",
       "    </tr>\n",
       "    <tr>\n",
       "      <th>age</th>\n",
       "      <th></th>\n",
       "      <td>0</td>\n",
       "      <td>61.3 (11.5)</td>\n",
       "      <td>66.1 (11.8)</td>\n",
       "      <td>&lt;0.001</td>\n",
       "      <td>Two Sample T-test</td>\n",
       "    </tr>\n",
       "    <tr>\n",
       "      <th rowspan=\"2\" valign=\"top\">dizziness</th>\n",
       "      <th>0</th>\n",
       "      <td>0</td>\n",
       "      <td>1856 (45.6)</td>\n",
       "      <td>87 (21.0)</td>\n",
       "      <td>&lt;0.001</td>\n",
       "      <td>Chi-squared</td>\n",
       "    </tr>\n",
       "    <tr>\n",
       "      <th>1</th>\n",
       "      <td></td>\n",
       "      <td>2211 (54.4)</td>\n",
       "      <td>327 (79.0)</td>\n",
       "      <td></td>\n",
       "      <td></td>\n",
       "    </tr>\n",
       "    <tr>\n",
       "      <th rowspan=\"2\" valign=\"top\">Hypertension</th>\n",
       "      <th>0</th>\n",
       "      <td>0</td>\n",
       "      <td>2536 (62.4)</td>\n",
       "      <td>216 (52.2)</td>\n",
       "      <td>&lt;0.001</td>\n",
       "      <td>Chi-squared</td>\n",
       "    </tr>\n",
       "    <tr>\n",
       "      <th>1</th>\n",
       "      <td></td>\n",
       "      <td>1531 (37.6)</td>\n",
       "      <td>198 (47.8)</td>\n",
       "      <td></td>\n",
       "      <td></td>\n",
       "    </tr>\n",
       "    <tr>\n",
       "      <th rowspan=\"2\" valign=\"top\">Diabetes</th>\n",
       "      <th>0</th>\n",
       "      <td>0</td>\n",
       "      <td>3536 (86.9)</td>\n",
       "      <td>314 (75.8)</td>\n",
       "      <td>&lt;0.001</td>\n",
       "      <td>Chi-squared</td>\n",
       "    </tr>\n",
       "    <tr>\n",
       "      <th>1</th>\n",
       "      <td></td>\n",
       "      <td>531 (13.1)</td>\n",
       "      <td>100 (24.2)</td>\n",
       "      <td></td>\n",
       "      <td></td>\n",
       "    </tr>\n",
       "    <tr>\n",
       "      <th rowspan=\"2\" valign=\"top\">smoking</th>\n",
       "      <th>0</th>\n",
       "      <td>0</td>\n",
       "      <td>3802 (93.5)</td>\n",
       "      <td>373 (90.1)</td>\n",
       "      <td>0.012</td>\n",
       "      <td>Chi-squared</td>\n",
       "    </tr>\n",
       "    <tr>\n",
       "      <th>1</th>\n",
       "      <td></td>\n",
       "      <td>265 (6.5)</td>\n",
       "      <td>41 (9.9)</td>\n",
       "      <td></td>\n",
       "      <td></td>\n",
       "    </tr>\n",
       "    <tr>\n",
       "      <th rowspan=\"2\" valign=\"top\">coronary.artery.disease</th>\n",
       "      <th>0</th>\n",
       "      <td>0</td>\n",
       "      <td>3572 (87.8)</td>\n",
       "      <td>337 (81.4)</td>\n",
       "      <td>&lt;0.001</td>\n",
       "      <td>Chi-squared</td>\n",
       "    </tr>\n",
       "    <tr>\n",
       "      <th>1</th>\n",
       "      <td></td>\n",
       "      <td>495 (12.2)</td>\n",
       "      <td>77 (18.6)</td>\n",
       "      <td></td>\n",
       "      <td></td>\n",
       "    </tr>\n",
       "    <tr>\n",
       "      <th rowspan=\"2\" valign=\"top\">previous.stroke</th>\n",
       "      <th>0</th>\n",
       "      <td>0</td>\n",
       "      <td>3754 (92.3)</td>\n",
       "      <td>314 (75.8)</td>\n",
       "      <td>&lt;0.001</td>\n",
       "      <td>Chi-squared</td>\n",
       "    </tr>\n",
       "    <tr>\n",
       "      <th>1</th>\n",
       "      <td></td>\n",
       "      <td>313 (7.7)</td>\n",
       "      <td>100 (24.2)</td>\n",
       "      <td></td>\n",
       "      <td></td>\n",
       "    </tr>\n",
       "    <tr>\n",
       "      <th rowspan=\"2\" valign=\"top\">Hyperlipidemia</th>\n",
       "      <th>0</th>\n",
       "      <td>0</td>\n",
       "      <td>2699 (66.4)</td>\n",
       "      <td>281 (67.9)</td>\n",
       "      <td>0.571</td>\n",
       "      <td>Chi-squared</td>\n",
       "    </tr>\n",
       "    <tr>\n",
       "      <th>1</th>\n",
       "      <td></td>\n",
       "      <td>1368 (33.6)</td>\n",
       "      <td>133 (32.1)</td>\n",
       "      <td></td>\n",
       "      <td></td>\n",
       "    </tr>\n",
       "    <tr>\n",
       "      <th>수축기혈압</th>\n",
       "      <th></th>\n",
       "      <td>0</td>\n",
       "      <td>145.7 (22.0)</td>\n",
       "      <td>148.3 (23.6)</td>\n",
       "      <td>0.032</td>\n",
       "      <td>Two Sample T-test</td>\n",
       "    </tr>\n",
       "    <tr>\n",
       "      <th>이완기혈압</th>\n",
       "      <th></th>\n",
       "      <td>0</td>\n",
       "      <td>88.1 (14.0)</td>\n",
       "      <td>87.7 (15.8)</td>\n",
       "      <td>0.584</td>\n",
       "      <td>Two Sample T-test</td>\n",
       "    </tr>\n",
       "    <tr>\n",
       "      <th>맥박</th>\n",
       "      <th></th>\n",
       "      <td>0</td>\n",
       "      <td>74.6 (14.0)</td>\n",
       "      <td>75.2 (15.1)</td>\n",
       "      <td>0.425</td>\n",
       "      <td>Two Sample T-test</td>\n",
       "    </tr>\n",
       "    <tr>\n",
       "      <th rowspan=\"2\" valign=\"top\">Revisit</th>\n",
       "      <th>0</th>\n",
       "      <td>0</td>\n",
       "      <td>4020 (98.8)</td>\n",
       "      <td>406 (98.1)</td>\n",
       "      <td>0.257</td>\n",
       "      <td>Chi-squared</td>\n",
       "    </tr>\n",
       "    <tr>\n",
       "      <th>1</th>\n",
       "      <td></td>\n",
       "      <td>47 (1.2)</td>\n",
       "      <td>8 (1.9)</td>\n",
       "      <td></td>\n",
       "      <td></td>\n",
       "    </tr>\n",
       "  </tbody>\n",
       "</table>\n",
       "</div><br />[1] Warning, Hartigan's Dip Test reports possible multimodal distributions for: age, 맥박, 수축기혈압, 이완기혈압.<br />[2] Warning, Tukey test indicates far outliers in: 맥박, 이완기혈압.<br />[3] Warning, test for normality reports non-normal distributions for: age, 맥박, 수축기혈압, 이완기혈압.<br />"
      ],
      "text/plain": [
       "                              Grouped by Central.dizziness                                                       \n",
       "                                                    isnull             0             1    pval              ptest\n",
       "variable                level                                                                                    \n",
       "n                                                                   4067           414                           \n",
       "Sex.M1F0                0                                0   2475 (60.9)    169 (40.8)  <0.001        Chi-squared\n",
       "                        1                                    1592 (39.1)    245 (59.2)                           \n",
       "age                                                      0   61.3 (11.5)   66.1 (11.8)  <0.001  Two Sample T-test\n",
       "dizziness               0                                0   1856 (45.6)     87 (21.0)  <0.001        Chi-squared\n",
       "                        1                                    2211 (54.4)    327 (79.0)                           \n",
       "Hypertension            0                                0   2536 (62.4)    216 (52.2)  <0.001        Chi-squared\n",
       "                        1                                    1531 (37.6)    198 (47.8)                           \n",
       "Diabetes                0                                0   3536 (86.9)    314 (75.8)  <0.001        Chi-squared\n",
       "                        1                                     531 (13.1)    100 (24.2)                           \n",
       "smoking                 0                                0   3802 (93.5)    373 (90.1)   0.012        Chi-squared\n",
       "                        1                                      265 (6.5)      41 (9.9)                           \n",
       "coronary.artery.disease 0                                0   3572 (87.8)    337 (81.4)  <0.001        Chi-squared\n",
       "                        1                                     495 (12.2)     77 (18.6)                           \n",
       "previous.stroke         0                                0   3754 (92.3)    314 (75.8)  <0.001        Chi-squared\n",
       "                        1                                      313 (7.7)    100 (24.2)                           \n",
       "Hyperlipidemia          0                                0   2699 (66.4)    281 (67.9)   0.571        Chi-squared\n",
       "                        1                                    1368 (33.6)    133 (32.1)                           \n",
       "수축기혈압                                                    0  145.7 (22.0)  148.3 (23.6)   0.032  Two Sample T-test\n",
       "이완기혈압                                                    0   88.1 (14.0)   87.7 (15.8)   0.584  Two Sample T-test\n",
       "맥박                                                       0   74.6 (14.0)   75.2 (15.1)   0.425  Two Sample T-test\n",
       "Revisit                 0                                0   4020 (98.8)    406 (98.1)   0.257        Chi-squared\n",
       "                        1                                       47 (1.2)       8 (1.9)                           \n",
       "[1] Warning, Hartigan's Dip Test reports possible multimodal distributions for: age, 맥박, 수축기혈압, 이완기혈압.\n",
       "[2] Warning, Tukey test indicates far outliers in: 맥박, 이완기혈압.\n",
       "[3] Warning, test for normality reports non-normal distributions for: age, 맥박, 수축기혈압, 이완기혈압."
      ]
     },
     "execution_count": 171,
     "metadata": {},
     "output_type": "execute_result"
    }
   ],
   "source": [
    "tab"
   ]
  },
  {
   "cell_type": "code",
   "execution_count": 172,
   "metadata": {},
   "outputs": [],
   "source": [
    "tab.to_csv(f'{savedir}/../results/tableone/tableone_total_withLAB{wl}_{today_datever}.csv')\n",
    "tab12=pd.read_csv(f'{savedir}/../results/tableone/tableone_total_withLAB{wl}_{today_datever}.csv')"
   ]
  },
  {
   "cell_type": "code",
   "execution_count": 196,
   "metadata": {
    "scrolled": true
   },
   "outputs": [
    {
     "data": {
      "text/html": [
       "<div>\n",
       "<style scoped>\n",
       "    .dataframe tbody tr th:only-of-type {\n",
       "        vertical-align: middle;\n",
       "    }\n",
       "\n",
       "    .dataframe tbody tr th {\n",
       "        vertical-align: top;\n",
       "    }\n",
       "\n",
       "    .dataframe thead th {\n",
       "        text-align: right;\n",
       "    }\n",
       "</style>\n",
       "<table border=\"1\" class=\"dataframe\">\n",
       "  <thead>\n",
       "    <tr style=\"text-align: right;\">\n",
       "      <th></th>\n",
       "      <th>Unnamed: 0</th>\n",
       "      <th>Unnamed: 1</th>\n",
       "      <th>Grouped by Central.dizziness</th>\n",
       "      <th>Grouped by Central.dizziness.1</th>\n",
       "      <th>Grouped by Central.dizziness.2</th>\n",
       "      <th>Grouped by Central.dizziness.3</th>\n",
       "      <th>Grouped by Central.dizziness.4</th>\n",
       "    </tr>\n",
       "  </thead>\n",
       "  <tbody>\n",
       "    <tr>\n",
       "      <th>19</th>\n",
       "      <td>Hyperlipidemia</td>\n",
       "      <td></td>\n",
       "      <td>0</td>\n",
       "      <td>1368 (33.6)</td>\n",
       "      <td>133 (32.1)</td>\n",
       "      <td>0.571</td>\n",
       "      <td>Chi-squared</td>\n",
       "    </tr>\n",
       "    <tr>\n",
       "      <th>20</th>\n",
       "      <td>수축기혈압</td>\n",
       "      <td>NaN</td>\n",
       "      <td>0</td>\n",
       "      <td>145.7 ±22.0</td>\n",
       "      <td>148.3 ±23.6</td>\n",
       "      <td>0.032</td>\n",
       "      <td>Two Sample T-test</td>\n",
       "    </tr>\n",
       "    <tr>\n",
       "      <th>21</th>\n",
       "      <td>이완기혈압</td>\n",
       "      <td>NaN</td>\n",
       "      <td>0</td>\n",
       "      <td>88.1 ±14.0</td>\n",
       "      <td>87.7 ±15.8</td>\n",
       "      <td>0.584</td>\n",
       "      <td>Two Sample T-test</td>\n",
       "    </tr>\n",
       "    <tr>\n",
       "      <th>22</th>\n",
       "      <td>맥박</td>\n",
       "      <td>NaN</td>\n",
       "      <td>0</td>\n",
       "      <td>74.6 ±14.0</td>\n",
       "      <td>75.2 ±15.1</td>\n",
       "      <td>0.425</td>\n",
       "      <td>Two Sample T-test</td>\n",
       "    </tr>\n",
       "    <tr>\n",
       "      <th>24</th>\n",
       "      <td>Revisit</td>\n",
       "      <td></td>\n",
       "      <td>0</td>\n",
       "      <td>47 (1.2)</td>\n",
       "      <td>8 (1.9)</td>\n",
       "      <td>0.257</td>\n",
       "      <td>Chi-squared</td>\n",
       "    </tr>\n",
       "  </tbody>\n",
       "</table>\n",
       "</div>"
      ],
      "text/plain": [
       "        Unnamed: 0 Unnamed: 1 Grouped by Central.dizziness  \\\n",
       "19  Hyperlipidemia                                       0   \n",
       "20           수축기혈압        NaN                            0   \n",
       "21           이완기혈압        NaN                            0   \n",
       "22              맥박        NaN                            0   \n",
       "24         Revisit                                       0   \n",
       "\n",
       "   Grouped by Central.dizziness.1 Grouped by Central.dizziness.2  \\\n",
       "19                    1368 (33.6)                     133 (32.1)   \n",
       "20                    145.7 ±22.0                    148.3 ±23.6   \n",
       "21                     88.1 ±14.0                     87.7 ±15.8   \n",
       "22                     74.6 ±14.0                     75.2 ±15.1   \n",
       "24                       47 (1.2)                        8 (1.9)   \n",
       "\n",
       "   Grouped by Central.dizziness.3 Grouped by Central.dizziness.4  \n",
       "19                          0.571                    Chi-squared  \n",
       "20                          0.032              Two Sample T-test  \n",
       "21                          0.584              Two Sample T-test  \n",
       "22                          0.425              Two Sample T-test  \n",
       "24                          0.257                    Chi-squared  "
      ]
     },
     "execution_count": 196,
     "metadata": {},
     "output_type": "execute_result"
    }
   ],
   "source": [
    "tab12.tail()"
   ]
  },
  {
   "cell_type": "code",
   "execution_count": 174,
   "metadata": {},
   "outputs": [],
   "source": [
    "idx0=np.where((tab12.iloc[:,1]=='0.0')|(tab12.iloc[:,1]=='0'))[0]\n",
    "v=tab12.loc[(idx0).tolist(),'Grouped by Central.dizziness'].copy()\n",
    "v.index=v.index+1\n",
    "tab12.loc[(idx0+1),'Grouped by Central.dizziness']=v\n",
    "v=tab12.loc[(idx0).tolist(),'Grouped by Central.dizziness.3'].copy()\n",
    "v.index=v.index+1\n",
    "tab12.loc[(idx0+1),'Grouped by Central.dizziness.3']=v\n",
    "v=tab12.loc[(idx0).tolist(),'Grouped by Central.dizziness.4'].copy()\n",
    "v.index=v.index+1\n",
    "tab12.loc[(idx0+1),'Grouped by Central.dizziness.4']=v\n",
    "tab12=tab12[~tab12.index.isin(idx0)]\n",
    "tab12['Unnamed: 1']=tab12['Unnamed: 1'].replace('1.0','')\n",
    "tab12['Unnamed: 1']=tab12['Unnamed: 1'].replace('1','')\n",
    "\n",
    "contidx=tab12['Grouped by Central.dizziness.4']=='Two Sample T-test'\n",
    "for cn in ['Grouped by Central.dizziness.1','Grouped by Central.dizziness.2']:\n",
    "    tab12.loc[contidx,cn]=tab12.loc[contidx,cn].replace('\\(',u'\\u00b1',regex=True)\n",
    "    tab12.loc[contidx,cn]=tab12.loc[contidx,cn].replace('\\)','',regex=True)\n",
    "tab12=tab12.loc[(~(tab12['Unnamed: 0']=='variable')),]\n",
    "nd=tab12.iloc[1,3:5].astype(int).sum()\n",
    "tab12.to_excel(f'{savedir}/../results/tableone/tableone_target_N{nd}_{today_datever}.xlsx',index=False)"
   ]
  },
  {
   "cell_type": "code",
   "execution_count": 197,
   "metadata": {},
   "outputs": [
    {
     "data": {
      "text/plain": [
       "'/home/hdd1/Projects/dizziness/data'"
      ]
     },
     "execution_count": 197,
     "metadata": {},
     "output_type": "execute_result"
    }
   ],
   "source": [
    "savedir"
   ]
  },
  {
   "cell_type": "code",
   "execution_count": 175,
   "metadata": {},
   "outputs": [],
   "source": [
    "wl=False"
   ]
  },
  {
   "cell_type": "code",
   "execution_count": 176,
   "metadata": {},
   "outputs": [],
   "source": [
    "tab=TableOne(data=seldata, columns=feature_var+['Central.dizziness'], categorical=categval +['Central.dizziness'],groupby='Testset', pval=True,isnull=True)"
   ]
  },
  {
   "cell_type": "code",
   "execution_count": 177,
   "metadata": {},
   "outputs": [
    {
     "data": {
      "text/html": [
       "<div>\n",
       "<style scoped>\n",
       "    .dataframe tbody tr th:only-of-type {\n",
       "        vertical-align: middle;\n",
       "    }\n",
       "\n",
       "    .dataframe tbody tr th {\n",
       "        vertical-align: top;\n",
       "    }\n",
       "\n",
       "    .dataframe thead tr th {\n",
       "        text-align: left;\n",
       "    }\n",
       "\n",
       "    .dataframe thead tr:last-of-type th {\n",
       "        text-align: right;\n",
       "    }\n",
       "</style>\n",
       "<table border=\"1\" class=\"dataframe\">\n",
       "  <thead>\n",
       "    <tr>\n",
       "      <th></th>\n",
       "      <th></th>\n",
       "      <th colspan=\"5\" halign=\"left\">Grouped by Testset</th>\n",
       "    </tr>\n",
       "    <tr>\n",
       "      <th></th>\n",
       "      <th></th>\n",
       "      <th>isnull</th>\n",
       "      <th>False</th>\n",
       "      <th>True</th>\n",
       "      <th>pval</th>\n",
       "      <th>ptest</th>\n",
       "    </tr>\n",
       "    <tr>\n",
       "      <th>variable</th>\n",
       "      <th>level</th>\n",
       "      <th></th>\n",
       "      <th></th>\n",
       "      <th></th>\n",
       "      <th></th>\n",
       "      <th></th>\n",
       "    </tr>\n",
       "  </thead>\n",
       "  <tbody>\n",
       "    <tr>\n",
       "      <th>n</th>\n",
       "      <th></th>\n",
       "      <td></td>\n",
       "      <td>3164</td>\n",
       "      <td>1317</td>\n",
       "      <td></td>\n",
       "      <td></td>\n",
       "    </tr>\n",
       "    <tr>\n",
       "      <th rowspan=\"2\" valign=\"top\">Sex.M1F0</th>\n",
       "      <th>0</th>\n",
       "      <td>0</td>\n",
       "      <td>1873 (59.2)</td>\n",
       "      <td>771 (58.5)</td>\n",
       "      <td>0.709</td>\n",
       "      <td>Chi-squared</td>\n",
       "    </tr>\n",
       "    <tr>\n",
       "      <th>1</th>\n",
       "      <td></td>\n",
       "      <td>1291 (40.8)</td>\n",
       "      <td>546 (41.5)</td>\n",
       "      <td></td>\n",
       "      <td></td>\n",
       "    </tr>\n",
       "    <tr>\n",
       "      <th>age</th>\n",
       "      <th></th>\n",
       "      <td>0</td>\n",
       "      <td>61.6 (11.5)</td>\n",
       "      <td>61.9 (11.8)</td>\n",
       "      <td>0.417</td>\n",
       "      <td>Two Sample T-test</td>\n",
       "    </tr>\n",
       "    <tr>\n",
       "      <th rowspan=\"2\" valign=\"top\">dizziness</th>\n",
       "      <th>0</th>\n",
       "      <td>0</td>\n",
       "      <td>1523 (48.1)</td>\n",
       "      <td>420 (31.9)</td>\n",
       "      <td>&lt;0.001</td>\n",
       "      <td>Chi-squared</td>\n",
       "    </tr>\n",
       "    <tr>\n",
       "      <th>1</th>\n",
       "      <td></td>\n",
       "      <td>1641 (51.9)</td>\n",
       "      <td>897 (68.1)</td>\n",
       "      <td></td>\n",
       "      <td></td>\n",
       "    </tr>\n",
       "    <tr>\n",
       "      <th rowspan=\"2\" valign=\"top\">Hypertension</th>\n",
       "      <th>0</th>\n",
       "      <td>0</td>\n",
       "      <td>1906 (60.2)</td>\n",
       "      <td>846 (64.2)</td>\n",
       "      <td>0.014</td>\n",
       "      <td>Chi-squared</td>\n",
       "    </tr>\n",
       "    <tr>\n",
       "      <th>1</th>\n",
       "      <td></td>\n",
       "      <td>1258 (39.8)</td>\n",
       "      <td>471 (35.8)</td>\n",
       "      <td></td>\n",
       "      <td></td>\n",
       "    </tr>\n",
       "    <tr>\n",
       "      <th rowspan=\"2\" valign=\"top\">Diabetes</th>\n",
       "      <th>0</th>\n",
       "      <td>0</td>\n",
       "      <td>2738 (86.5)</td>\n",
       "      <td>1112 (84.4)</td>\n",
       "      <td>0.073</td>\n",
       "      <td>Chi-squared</td>\n",
       "    </tr>\n",
       "    <tr>\n",
       "      <th>1</th>\n",
       "      <td></td>\n",
       "      <td>426 (13.5)</td>\n",
       "      <td>205 (15.6)</td>\n",
       "      <td></td>\n",
       "      <td></td>\n",
       "    </tr>\n",
       "    <tr>\n",
       "      <th rowspan=\"2\" valign=\"top\">smoking</th>\n",
       "      <th>0</th>\n",
       "      <td>0</td>\n",
       "      <td>2946 (93.1)</td>\n",
       "      <td>1229 (93.3)</td>\n",
       "      <td>0.852</td>\n",
       "      <td>Chi-squared</td>\n",
       "    </tr>\n",
       "    <tr>\n",
       "      <th>1</th>\n",
       "      <td></td>\n",
       "      <td>218 (6.9)</td>\n",
       "      <td>88 (6.7)</td>\n",
       "      <td></td>\n",
       "      <td></td>\n",
       "    </tr>\n",
       "    <tr>\n",
       "      <th rowspan=\"2\" valign=\"top\">coronary.artery.disease</th>\n",
       "      <th>0</th>\n",
       "      <td>0</td>\n",
       "      <td>2747 (86.8)</td>\n",
       "      <td>1162 (88.2)</td>\n",
       "      <td>0.215</td>\n",
       "      <td>Chi-squared</td>\n",
       "    </tr>\n",
       "    <tr>\n",
       "      <th>1</th>\n",
       "      <td></td>\n",
       "      <td>417 (13.2)</td>\n",
       "      <td>155 (11.8)</td>\n",
       "      <td></td>\n",
       "      <td></td>\n",
       "    </tr>\n",
       "    <tr>\n",
       "      <th rowspan=\"2\" valign=\"top\">previous.stroke</th>\n",
       "      <th>0</th>\n",
       "      <td>0</td>\n",
       "      <td>2876 (90.9)</td>\n",
       "      <td>1192 (90.5)</td>\n",
       "      <td>0.724</td>\n",
       "      <td>Chi-squared</td>\n",
       "    </tr>\n",
       "    <tr>\n",
       "      <th>1</th>\n",
       "      <td></td>\n",
       "      <td>288 (9.1)</td>\n",
       "      <td>125 (9.5)</td>\n",
       "      <td></td>\n",
       "      <td></td>\n",
       "    </tr>\n",
       "    <tr>\n",
       "      <th rowspan=\"2\" valign=\"top\">Hyperlipidemia</th>\n",
       "      <th>0</th>\n",
       "      <td>0</td>\n",
       "      <td>2102 (66.4)</td>\n",
       "      <td>878 (66.7)</td>\n",
       "      <td>0.908</td>\n",
       "      <td>Chi-squared</td>\n",
       "    </tr>\n",
       "    <tr>\n",
       "      <th>1</th>\n",
       "      <td></td>\n",
       "      <td>1062 (33.6)</td>\n",
       "      <td>439 (33.3)</td>\n",
       "      <td></td>\n",
       "      <td></td>\n",
       "    </tr>\n",
       "    <tr>\n",
       "      <th>수축기혈압</th>\n",
       "      <th></th>\n",
       "      <td>0</td>\n",
       "      <td>145.5 (22.0)</td>\n",
       "      <td>147.0 (22.7)</td>\n",
       "      <td>0.035</td>\n",
       "      <td>Two Sample T-test</td>\n",
       "    </tr>\n",
       "    <tr>\n",
       "      <th>이완기혈압</th>\n",
       "      <th></th>\n",
       "      <td>0</td>\n",
       "      <td>87.9 (14.1)</td>\n",
       "      <td>88.5 (14.3)</td>\n",
       "      <td>0.149</td>\n",
       "      <td>Two Sample T-test</td>\n",
       "    </tr>\n",
       "    <tr>\n",
       "      <th>맥박</th>\n",
       "      <th></th>\n",
       "      <td>0</td>\n",
       "      <td>74.5 (14.1)</td>\n",
       "      <td>75.0 (14.3)</td>\n",
       "      <td>0.297</td>\n",
       "      <td>Two Sample T-test</td>\n",
       "    </tr>\n",
       "    <tr>\n",
       "      <th rowspan=\"2\" valign=\"top\">Revisit</th>\n",
       "      <th>0</th>\n",
       "      <td>0</td>\n",
       "      <td>3116 (98.5)</td>\n",
       "      <td>1310 (99.5)</td>\n",
       "      <td>0.010</td>\n",
       "      <td>Chi-squared</td>\n",
       "    </tr>\n",
       "    <tr>\n",
       "      <th>1</th>\n",
       "      <td></td>\n",
       "      <td>48 (1.5)</td>\n",
       "      <td>7 (0.5)</td>\n",
       "      <td></td>\n",
       "      <td></td>\n",
       "    </tr>\n",
       "    <tr>\n",
       "      <th rowspan=\"2\" valign=\"top\">Central.dizziness</th>\n",
       "      <th>0</th>\n",
       "      <td>0</td>\n",
       "      <td>2876 (90.9)</td>\n",
       "      <td>1191 (90.4)</td>\n",
       "      <td>0.665</td>\n",
       "      <td>Chi-squared</td>\n",
       "    </tr>\n",
       "    <tr>\n",
       "      <th>1</th>\n",
       "      <td></td>\n",
       "      <td>288 (9.1)</td>\n",
       "      <td>126 (9.6)</td>\n",
       "      <td></td>\n",
       "      <td></td>\n",
       "    </tr>\n",
       "  </tbody>\n",
       "</table>\n",
       "</div><br />[1] Warning, Hartigan's Dip Test reports possible multimodal distributions for: age, 맥박, 수축기혈압, 이완기혈압.<br />[2] Warning, Tukey test indicates far outliers in: 맥박, 수축기혈압, 이완기혈압.<br />[3] Warning, test for normality reports non-normal distributions for: age, 맥박, 수축기혈압, 이완기혈압.<br />"
      ],
      "text/plain": [
       "                              Grouped by Testset                                                       \n",
       "                                          isnull         False          True    pval              ptest\n",
       "variable                level                                                                          \n",
       "n                                                         3164          1317                           \n",
       "Sex.M1F0                0                      0   1873 (59.2)    771 (58.5)   0.709        Chi-squared\n",
       "                        1                          1291 (40.8)    546 (41.5)                           \n",
       "age                                            0   61.6 (11.5)   61.9 (11.8)   0.417  Two Sample T-test\n",
       "dizziness               0                      0   1523 (48.1)    420 (31.9)  <0.001        Chi-squared\n",
       "                        1                          1641 (51.9)    897 (68.1)                           \n",
       "Hypertension            0                      0   1906 (60.2)    846 (64.2)   0.014        Chi-squared\n",
       "                        1                          1258 (39.8)    471 (35.8)                           \n",
       "Diabetes                0                      0   2738 (86.5)   1112 (84.4)   0.073        Chi-squared\n",
       "                        1                           426 (13.5)    205 (15.6)                           \n",
       "smoking                 0                      0   2946 (93.1)   1229 (93.3)   0.852        Chi-squared\n",
       "                        1                            218 (6.9)      88 (6.7)                           \n",
       "coronary.artery.disease 0                      0   2747 (86.8)   1162 (88.2)   0.215        Chi-squared\n",
       "                        1                           417 (13.2)    155 (11.8)                           \n",
       "previous.stroke         0                      0   2876 (90.9)   1192 (90.5)   0.724        Chi-squared\n",
       "                        1                            288 (9.1)     125 (9.5)                           \n",
       "Hyperlipidemia          0                      0   2102 (66.4)    878 (66.7)   0.908        Chi-squared\n",
       "                        1                          1062 (33.6)    439 (33.3)                           \n",
       "수축기혈압                                          0  145.5 (22.0)  147.0 (22.7)   0.035  Two Sample T-test\n",
       "이완기혈압                                          0   87.9 (14.1)   88.5 (14.3)   0.149  Two Sample T-test\n",
       "맥박                                             0   74.5 (14.1)   75.0 (14.3)   0.297  Two Sample T-test\n",
       "Revisit                 0                      0   3116 (98.5)   1310 (99.5)   0.010        Chi-squared\n",
       "                        1                             48 (1.5)       7 (0.5)                           \n",
       "Central.dizziness       0                      0   2876 (90.9)   1191 (90.4)   0.665        Chi-squared\n",
       "                        1                            288 (9.1)     126 (9.6)                           \n",
       "[1] Warning, Hartigan's Dip Test reports possible multimodal distributions for: age, 맥박, 수축기혈압, 이완기혈압.\n",
       "[2] Warning, Tukey test indicates far outliers in: 맥박, 수축기혈압, 이완기혈압.\n",
       "[3] Warning, test for normality reports non-normal distributions for: age, 맥박, 수축기혈압, 이완기혈압."
      ]
     },
     "execution_count": 177,
     "metadata": {},
     "output_type": "execute_result"
    }
   ],
   "source": [
    "tab"
   ]
  },
  {
   "cell_type": "code",
   "execution_count": 178,
   "metadata": {},
   "outputs": [],
   "source": [
    "tab.to_csv(f'{savedir}/../results/tableone/tableone_traintest_withLAB{wl}_{today_datever}.csv')\n",
    "tab12=pd.read_csv(f'{savedir}/../results/tableone/tableone_traintest_withLAB{wl}_{today_datever}.csv')"
   ]
  },
  {
   "cell_type": "code",
   "execution_count": 179,
   "metadata": {},
   "outputs": [
    {
     "data": {
      "text/html": [
       "<div>\n",
       "<style scoped>\n",
       "    .dataframe tbody tr th:only-of-type {\n",
       "        vertical-align: middle;\n",
       "    }\n",
       "\n",
       "    .dataframe tbody tr th {\n",
       "        vertical-align: top;\n",
       "    }\n",
       "\n",
       "    .dataframe thead th {\n",
       "        text-align: right;\n",
       "    }\n",
       "</style>\n",
       "<table border=\"1\" class=\"dataframe\">\n",
       "  <thead>\n",
       "    <tr style=\"text-align: right;\">\n",
       "      <th></th>\n",
       "      <th>Unnamed: 0</th>\n",
       "      <th>Unnamed: 1</th>\n",
       "      <th>Grouped by Testset</th>\n",
       "      <th>Grouped by Testset.1</th>\n",
       "      <th>Grouped by Testset.2</th>\n",
       "      <th>Grouped by Testset.3</th>\n",
       "      <th>Grouped by Testset.4</th>\n",
       "    </tr>\n",
       "  </thead>\n",
       "  <tbody>\n",
       "    <tr>\n",
       "      <th>0</th>\n",
       "      <td>NaN</td>\n",
       "      <td>NaN</td>\n",
       "      <td>isnull</td>\n",
       "      <td>False</td>\n",
       "      <td>True</td>\n",
       "      <td>pval</td>\n",
       "      <td>ptest</td>\n",
       "    </tr>\n",
       "    <tr>\n",
       "      <th>1</th>\n",
       "      <td>variable</td>\n",
       "      <td>level</td>\n",
       "      <td>NaN</td>\n",
       "      <td>NaN</td>\n",
       "      <td>NaN</td>\n",
       "      <td>NaN</td>\n",
       "      <td>NaN</td>\n",
       "    </tr>\n",
       "    <tr>\n",
       "      <th>2</th>\n",
       "      <td>n</td>\n",
       "      <td>NaN</td>\n",
       "      <td>NaN</td>\n",
       "      <td>3164</td>\n",
       "      <td>1317</td>\n",
       "      <td>NaN</td>\n",
       "      <td>NaN</td>\n",
       "    </tr>\n",
       "    <tr>\n",
       "      <th>3</th>\n",
       "      <td>Sex.M1F0</td>\n",
       "      <td>0</td>\n",
       "      <td>0</td>\n",
       "      <td>1873 (59.2)</td>\n",
       "      <td>771 (58.5)</td>\n",
       "      <td>0.709</td>\n",
       "      <td>Chi-squared</td>\n",
       "    </tr>\n",
       "    <tr>\n",
       "      <th>4</th>\n",
       "      <td>Sex.M1F0</td>\n",
       "      <td>1</td>\n",
       "      <td>NaN</td>\n",
       "      <td>1291 (40.8)</td>\n",
       "      <td>546 (41.5)</td>\n",
       "      <td>NaN</td>\n",
       "      <td>NaN</td>\n",
       "    </tr>\n",
       "  </tbody>\n",
       "</table>\n",
       "</div>"
      ],
      "text/plain": [
       "  Unnamed: 0 Unnamed: 1 Grouped by Testset Grouped by Testset.1  \\\n",
       "0        NaN        NaN             isnull                False   \n",
       "1   variable      level                NaN                  NaN   \n",
       "2          n        NaN                NaN                 3164   \n",
       "3   Sex.M1F0          0                  0          1873 (59.2)   \n",
       "4   Sex.M1F0          1                NaN          1291 (40.8)   \n",
       "\n",
       "  Grouped by Testset.2 Grouped by Testset.3 Grouped by Testset.4  \n",
       "0                 True                 pval                ptest  \n",
       "1                  NaN                  NaN                  NaN  \n",
       "2                 1317                  NaN                  NaN  \n",
       "3           771 (58.5)                0.709          Chi-squared  \n",
       "4           546 (41.5)                  NaN                  NaN  "
      ]
     },
     "execution_count": 179,
     "metadata": {},
     "output_type": "execute_result"
    }
   ],
   "source": [
    "tab12.head()"
   ]
  },
  {
   "cell_type": "code",
   "execution_count": 180,
   "metadata": {},
   "outputs": [],
   "source": [
    "idx0=np.where((tab12.iloc[:,1]=='0.0')|(tab12.iloc[:,1]=='0'))[0]\n",
    "v=tab12.loc[(idx0).tolist(),'Grouped by Testset'].copy()\n",
    "v.index=v.index+1\n",
    "tab12.loc[(idx0+1),'Grouped by Testset']=v\n",
    "v=tab12.loc[(idx0).tolist(),'Grouped by Testset.3'].copy()\n",
    "v.index=v.index+1\n",
    "tab12.loc[(idx0+1),'Grouped by Testset.3']=v\n",
    "v=tab12.loc[(idx0).tolist(),'Grouped by Testset.4'].copy()\n",
    "v.index=v.index+1\n",
    "tab12.loc[(idx0+1),'Grouped by Testset.4']=v\n",
    "tab12=tab12[~tab12.index.isin(idx0)]\n",
    "tab12['Unnamed: 1']=tab12['Unnamed: 1'].replace('1.0','')\n",
    "tab12['Unnamed: 1']=tab12['Unnamed: 1'].replace('1','')\n",
    "\n",
    "contidx=tab12['Grouped by Testset.4']=='Two Sample T-test'\n",
    "for cn in ['Grouped by Testset.1','Grouped by Testset.2']:\n",
    "    tab12.loc[contidx,cn]=tab12.loc[contidx,cn].replace('\\(',u'\\u00b1',regex=True)\n",
    "    tab12.loc[contidx,cn]=tab12.loc[contidx,cn].replace('\\)','',regex=True)\n",
    "tab12=tab12.loc[(~(tab12['Unnamed: 0']=='variable')),]\n",
    "nd=tab12.iloc[1,3:5].astype(int).sum()\n",
    "tab12.to_excel(f'{savedir}/../results/tableone/tableone_traintest_N{nd}_{today_datever}.xlsx',index=False)"
   ]
  },
  {
   "cell_type": "code",
   "execution_count": 195,
   "metadata": {
    "scrolled": true
   },
   "outputs": [
    {
     "data": {
      "text/plain": [
       "['Sex.M1F0',\n",
       " 'age',\n",
       " 'dizziness',\n",
       " 'Hypertension',\n",
       " 'Diabetes',\n",
       " 'smoking',\n",
       " 'coronary.artery.disease',\n",
       " 'previous.stroke',\n",
       " 'Hyperlipidemia',\n",
       " '수축기혈압',\n",
       " '이완기혈압',\n",
       " '맥박',\n",
       " 'Revisit']"
      ]
     },
     "execution_count": 195,
     "metadata": {},
     "output_type": "execute_result"
    }
   ],
   "source": [
    "feature_var"
   ]
  },
  {
   "cell_type": "code",
   "execution_count": 191,
   "metadata": {
    "scrolled": true
   },
   "outputs": [],
   "source": [
    "tab2=TableOne(data=seldata.loc[seldata.Testset,:], columns=feature_var+['Central.dizziness'], categorical=categval ,groupby='Central.dizziness', pval=True,isnull=True)"
   ]
  },
  {
   "cell_type": "code",
   "execution_count": 192,
   "metadata": {},
   "outputs": [
    {
     "data": {
      "text/html": [
       "<div>\n",
       "<style scoped>\n",
       "    .dataframe tbody tr th:only-of-type {\n",
       "        vertical-align: middle;\n",
       "    }\n",
       "\n",
       "    .dataframe tbody tr th {\n",
       "        vertical-align: top;\n",
       "    }\n",
       "\n",
       "    .dataframe thead tr th {\n",
       "        text-align: left;\n",
       "    }\n",
       "\n",
       "    .dataframe thead tr:last-of-type th {\n",
       "        text-align: right;\n",
       "    }\n",
       "</style>\n",
       "<table border=\"1\" class=\"dataframe\">\n",
       "  <thead>\n",
       "    <tr>\n",
       "      <th></th>\n",
       "      <th></th>\n",
       "      <th colspan=\"5\" halign=\"left\">Grouped by Central.dizziness</th>\n",
       "    </tr>\n",
       "    <tr>\n",
       "      <th></th>\n",
       "      <th></th>\n",
       "      <th>isnull</th>\n",
       "      <th>0</th>\n",
       "      <th>1</th>\n",
       "      <th>pval</th>\n",
       "      <th>ptest</th>\n",
       "    </tr>\n",
       "    <tr>\n",
       "      <th>variable</th>\n",
       "      <th>level</th>\n",
       "      <th></th>\n",
       "      <th></th>\n",
       "      <th></th>\n",
       "      <th></th>\n",
       "      <th></th>\n",
       "    </tr>\n",
       "  </thead>\n",
       "  <tbody>\n",
       "    <tr>\n",
       "      <th>n</th>\n",
       "      <th></th>\n",
       "      <td></td>\n",
       "      <td>4067</td>\n",
       "      <td>414</td>\n",
       "      <td></td>\n",
       "      <td></td>\n",
       "    </tr>\n",
       "    <tr>\n",
       "      <th rowspan=\"2\" valign=\"top\">Sex.M1F0</th>\n",
       "      <th>0</th>\n",
       "      <td>0</td>\n",
       "      <td>2475 (60.9)</td>\n",
       "      <td>169 (40.8)</td>\n",
       "      <td>&lt;0.001</td>\n",
       "      <td>Chi-squared</td>\n",
       "    </tr>\n",
       "    <tr>\n",
       "      <th>1</th>\n",
       "      <td></td>\n",
       "      <td>1592 (39.1)</td>\n",
       "      <td>245 (59.2)</td>\n",
       "      <td></td>\n",
       "      <td></td>\n",
       "    </tr>\n",
       "    <tr>\n",
       "      <th>age</th>\n",
       "      <th></th>\n",
       "      <td>0</td>\n",
       "      <td>61.3 (11.5)</td>\n",
       "      <td>66.1 (11.8)</td>\n",
       "      <td>&lt;0.001</td>\n",
       "      <td>Two Sample T-test</td>\n",
       "    </tr>\n",
       "    <tr>\n",
       "      <th rowspan=\"2\" valign=\"top\">dizziness</th>\n",
       "      <th>0</th>\n",
       "      <td>0</td>\n",
       "      <td>1856 (45.6)</td>\n",
       "      <td>87 (21.0)</td>\n",
       "      <td>&lt;0.001</td>\n",
       "      <td>Chi-squared</td>\n",
       "    </tr>\n",
       "    <tr>\n",
       "      <th>1</th>\n",
       "      <td></td>\n",
       "      <td>2211 (54.4)</td>\n",
       "      <td>327 (79.0)</td>\n",
       "      <td></td>\n",
       "      <td></td>\n",
       "    </tr>\n",
       "    <tr>\n",
       "      <th rowspan=\"2\" valign=\"top\">Hypertension</th>\n",
       "      <th>0</th>\n",
       "      <td>0</td>\n",
       "      <td>2536 (62.4)</td>\n",
       "      <td>216 (52.2)</td>\n",
       "      <td>&lt;0.001</td>\n",
       "      <td>Chi-squared</td>\n",
       "    </tr>\n",
       "    <tr>\n",
       "      <th>1</th>\n",
       "      <td></td>\n",
       "      <td>1531 (37.6)</td>\n",
       "      <td>198 (47.8)</td>\n",
       "      <td></td>\n",
       "      <td></td>\n",
       "    </tr>\n",
       "    <tr>\n",
       "      <th rowspan=\"2\" valign=\"top\">Diabetes</th>\n",
       "      <th>0</th>\n",
       "      <td>0</td>\n",
       "      <td>3536 (86.9)</td>\n",
       "      <td>314 (75.8)</td>\n",
       "      <td>&lt;0.001</td>\n",
       "      <td>Chi-squared</td>\n",
       "    </tr>\n",
       "    <tr>\n",
       "      <th>1</th>\n",
       "      <td></td>\n",
       "      <td>531 (13.1)</td>\n",
       "      <td>100 (24.2)</td>\n",
       "      <td></td>\n",
       "      <td></td>\n",
       "    </tr>\n",
       "    <tr>\n",
       "      <th rowspan=\"2\" valign=\"top\">smoking</th>\n",
       "      <th>0</th>\n",
       "      <td>0</td>\n",
       "      <td>3802 (93.5)</td>\n",
       "      <td>373 (90.1)</td>\n",
       "      <td>0.012</td>\n",
       "      <td>Chi-squared</td>\n",
       "    </tr>\n",
       "    <tr>\n",
       "      <th>1</th>\n",
       "      <td></td>\n",
       "      <td>265 (6.5)</td>\n",
       "      <td>41 (9.9)</td>\n",
       "      <td></td>\n",
       "      <td></td>\n",
       "    </tr>\n",
       "    <tr>\n",
       "      <th rowspan=\"2\" valign=\"top\">coronary.artery.disease</th>\n",
       "      <th>0</th>\n",
       "      <td>0</td>\n",
       "      <td>3572 (87.8)</td>\n",
       "      <td>337 (81.4)</td>\n",
       "      <td>&lt;0.001</td>\n",
       "      <td>Chi-squared</td>\n",
       "    </tr>\n",
       "    <tr>\n",
       "      <th>1</th>\n",
       "      <td></td>\n",
       "      <td>495 (12.2)</td>\n",
       "      <td>77 (18.6)</td>\n",
       "      <td></td>\n",
       "      <td></td>\n",
       "    </tr>\n",
       "    <tr>\n",
       "      <th rowspan=\"2\" valign=\"top\">previous.stroke</th>\n",
       "      <th>0</th>\n",
       "      <td>0</td>\n",
       "      <td>3754 (92.3)</td>\n",
       "      <td>314 (75.8)</td>\n",
       "      <td>&lt;0.001</td>\n",
       "      <td>Chi-squared</td>\n",
       "    </tr>\n",
       "    <tr>\n",
       "      <th>1</th>\n",
       "      <td></td>\n",
       "      <td>313 (7.7)</td>\n",
       "      <td>100 (24.2)</td>\n",
       "      <td></td>\n",
       "      <td></td>\n",
       "    </tr>\n",
       "    <tr>\n",
       "      <th rowspan=\"2\" valign=\"top\">Hyperlipidemia</th>\n",
       "      <th>0</th>\n",
       "      <td>0</td>\n",
       "      <td>2699 (66.4)</td>\n",
       "      <td>281 (67.9)</td>\n",
       "      <td>0.571</td>\n",
       "      <td>Chi-squared</td>\n",
       "    </tr>\n",
       "    <tr>\n",
       "      <th>1</th>\n",
       "      <td></td>\n",
       "      <td>1368 (33.6)</td>\n",
       "      <td>133 (32.1)</td>\n",
       "      <td></td>\n",
       "      <td></td>\n",
       "    </tr>\n",
       "    <tr>\n",
       "      <th>수축기혈압</th>\n",
       "      <th></th>\n",
       "      <td>0</td>\n",
       "      <td>145.7 (22.0)</td>\n",
       "      <td>148.3 (23.6)</td>\n",
       "      <td>0.032</td>\n",
       "      <td>Two Sample T-test</td>\n",
       "    </tr>\n",
       "    <tr>\n",
       "      <th>이완기혈압</th>\n",
       "      <th></th>\n",
       "      <td>0</td>\n",
       "      <td>88.1 (14.0)</td>\n",
       "      <td>87.7 (15.8)</td>\n",
       "      <td>0.584</td>\n",
       "      <td>Two Sample T-test</td>\n",
       "    </tr>\n",
       "    <tr>\n",
       "      <th>맥박</th>\n",
       "      <th></th>\n",
       "      <td>0</td>\n",
       "      <td>74.6 (14.0)</td>\n",
       "      <td>75.2 (15.1)</td>\n",
       "      <td>0.425</td>\n",
       "      <td>Two Sample T-test</td>\n",
       "    </tr>\n",
       "    <tr>\n",
       "      <th rowspan=\"2\" valign=\"top\">Revisit</th>\n",
       "      <th>0</th>\n",
       "      <td>0</td>\n",
       "      <td>4020 (98.8)</td>\n",
       "      <td>406 (98.1)</td>\n",
       "      <td>0.257</td>\n",
       "      <td>Chi-squared</td>\n",
       "    </tr>\n",
       "    <tr>\n",
       "      <th>1</th>\n",
       "      <td></td>\n",
       "      <td>47 (1.2)</td>\n",
       "      <td>8 (1.9)</td>\n",
       "      <td></td>\n",
       "      <td></td>\n",
       "    </tr>\n",
       "  </tbody>\n",
       "</table>\n",
       "</div><br />[1] Warning, Hartigan's Dip Test reports possible multimodal distributions for: age, 맥박, 수축기혈압, 이완기혈압.<br />[2] Warning, Tukey test indicates far outliers in: 맥박, 이완기혈압.<br />[3] Warning, test for normality reports non-normal distributions for: age, 맥박, 수축기혈압, 이완기혈압.<br />"
      ],
      "text/plain": [
       "                              Grouped by Central.dizziness                                                       \n",
       "                                                    isnull             0             1    pval              ptest\n",
       "variable                level                                                                                    \n",
       "n                                                                   4067           414                           \n",
       "Sex.M1F0                0                                0   2475 (60.9)    169 (40.8)  <0.001        Chi-squared\n",
       "                        1                                    1592 (39.1)    245 (59.2)                           \n",
       "age                                                      0   61.3 (11.5)   66.1 (11.8)  <0.001  Two Sample T-test\n",
       "dizziness               0                                0   1856 (45.6)     87 (21.0)  <0.001        Chi-squared\n",
       "                        1                                    2211 (54.4)    327 (79.0)                           \n",
       "Hypertension            0                                0   2536 (62.4)    216 (52.2)  <0.001        Chi-squared\n",
       "                        1                                    1531 (37.6)    198 (47.8)                           \n",
       "Diabetes                0                                0   3536 (86.9)    314 (75.8)  <0.001        Chi-squared\n",
       "                        1                                     531 (13.1)    100 (24.2)                           \n",
       "smoking                 0                                0   3802 (93.5)    373 (90.1)   0.012        Chi-squared\n",
       "                        1                                      265 (6.5)      41 (9.9)                           \n",
       "coronary.artery.disease 0                                0   3572 (87.8)    337 (81.4)  <0.001        Chi-squared\n",
       "                        1                                     495 (12.2)     77 (18.6)                           \n",
       "previous.stroke         0                                0   3754 (92.3)    314 (75.8)  <0.001        Chi-squared\n",
       "                        1                                      313 (7.7)    100 (24.2)                           \n",
       "Hyperlipidemia          0                                0   2699 (66.4)    281 (67.9)   0.571        Chi-squared\n",
       "                        1                                    1368 (33.6)    133 (32.1)                           \n",
       "수축기혈압                                                    0  145.7 (22.0)  148.3 (23.6)   0.032  Two Sample T-test\n",
       "이완기혈압                                                    0   88.1 (14.0)   87.7 (15.8)   0.584  Two Sample T-test\n",
       "맥박                                                       0   74.6 (14.0)   75.2 (15.1)   0.425  Two Sample T-test\n",
       "Revisit                 0                                0   4020 (98.8)    406 (98.1)   0.257        Chi-squared\n",
       "                        1                                       47 (1.2)       8 (1.9)                           \n",
       "[1] Warning, Hartigan's Dip Test reports possible multimodal distributions for: age, 맥박, 수축기혈압, 이완기혈압.\n",
       "[2] Warning, Tukey test indicates far outliers in: 맥박, 이완기혈압.\n",
       "[3] Warning, test for normality reports non-normal distributions for: age, 맥박, 수축기혈압, 이완기혈압."
      ]
     },
     "execution_count": 192,
     "metadata": {},
     "output_type": "execute_result"
    }
   ],
   "source": [
    "tab2"
   ]
  },
  {
   "cell_type": "code",
   "execution_count": 193,
   "metadata": {},
   "outputs": [],
   "source": [
    "tab2.to_csv(f'{savedir}/../results/dnn/tableone_withLAB{wl}_{today_datever}.csv')\n",
    "tab12=pd.read_csv(f'{savedir}/../results/dnn/tableone_withLAB{wl}_{today_datever}.csv')"
   ]
  },
  {
   "cell_type": "code",
   "execution_count": 194,
   "metadata": {},
   "outputs": [],
   "source": [
    "idx0=np.where((tab12.iloc[:,1]=='0.0')|(tab12.iloc[:,1]=='0'))[0]\n",
    "v=tab12.loc[(idx0).tolist(),'Grouped by Central.dizziness'].copy()\n",
    "v.index=v.index+1\n",
    "tab12.loc[(idx0+1),'Grouped by Central.dizziness']=v\n",
    "v=tab12.loc[(idx0).tolist(),'Grouped by Central.dizziness.3'].copy()\n",
    "v.index=v.index+1\n",
    "tab12.loc[(idx0+1),'Grouped by Central.dizziness.3']=v\n",
    "v=tab12.loc[(idx0).tolist(),'Grouped by Central.dizziness.4'].copy()\n",
    "v.index=v.index+1\n",
    "tab12.loc[(idx0+1),'Grouped by Central.dizziness.4']=v\n",
    "tab12=tab12[~tab12.index.isin(idx0)]\n",
    "tab12['Unnamed: 1']=tab12['Unnamed: 1'].replace('1.0','')\n",
    "tab12['Unnamed: 1']=tab12['Unnamed: 1'].replace('1','')\n",
    "\n",
    "contidx=tab12['Grouped by Central.dizziness.4']=='Two Sample T-test'\n",
    "for cn in ['Grouped by Central.dizziness.1','Grouped by Central.dizziness.2']:\n",
    "    tab12.loc[contidx,cn]=tab12.loc[contidx,cn].replace('\\(',u'\\u00b1',regex=True)\n",
    "    tab12.loc[contidx,cn]=tab12.loc[contidx,cn].replace('\\)','',regex=True)\n",
    "tab12=tab12.loc[(~(tab12['Unnamed: 0']=='variable')),]\n",
    "nd=tab12.iloc[1,3:5].astype(int).sum()\n",
    "tab12.to_excel(f'{savedir}/../results/tableone/tableone_target_N{nd}_{today_datever}.xlsx',index=False)"
   ]
  },
  {
   "cell_type": "code",
   "execution_count": 186,
   "metadata": {
    "scrolled": true
   },
   "outputs": [
    {
     "ename": "TypeError",
     "evalue": "string indices must be integers",
     "output_type": "error",
     "traceback": [
      "\u001b[0;31m---------------------------------------------------------------------------\u001b[0m",
      "\u001b[0;31mTypeError\u001b[0m                                 Traceback (most recent call last)",
      "\u001b[0;32m<ipython-input-186-f86fcc3fe76a>\u001b[0m in \u001b[0;36m<module>\u001b[0;34m\u001b[0m\n\u001b[0;32m----> 1\u001b[0;31m \u001b[0mpv\u001b[0m\u001b[0;34m=\u001b[0m\u001b[0mtmp\u001b[0m\u001b[0;34m[\u001b[0m\u001b[0;34m'Grouped by Central.dizziness.3'\u001b[0m\u001b[0;34m]\u001b[0m\u001b[0;34m.\u001b[0m\u001b[0mapply\u001b[0m\u001b[0;34m(\u001b[0m\u001b[0mstr2float\u001b[0m\u001b[0;34m)\u001b[0m\u001b[0;34m\u001b[0m\u001b[0;34m\u001b[0m\u001b[0m\n\u001b[0m\u001b[1;32m      2\u001b[0m \u001b[0msig_flag\u001b[0m\u001b[0;34m=\u001b[0m\u001b[0;34m(\u001b[0m\u001b[0mtmp\u001b[0m\u001b[0;34m[\u001b[0m\u001b[0;34m'Unnamed: 0'\u001b[0m\u001b[0;34m]\u001b[0m\u001b[0;34m!=\u001b[0m\u001b[0;34m'의식상태'\u001b[0m\u001b[0;34m)\u001b[0m\u001b[0;34m&\u001b[0m\u001b[0;34m(\u001b[0m\u001b[0;34m(\u001b[0m\u001b[0mpv\u001b[0m\u001b[0;34m<\u001b[0m\u001b[0;36m0.05\u001b[0m\u001b[0;34m)\u001b[0m\u001b[0;34m|\u001b[0m\u001b[0;34m(\u001b[0m\u001b[0mtmp\u001b[0m\u001b[0;34m[\u001b[0m\u001b[0;34m'Grouped by Central.dizziness.3'\u001b[0m\u001b[0;34m]\u001b[0m\u001b[0;34m==\u001b[0m\u001b[0;34m'<0.001'\u001b[0m\u001b[0;34m)\u001b[0m\u001b[0;34m)\u001b[0m\u001b[0;34m\u001b[0m\u001b[0;34m\u001b[0m\u001b[0m\n\u001b[1;32m      3\u001b[0m \u001b[0mtmp\u001b[0m\u001b[0;34m.\u001b[0m\u001b[0mloc\u001b[0m\u001b[0;34m[\u001b[0m\u001b[0msig_flag\u001b[0m\u001b[0;34m,\u001b[0m\u001b[0;34m'Unnamed: 0'\u001b[0m\u001b[0;34m]\u001b[0m\u001b[0;34m.\u001b[0m\u001b[0mto_csv\u001b[0m\u001b[0;34m(\u001b[0m\u001b[0;34m'%ssigvar_withLAB%s_%s.csv'\u001b[0m\u001b[0;34m%\u001b[0m\u001b[0;34m(\u001b[0m\u001b[0msavedir\u001b[0m\u001b[0;34m,\u001b[0m\u001b[0mwl\u001b[0m\u001b[0;34m,\u001b[0m\u001b[0mtoday_datever\u001b[0m\u001b[0;34m)\u001b[0m\u001b[0;34m,\u001b[0m\u001b[0mindex\u001b[0m\u001b[0;34m=\u001b[0m\u001b[0;32mFalse\u001b[0m\u001b[0;34m,\u001b[0m \u001b[0mheader\u001b[0m\u001b[0;34m=\u001b[0m\u001b[0;34m[\u001b[0m\u001b[0;34m'var'\u001b[0m\u001b[0;34m]\u001b[0m\u001b[0;34m)\u001b[0m\u001b[0;34m\u001b[0m\u001b[0;34m\u001b[0m\u001b[0m\n",
      "\u001b[0;31mTypeError\u001b[0m: string indices must be integers"
     ]
    }
   ],
   "source": [
    "pv=tmp['Grouped by Central.dizziness.3'].apply(str2float)\n",
    "sig_flag=(tmp['Unnamed: 0']!='의식상태')&((pv<0.05)|(tmp['Grouped by Central.dizziness.3']=='<0.001'))\n",
    "tmp.loc[sig_flag,'Unnamed: 0'].to_csv('%ssigvar_withLAB%s_%s.csv'%(savedir,wl,today_datever),index=False, header=['var'])"
   ]
  },
  {
   "cell_type": "code",
   "execution_count": null,
   "metadata": {},
   "outputs": [],
   "source": [
    "sum(sig_flag)"
   ]
  },
  {
   "cell_type": "code",
   "execution_count": null,
   "metadata": {},
   "outputs": [],
   "source": [
    "pv.loc[sig_flag]"
   ]
  },
  {
   "cell_type": "code",
   "execution_count": null,
   "metadata": {
    "scrolled": true
   },
   "outputs": [],
   "source": [
    "tmp.loc[sig_flag,'Unnamed: 0']"
   ]
  },
  {
   "cell_type": "code",
   "execution_count": null,
   "metadata": {},
   "outputs": [],
   "source": [
    "labvar=pd.Series(total_var)[~pd.Series(total_var).isin(feature_var)].to_list()"
   ]
  },
  {
   "cell_type": "code",
   "execution_count": null,
   "metadata": {},
   "outputs": [],
   "source": [
    "TableOne(data=seldata.loc[seldata.Train==True,:], columns=labvar, categorical=[], groupby='Central.dizziness', pval=True, isnull=True)"
   ]
  },
  {
   "cell_type": "code",
   "execution_count": null,
   "metadata": {},
   "outputs": [],
   "source": [
    "seldata.head()"
   ]
  },
  {
   "cell_type": "code",
   "execution_count": null,
   "metadata": {},
   "outputs": [],
   "source": [
    "sum(seldata.loc[seldata.Train==True,'ID'].isin(seldata.loc[seldata.Train==False,'ID']))"
   ]
  },
  {
   "cell_type": "code",
   "execution_count": null,
   "metadata": {},
   "outputs": [],
   "source": [
    "seldata.loc[:,seldata.columns.isin(['registry_no']+mrs_var)].to_csv('/home/hdd1/Projects/mRSprediction/data/mRSseldata.csv' ,index=False)"
   ]
  },
  {
   "cell_type": "code",
   "execution_count": null,
   "metadata": {},
   "outputs": [],
   "source": [
    "seldata.loc[:,seldata.columns.isin(['registry_no']+mrs_var)].head()"
   ]
  },
  {
   "cell_type": "code",
   "execution_count": null,
   "metadata": {},
   "outputs": [],
   "source": []
  },
  {
   "cell_type": "markdown",
   "metadata": {},
   "source": [
    "### Revisited patients"
   ]
  },
  {
   "cell_type": "code",
   "execution_count": null,
   "metadata": {},
   "outputs": [],
   "source": [
    "tmp=dizdata.ID.value_counts()\n",
    "revisitID=tmp[tmp>1].index"
   ]
  },
  {
   "cell_type": "code",
   "execution_count": null,
   "metadata": {},
   "outputs": [],
   "source": [
    "len(revisitID)"
   ]
  },
  {
   "cell_type": "code",
   "execution_count": null,
   "metadata": {
    "scrolled": true
   },
   "outputs": [],
   "source": [
    "tmp.loc[tmp['Revisit']==1,:]['Central.dizziness'].value_counts()/sum(tmp['Revisit']==1)"
   ]
  },
  {
   "cell_type": "code",
   "execution_count": null,
   "metadata": {
    "scrolled": true
   },
   "outputs": [],
   "source": [
    "dizdata.loc[dizdata['Revisit']==0,:]['Central.dizziness'].value_counts()/sum(dizdata['Revisit']==0)"
   ]
  },
  {
   "cell_type": "code",
   "execution_count": null,
   "metadata": {},
   "outputs": [],
   "source": [
    "dizdata2=dizdata.copy()\n",
    "dizdata2['Testset']=dizdata2.arrival_date>'2012-10-03 12:28:00'\n",
    "trainID=np.unique(dizdata2.loc[~dizdata2['Testset'],:]['ID'])\n",
    "tmp2=dizdata2.loc[(~dizdata2.ID.isin(trainID))|(~dizdata2.Testset),:] #excluded patients in Testset, which visited before 2012-10-13 12:28:00"
   ]
  },
  {
   "cell_type": "code",
   "execution_count": null,
   "metadata": {
    "scrolled": false
   },
   "outputs": [],
   "source": [
    "len(np.unique(dizdata.loc[dizdata.Revisit==1]['ID']))"
   ]
  },
  {
   "cell_type": "code",
   "execution_count": null,
   "metadata": {
    "scrolled": true
   },
   "outputs": [],
   "source": [
    "pd.crosstab(dizdata2.Testset,dizdata2.ID.isin(trainID))"
   ]
  },
  {
   "cell_type": "code",
   "execution_count": null,
   "metadata": {},
   "outputs": [],
   "source": [
    "print(len(dizdata2))"
   ]
  },
  {
   "cell_type": "code",
   "execution_count": null,
   "metadata": {},
   "outputs": [],
   "source": [
    "print(len(tmp2))\n",
    "print(tmp2.Revisit.value_counts())\n",
    "print(tmp2.Testset.value_counts())"
   ]
  },
  {
   "cell_type": "code",
   "execution_count": null,
   "metadata": {
    "scrolled": true
   },
   "outputs": [],
   "source": [
    "tmp=dizdata.loc[dizdata.ID.isin(revisitID),:]\n",
    "tmp['Testset']=tmp.arrival_date>'2012-10-03 12:28:00'\n",
    "tmp.sort_values(['ID', 'arrival_date'], ascending=[1, 1])"
   ]
  },
  {
   "cell_type": "code",
   "execution_count": null,
   "metadata": {},
   "outputs": [],
   "source": [
    "tmp['row']=1"
   ]
  },
  {
   "cell_type": "code",
   "execution_count": null,
   "metadata": {},
   "outputs": [],
   "source": [
    "print(sum(tmp.Testset==1))\n",
    "print(sum(tmp.Testset==0))"
   ]
  },
  {
   "cell_type": "code",
   "execution_count": null,
   "metadata": {
    "scrolled": true
   },
   "outputs": [],
   "source": [
    "tmp[['ID','Testset','row','Central.dizziness']].groupby(by=['ID','Testset']).sum()"
   ]
  },
  {
   "cell_type": "markdown",
   "metadata": {},
   "source": [
    "Notes"
   ]
  },
  {
   "cell_type": "code",
   "execution_count": null,
   "metadata": {},
   "outputs": [],
   "source": [
    "import pandas as pd \n",
    "import numpy as np "
   ]
  },
  {
   "cell_type": "code",
   "execution_count": null,
   "metadata": {},
   "outputs": [],
   "source": [
    "tmp = pd.read_csv('/home/hdd1/Projects/dizziness/data/DizzinessDataset_withTestsetLabel_191127.csv')"
   ]
  },
  {
   "cell_type": "code",
   "execution_count": null,
   "metadata": {},
   "outputs": [],
   "source": [
    "tmp.head()"
   ]
  },
  {
   "cell_type": "code",
   "execution_count": null,
   "metadata": {},
   "outputs": [],
   "source": [
    "tmp.loc[tmp.Testset==1,:].ID.shape"
   ]
  },
  {
   "cell_type": "code",
   "execution_count": null,
   "metadata": {
    "scrolled": true
   },
   "outputs": [],
   "source": [
    "tmp.loc[tmp.Testset==1,:].ID.unique().shape"
   ]
  },
  {
   "cell_type": "code",
   "execution_count": null,
   "metadata": {},
   "outputs": [],
   "source": [
    "tmp.loc[tmp.Testset==0,:].ID.shape"
   ]
  },
  {
   "cell_type": "code",
   "execution_count": null,
   "metadata": {},
   "outputs": [],
   "source": [
    "tmp.loc[tmp.Testset==0,:].ID.unique().shape"
   ]
  },
  {
   "cell_type": "code",
   "execution_count": null,
   "metadata": {},
   "outputs": [],
   "source": [
    "tmp.loc[tmp.Testset==0,:].ID.value_counts().value_counts()"
   ]
  },
  {
   "cell_type": "code",
   "execution_count": null,
   "metadata": {},
   "outputs": [],
   "source": [
    "tmp.loc[tmp.Testset==1,:].ID.value_counts().value_counts()"
   ]
  },
  {
   "cell_type": "code",
   "execution_count": null,
   "metadata": {},
   "outputs": [],
   "source": [
    "ts=tmp.loc[tmp.Testset==1,:]\n",
    "tsrm=ts.loc[~ts.ID.isin(intersectID)]"
   ]
  },
  {
   "cell_type": "code",
   "execution_count": null,
   "metadata": {},
   "outputs": [],
   "source": [
    "tsrm.ID.unique().shape"
   ]
  },
  {
   "cell_type": "code",
   "execution_count": null,
   "metadata": {},
   "outputs": [],
   "source": [
    "tsrm.ID.value_counts().value_counts()"
   ]
  },
  {
   "cell_type": "code",
   "execution_count": null,
   "metadata": {
    "scrolled": true
   },
   "outputs": [],
   "source": [
    "np.where(tmp.loc[tmp.Testset==0,:].ID.isin(tmp.loc[tmp.Testset==1,:].ID))"
   ]
  },
  {
   "cell_type": "code",
   "execution_count": null,
   "metadata": {
    "scrolled": true
   },
   "outputs": [],
   "source": [
    "intersectindex"
   ]
  },
  {
   "cell_type": "code",
   "execution_count": null,
   "metadata": {
    "scrolled": false
   },
   "outputs": [],
   "source": [
    "intersectindex=np.where(tmp.loc[tmp.Testset==0,:].ID.isin(tmp.loc[tmp.Testset==1,:].ID))[0]\n",
    "intersectID=tmp.loc[intersectindex,:].ID"
   ]
  },
  {
   "cell_type": "code",
   "execution_count": null,
   "metadata": {},
   "outputs": [],
   "source": [
    "intersectDF=tmp.loc[tmp.ID.isin(intersectID)]"
   ]
  },
  {
   "cell_type": "code",
   "execution_count": null,
   "metadata": {},
   "outputs": [],
   "source": [
    "intersectDF.sort_values(['ID','arrival_date']).to_csv('/home/hdd1/Projects/dizziness/data/CD_revisitpat_200316.csv')"
   ]
  },
  {
   "cell_type": "code",
   "execution_count": null,
   "metadata": {},
   "outputs": [],
   "source": []
  }
 ],
 "metadata": {
  "kernelspec": {
   "display_name": "Python 3",
   "language": "python",
   "name": "python3"
  },
  "language_info": {
   "codemirror_mode": {
    "name": "ipython",
    "version": 3
   },
   "file_extension": ".py",
   "mimetype": "text/x-python",
   "name": "python",
   "nbconvert_exporter": "python",
   "pygments_lexer": "ipython3",
   "version": "3.7.3"
  }
 },
 "nbformat": 4,
 "nbformat_minor": 2
}
