{
 "cells": [
  {
   "cell_type": "code",
   "execution_count": 21,
   "metadata": {},
   "outputs": [],
   "source": [
    "wkdir='.'\n",
    "moddir='../my_utils/my_module'\n",
    "import sys\n",
    "sys.path.append(moddir)\n",
    "\n",
    "import numpy as np\n",
    "import matplotlib.pyplot as plt\n",
    "import pandas as pd\n",
    "import pickle\n",
    "from my_utils import * \n",
    "from dnn_model_tempscaling import *\n",
    "from os import makedirs\n",
    "import datetime\n",
    "import pickle\n",
    "import argparse\n",
    "import time\n",
    "from sklearn.metrics import f1_score, make_scorer\n",
    "from skorch.helper import predefined_split\n",
    "from sklearn.model_selection import train_test_split\n",
    "from sklearn.metrics import balanced_accuracy_score\n",
    "from sklearn.metrics import roc_curve "
   ]
  },
  {
   "cell_type": "code",
   "execution_count": 22,
   "metadata": {
    "scrolled": true
   },
   "outputs": [
    {
     "name": "stdout",
     "output_type": "stream",
     "text": [
      "datetime = 2020-07-16 10:24:53.721466\n"
     ]
    }
   ],
   "source": [
    "today_datever=datetime.datetime.now().strftime(\"%y%m%d\")\n",
    "print(f'datetime = {datetime.datetime.now()}')\n",
    "\n",
    "savedir=f'{wkdir}/results/ml_'+today_datever\n",
    "\n",
    "makedirs(savedir,exist_ok=True)\n",
    "\n",
    "\n",
    "onehot=False\n"
   ]
  },
  {
   "cell_type": "code",
   "execution_count": 23,
   "metadata": {},
   "outputs": [],
   "source": [
    "import pickle\n",
    "\n",
    "with open(\"/home/hdd1/Projects/dizziness/results/model/dizziness_catboost_AUC7379_ModelXtrainXtestYtrainYtestwithlabFalse_200326.pkl\", 'rb') as input:\n",
    "    [gbm_model,X_train, X_test, y_train, y_test]  = pickle.load(input)"
   ]
  },
  {
   "cell_type": "code",
   "execution_count": 24,
   "metadata": {},
   "outputs": [
    {
     "data": {
      "text/plain": [
       "['/home/hdd1/Projects/dizziness',\n",
       " '/home/skjang/anaconda3/envs/skorch/lib/python37.zip',\n",
       " '/home/skjang/anaconda3/envs/skorch/lib/python3.7',\n",
       " '/home/skjang/anaconda3/envs/skorch/lib/python3.7/lib-dynload',\n",
       " '',\n",
       " '/home/skjang/.local/lib/python3.7/site-packages',\n",
       " '/home/skjang/anaconda3/envs/skorch/lib/python3.7/site-packages',\n",
       " '/home/skjang/anaconda3/envs/skorch/lib/python3.7/site-packages/skorch-0.6.1.dev0-py3.7.egg',\n",
       " '/home/skjang/anaconda3/envs/skorch/lib/python3.7/site-packages/IPython/extensions',\n",
       " '/home/skjang/.ipython',\n",
       " '../my_utils/my_module',\n",
       " '../my_utils/my_module']"
      ]
     },
     "execution_count": 24,
     "metadata": {},
     "output_type": "execute_result"
    }
   ],
   "source": [
    "import sys\n",
    "sys.path"
   ]
  },
  {
   "cell_type": "code",
   "execution_count": 25,
   "metadata": {},
   "outputs": [
    {
     "name": "stdout",
     "output_type": "stream",
     "text": [
      "0.21.0\n"
     ]
    }
   ],
   "source": [
    "import sklearn\n",
    "print(sklearn.__version__)"
   ]
  },
  {
   "cell_type": "code",
   "execution_count": 26,
   "metadata": {
    "scrolled": true
   },
   "outputs": [
    {
     "name": "stderr",
     "output_type": "stream",
     "text": [
      "/home/skjang/anaconda3/envs/skorch/lib/python3.7/site-packages/sklearn/base.py:306: UserWarning: Trying to unpickle estimator LogisticRegression from version 0.21.2 when using version 0.21.0. This might lead to breaking code or invalid results. Use at your own risk.\n",
      "  UserWarning)\n",
      "/home/skjang/anaconda3/envs/skorch/lib/python3.7/site-packages/sklearn/base.py:306: UserWarning: Trying to unpickle estimator SVC from version 0.21.2 when using version 0.21.0. This might lead to breaking code or invalid results. Use at your own risk.\n",
      "  UserWarning)\n",
      "/home/skjang/anaconda3/envs/skorch/lib/python3.7/site-packages/sklearn/base.py:306: UserWarning: Trying to unpickle estimator RandomizedSearchCV from version 0.21.2 when using version 0.21.0. This might lead to breaking code or invalid results. Use at your own risk.\n",
      "  UserWarning)\n",
      "/home/skjang/anaconda3/envs/skorch/lib/python3.7/site-packages/sklearn/base.py:306: UserWarning: Trying to unpickle estimator DecisionTreeClassifier from version 0.21.2 when using version 0.21.0. This might lead to breaking code or invalid results. Use at your own risk.\n",
      "  UserWarning)\n",
      "/home/skjang/anaconda3/envs/skorch/lib/python3.7/site-packages/sklearn/base.py:306: UserWarning: Trying to unpickle estimator RandomForestClassifier from version 0.21.2 when using version 0.21.0. This might lead to breaking code or invalid results. Use at your own risk.\n",
      "  UserWarning)\n"
     ]
    }
   ],
   "source": [
    "with open(\"/home/hdd1/Projects/dizziness/results/ml_200527/DatasetsandModels_200528.pkl\", 'rb') as input:\n",
    "    [X_train, X_test, y_train, y_test, clf, grid, grid_rf, gbm_model]  = pickle.load(input)"
   ]
  },
  {
   "cell_type": "markdown",
   "metadata": {},
   "source": [
    "### Catboost"
   ]
  },
  {
   "cell_type": "code",
   "execution_count": 27,
   "metadata": {},
   "outputs": [],
   "source": [
    "# import pickle\n",
    "# def save_object(obj, filename):\n",
    "#     with open(filename, 'wb') as output:  # Overwrites any existing file.\n",
    "#         pickle.dump(obj, output, pickle.HIGHEST_PROTOCOL)\n",
    "\n",
    "# objs = [gbm_model]\n",
    "# save_object(objs, f'/home/hdd1/Projects/dizziness/results/model/catboostModel_200326.pkl')"
   ]
  },
  {
   "cell_type": "code",
   "execution_count": 28,
   "metadata": {},
   "outputs": [],
   "source": [
    "# gbm_model.save_model('/home/hdd1/Projects/dizziness/results/model/catboostModel_200326.cbm')"
   ]
  },
  {
   "cell_type": "code",
   "execution_count": 29,
   "metadata": {},
   "outputs": [],
   "source": [
    "y_pred_train=gbm_model.predict_proba(X_train)[:,1]"
   ]
  },
  {
   "cell_type": "code",
   "execution_count": 30,
   "metadata": {},
   "outputs": [],
   "source": [
    "y_pred_cat = gbm_model.predict_proba(X_test)[:,1]"
   ]
  },
  {
   "cell_type": "code",
   "execution_count": null,
   "metadata": {},
   "outputs": [],
   "source": []
  },
  {
   "cell_type": "code",
   "execution_count": 31,
   "metadata": {},
   "outputs": [],
   "source": [
    "fpr, Sensitivity, thr= roc_curve(y_train, y_pred_train)"
   ]
  },
  {
   "cell_type": "code",
   "execution_count": 32,
   "metadata": {},
   "outputs": [],
   "source": [
    "thr999=thr[np.argmin(abs(Sensitivity-0.999))]\n",
    "thr99=thr[np.argmin(abs(Sensitivity-0.99))]\n",
    "thr95=thr[np.argmin(abs(Sensitivity-0.95))]"
   ]
  },
  {
   "cell_type": "code",
   "execution_count": 33,
   "metadata": {
    "scrolled": true
   },
   "outputs": [
    {
     "name": "stdout",
     "output_type": "stream",
     "text": [
      "0.02800408351845235\n",
      "0.045819440340604575\n",
      "0.05779676195195873\n"
     ]
    }
   ],
   "source": [
    "print(thr999)\n",
    "print(thr99)\n",
    "print(thr95)"
   ]
  },
  {
   "cell_type": "code",
   "execution_count": 34,
   "metadata": {},
   "outputs": [
    {
     "name": "stdout",
     "output_type": "stream",
     "text": [
      "0.31905961376994124\n",
      "0.18639798488664988\n",
      "0.04617968094038623\n",
      "0.9444444444444444\n",
      "0.9761904761904762\n",
      "1.0\n",
      "0.7379952820758866\n"
     ]
    }
   ],
   "source": [
    "from sklearn.metrics import confusion_matrix, recall_score,roc_auc_score,confusion_matrix\n",
    "tn, fp, fn, tp = confusion_matrix(y_test, y_pred_cat>thr95).ravel()\n",
    "print(tn/(tn+fp))\n",
    "tn, fp, fn, tp = confusion_matrix(y_test, y_pred_cat>thr99).ravel()\n",
    "print(tn/(tn+fp))\n",
    "tn, fp, fn, tp = confusion_matrix(y_test, y_pred_cat>thr999).ravel()\n",
    "print(tn/(tn+fp))\n",
    "print(recall_score(y_test, y_pred_cat>thr95))\n",
    "print(recall_score(y_test, y_pred_cat>thr99))\n",
    "print(recall_score(y_test, y_pred_cat>thr999))\n",
    "print(roc_auc_score(y_test, y_pred_cat))"
   ]
  },
  {
   "cell_type": "code",
   "execution_count": 35,
   "metadata": {
    "scrolled": false
   },
   "outputs": [
    {
     "data": {
      "text/html": [
       "<div>\n",
       "<style scoped>\n",
       "    .dataframe tbody tr th:only-of-type {\n",
       "        vertical-align: middle;\n",
       "    }\n",
       "\n",
       "    .dataframe tbody tr th {\n",
       "        vertical-align: top;\n",
       "    }\n",
       "\n",
       "    .dataframe thead th {\n",
       "        text-align: right;\n",
       "    }\n",
       "</style>\n",
       "<table border=\"1\" class=\"dataframe\">\n",
       "  <thead>\n",
       "    <tr style=\"text-align: right;\">\n",
       "      <th></th>\n",
       "      <th>Sex.M1F0</th>\n",
       "      <th>age</th>\n",
       "      <th>dizziness</th>\n",
       "      <th>Hypertension</th>\n",
       "      <th>Diabetes</th>\n",
       "      <th>smoking</th>\n",
       "      <th>coronary.artery.disease</th>\n",
       "      <th>previous.stroke</th>\n",
       "      <th>Hyperlipidemia</th>\n",
       "      <th>수축기혈압</th>\n",
       "      <th>이완기혈압</th>\n",
       "      <th>맥박</th>\n",
       "    </tr>\n",
       "  </thead>\n",
       "  <tbody>\n",
       "    <tr>\n",
       "      <th>0</th>\n",
       "      <td>1</td>\n",
       "      <td>49</td>\n",
       "      <td>1</td>\n",
       "      <td>1</td>\n",
       "      <td>0</td>\n",
       "      <td>1</td>\n",
       "      <td>0</td>\n",
       "      <td>0</td>\n",
       "      <td>0</td>\n",
       "      <td>152</td>\n",
       "      <td>94</td>\n",
       "      <td>77</td>\n",
       "    </tr>\n",
       "    <tr>\n",
       "      <th>1</th>\n",
       "      <td>0</td>\n",
       "      <td>60</td>\n",
       "      <td>0</td>\n",
       "      <td>1</td>\n",
       "      <td>0</td>\n",
       "      <td>0</td>\n",
       "      <td>0</td>\n",
       "      <td>0</td>\n",
       "      <td>0</td>\n",
       "      <td>169</td>\n",
       "      <td>105</td>\n",
       "      <td>71</td>\n",
       "    </tr>\n",
       "    <tr>\n",
       "      <th>2</th>\n",
       "      <td>1</td>\n",
       "      <td>61</td>\n",
       "      <td>0</td>\n",
       "      <td>0</td>\n",
       "      <td>0</td>\n",
       "      <td>0</td>\n",
       "      <td>1</td>\n",
       "      <td>0</td>\n",
       "      <td>0</td>\n",
       "      <td>138</td>\n",
       "      <td>89</td>\n",
       "      <td>67</td>\n",
       "    </tr>\n",
       "    <tr>\n",
       "      <th>3</th>\n",
       "      <td>0</td>\n",
       "      <td>58</td>\n",
       "      <td>0</td>\n",
       "      <td>1</td>\n",
       "      <td>1</td>\n",
       "      <td>0</td>\n",
       "      <td>0</td>\n",
       "      <td>1</td>\n",
       "      <td>0</td>\n",
       "      <td>188</td>\n",
       "      <td>109</td>\n",
       "      <td>71</td>\n",
       "    </tr>\n",
       "    <tr>\n",
       "      <th>4</th>\n",
       "      <td>0</td>\n",
       "      <td>70</td>\n",
       "      <td>0</td>\n",
       "      <td>0</td>\n",
       "      <td>0</td>\n",
       "      <td>0</td>\n",
       "      <td>0</td>\n",
       "      <td>0</td>\n",
       "      <td>1</td>\n",
       "      <td>131</td>\n",
       "      <td>92</td>\n",
       "      <td>71</td>\n",
       "    </tr>\n",
       "  </tbody>\n",
       "</table>\n",
       "</div>"
      ],
      "text/plain": [
       "   Sex.M1F0  age  dizziness  Hypertension  Diabetes  smoking  \\\n",
       "0         1   49          1             1         0        1   \n",
       "1         0   60          0             1         0        0   \n",
       "2         1   61          0             0         0        0   \n",
       "3         0   58          0             1         1        0   \n",
       "4         0   70          0             0         0        0   \n",
       "\n",
       "   coronary.artery.disease  previous.stroke  Hyperlipidemia  수축기혈압  이완기혈압  맥박  \n",
       "0                        0                0               0    152     94  77  \n",
       "1                        0                0               0    169    105  71  \n",
       "2                        1                0               0    138     89  67  \n",
       "3                        0                1               0    188    109  71  \n",
       "4                        0                0               1    131     92  71  "
      ]
     },
     "execution_count": 35,
     "metadata": {},
     "output_type": "execute_result"
    }
   ],
   "source": [
    "X_train.head()"
   ]
  },
  {
   "cell_type": "code",
   "execution_count": 36,
   "metadata": {
    "scrolled": true
   },
   "outputs": [
    {
     "data": {
      "text/plain": [
       "0    0\n",
       "1    0\n",
       "2    0\n",
       "3    0\n",
       "4    0\n",
       "Name: Central.dizziness, dtype: int64"
      ]
     },
     "execution_count": 36,
     "metadata": {},
     "output_type": "execute_result"
    }
   ],
   "source": [
    "y_train.head()"
   ]
  },
  {
   "cell_type": "code",
   "execution_count": 37,
   "metadata": {},
   "outputs": [],
   "source": [
    "from sklearn.preprocessing import StandardScaler\n",
    "categval=[gbm_model.feature_names_[x] for x in  gbm_model.get_cat_feature_indices()]\n",
    "iscatg=X_train.columns.isin(categval)\n",
    "\n",
    "train_new=X_train.copy()\n",
    "test_new=X_test.copy()\n",
    "scaler = StandardScaler().fit(X_train.loc[:,~iscatg])\n",
    "normalized = scaler.transform(X_train.loc[:,~iscatg])\n",
    "train_new.loc[:,~iscatg]=normalized\n",
    "normalized = scaler.transform(X_test.loc[:,~iscatg])\n",
    "test_new.loc[:,~iscatg]=normalized"
   ]
  },
  {
   "cell_type": "code",
   "execution_count": 39,
   "metadata": {},
   "outputs": [],
   "source": [
    "train_new.to_csv('/home/hdd1/Projects/dizziness/data/DizzinessTrainingset_withStandardization.csv',index=False)\n",
    "test_new.to_csv('/home/hdd1/Projects/dizziness/data/DizzinessTestset_withStandardization.csv',index=False)"
   ]
  },
  {
   "cell_type": "markdown",
   "metadata": {},
   "source": [
    "### SVM"
   ]
  },
  {
   "cell_type": "code",
   "execution_count": 9,
   "metadata": {},
   "outputs": [],
   "source": [
    "from sklearn.svm import SVC\n",
    "from sklearn.preprocessing import StandardScaler\n",
    "from sklearn.datasets import load_iris\n",
    "from sklearn.model_selection import StratifiedShuffleSplit\n",
    "from sklearn.model_selection import RandomizedSearchCV"
   ]
  },
  {
   "cell_type": "code",
   "execution_count": 10,
   "metadata": {},
   "outputs": [],
   "source": [
    "from sklearn.metrics import roc_auc_score, make_scorer\n",
    "cv_scorer = make_scorer(roc_auc_score)"
   ]
  },
  {
   "cell_type": "code",
   "execution_count": 293,
   "metadata": {
    "scrolled": true
   },
   "outputs": [
    {
     "name": "stdout",
     "output_type": "stream",
     "text": [
      "Fitting 5 folds for each of 50 candidates, totalling 250 fits\n"
     ]
    },
    {
     "name": "stderr",
     "output_type": "stream",
     "text": [
      "[Parallel(n_jobs=-1)]: Using backend LokyBackend with 12 concurrent workers.\n",
      "[Parallel(n_jobs=-1)]: Done  26 tasks      | elapsed:   44.8s\n",
      "[Parallel(n_jobs=-1)]: Done 176 tasks      | elapsed: 128.3min\n",
      "[Parallel(n_jobs=-1)]: Done 250 out of 250 | elapsed: 499.2min finished\n"
     ]
    },
    {
     "name": "stdout",
     "output_type": "stream",
     "text": [
      "[LibSVM]29953.309020757675\n"
     ]
    }
   ],
   "source": [
    "from scipy.stats import uniform\n",
    "start = time.time()\n",
    "\n",
    "C_range = np.logspace(-2, 10, 13)\n",
    "gamma_range = np.logspace(-9, 3, 13)\n",
    "param_grid = dict(gamma=gamma_range, C=C_range)\n",
    "grid = RandomizedSearchCV( SVC(probability=True,verbose=True,class_weight ='balanced'), \n",
    "                          scoring=cv_scorer,\n",
    "                          param_distributions=param_grid, cv=5,n_jobs=-1,n_iter=50,verbose=True)\n",
    "grid.fit(train_new, y_train)\n",
    "\n",
    "end = time.time()\n",
    "print(end - start) # 8시간 19분 13초"
   ]
  },
  {
   "cell_type": "code",
   "execution_count": 114,
   "metadata": {
    "scrolled": true
   },
   "outputs": [
    {
     "ename": "AttributeError",
     "evalue": "'SVC' object has no attribute '_probA'",
     "output_type": "error",
     "traceback": [
      "\u001b[0;31m---------------------------------------------------------------------------\u001b[0m",
      "\u001b[0;31mAttributeError\u001b[0m                            Traceback (most recent call last)",
      "\u001b[0;32m<ipython-input-114-73d593d1f67b>\u001b[0m in \u001b[0;36m<module>\u001b[0;34m\u001b[0m\n\u001b[0;32m----> 1\u001b[0;31m \u001b[0my_pred_svm_tr\u001b[0m\u001b[0;34m=\u001b[0m\u001b[0mgrid\u001b[0m\u001b[0;34m.\u001b[0m\u001b[0mpredict_proba\u001b[0m\u001b[0;34m(\u001b[0m\u001b[0mtrain_new\u001b[0m\u001b[0;34m)\u001b[0m\u001b[0;34m[\u001b[0m\u001b[0;34m:\u001b[0m\u001b[0;34m,\u001b[0m\u001b[0;36m1\u001b[0m\u001b[0;34m]\u001b[0m\u001b[0;34m\u001b[0m\u001b[0;34m\u001b[0m\u001b[0m\n\u001b[0m",
      "\u001b[0;32m~/.local/lib/python3.7/site-packages/sklearn/utils/metaestimators.py\u001b[0m in \u001b[0;36m<lambda>\u001b[0;34m(*args, **kwargs)\u001b[0m\n\u001b[1;32m    117\u001b[0m \u001b[0;34m\u001b[0m\u001b[0m\n\u001b[1;32m    118\u001b[0m         \u001b[0;31m# lambda, but not partial, allows help() to work with update_wrapper\u001b[0m\u001b[0;34m\u001b[0m\u001b[0;34m\u001b[0m\u001b[0;34m\u001b[0m\u001b[0m\n\u001b[0;32m--> 119\u001b[0;31m         \u001b[0mout\u001b[0m \u001b[0;34m=\u001b[0m \u001b[0;32mlambda\u001b[0m \u001b[0;34m*\u001b[0m\u001b[0margs\u001b[0m\u001b[0;34m,\u001b[0m \u001b[0;34m**\u001b[0m\u001b[0mkwargs\u001b[0m\u001b[0;34m:\u001b[0m \u001b[0mself\u001b[0m\u001b[0;34m.\u001b[0m\u001b[0mfn\u001b[0m\u001b[0;34m(\u001b[0m\u001b[0mobj\u001b[0m\u001b[0;34m,\u001b[0m \u001b[0;34m*\u001b[0m\u001b[0margs\u001b[0m\u001b[0;34m,\u001b[0m \u001b[0;34m**\u001b[0m\u001b[0mkwargs\u001b[0m\u001b[0;34m)\u001b[0m\u001b[0;34m\u001b[0m\u001b[0;34m\u001b[0m\u001b[0m\n\u001b[0m\u001b[1;32m    120\u001b[0m         \u001b[0;31m# update the docstring of the returned function\u001b[0m\u001b[0;34m\u001b[0m\u001b[0;34m\u001b[0m\u001b[0;34m\u001b[0m\u001b[0m\n\u001b[1;32m    121\u001b[0m         \u001b[0mupdate_wrapper\u001b[0m\u001b[0;34m(\u001b[0m\u001b[0mout\u001b[0m\u001b[0;34m,\u001b[0m \u001b[0mself\u001b[0m\u001b[0;34m.\u001b[0m\u001b[0mfn\u001b[0m\u001b[0;34m)\u001b[0m\u001b[0;34m\u001b[0m\u001b[0;34m\u001b[0m\u001b[0m\n",
      "\u001b[0;32m~/.local/lib/python3.7/site-packages/sklearn/model_selection/_search.py\u001b[0m in \u001b[0;36mpredict_proba\u001b[0;34m(self, X)\u001b[0m\n\u001b[1;32m    502\u001b[0m         \"\"\"\n\u001b[1;32m    503\u001b[0m         \u001b[0mself\u001b[0m\u001b[0;34m.\u001b[0m\u001b[0m_check_is_fitted\u001b[0m\u001b[0;34m(\u001b[0m\u001b[0;34m'predict_proba'\u001b[0m\u001b[0;34m)\u001b[0m\u001b[0;34m\u001b[0m\u001b[0;34m\u001b[0m\u001b[0m\n\u001b[0;32m--> 504\u001b[0;31m         \u001b[0;32mreturn\u001b[0m \u001b[0mself\u001b[0m\u001b[0;34m.\u001b[0m\u001b[0mbest_estimator_\u001b[0m\u001b[0;34m.\u001b[0m\u001b[0mpredict_proba\u001b[0m\u001b[0;34m(\u001b[0m\u001b[0mX\u001b[0m\u001b[0;34m)\u001b[0m\u001b[0;34m\u001b[0m\u001b[0;34m\u001b[0m\u001b[0m\n\u001b[0m\u001b[1;32m    505\u001b[0m \u001b[0;34m\u001b[0m\u001b[0m\n\u001b[1;32m    506\u001b[0m     \u001b[0;34m@\u001b[0m\u001b[0mif_delegate_has_method\u001b[0m\u001b[0;34m(\u001b[0m\u001b[0mdelegate\u001b[0m\u001b[0;34m=\u001b[0m\u001b[0;34m(\u001b[0m\u001b[0;34m'best_estimator_'\u001b[0m\u001b[0;34m,\u001b[0m \u001b[0;34m'estimator'\u001b[0m\u001b[0;34m)\u001b[0m\u001b[0;34m)\u001b[0m\u001b[0;34m\u001b[0m\u001b[0;34m\u001b[0m\u001b[0m\n",
      "\u001b[0;32m~/.local/lib/python3.7/site-packages/sklearn/svm/_base.py\u001b[0m in \u001b[0;36m_predict_proba\u001b[0;34m(self, X)\u001b[0m\n\u001b[1;32m    660\u001b[0m     \u001b[0;32mdef\u001b[0m \u001b[0m_predict_proba\u001b[0m\u001b[0;34m(\u001b[0m\u001b[0mself\u001b[0m\u001b[0;34m,\u001b[0m \u001b[0mX\u001b[0m\u001b[0;34m)\u001b[0m\u001b[0;34m:\u001b[0m\u001b[0;34m\u001b[0m\u001b[0;34m\u001b[0m\u001b[0m\n\u001b[1;32m    661\u001b[0m         \u001b[0mX\u001b[0m \u001b[0;34m=\u001b[0m \u001b[0mself\u001b[0m\u001b[0;34m.\u001b[0m\u001b[0m_validate_for_predict\u001b[0m\u001b[0;34m(\u001b[0m\u001b[0mX\u001b[0m\u001b[0;34m)\u001b[0m\u001b[0;34m\u001b[0m\u001b[0;34m\u001b[0m\u001b[0m\n\u001b[0;32m--> 662\u001b[0;31m         \u001b[0;32mif\u001b[0m \u001b[0mself\u001b[0m\u001b[0;34m.\u001b[0m\u001b[0mprobA_\u001b[0m\u001b[0;34m.\u001b[0m\u001b[0msize\u001b[0m \u001b[0;34m==\u001b[0m \u001b[0;36m0\u001b[0m \u001b[0;32mor\u001b[0m \u001b[0mself\u001b[0m\u001b[0;34m.\u001b[0m\u001b[0mprobB_\u001b[0m\u001b[0;34m.\u001b[0m\u001b[0msize\u001b[0m \u001b[0;34m==\u001b[0m \u001b[0;36m0\u001b[0m\u001b[0;34m:\u001b[0m\u001b[0;34m\u001b[0m\u001b[0;34m\u001b[0m\u001b[0m\n\u001b[0m\u001b[1;32m    663\u001b[0m             raise NotFittedError(\"predict_proba is not available when fitted \"\n\u001b[1;32m    664\u001b[0m                                  \"with probability=False\")\n",
      "\u001b[0;32m~/.local/lib/python3.7/site-packages/sklearn/svm/_base.py\u001b[0m in \u001b[0;36mprobA_\u001b[0;34m(self)\u001b[0m\n\u001b[1;32m    757\u001b[0m     \u001b[0;34m@\u001b[0m\u001b[0mproperty\u001b[0m\u001b[0;34m\u001b[0m\u001b[0;34m\u001b[0m\u001b[0m\n\u001b[1;32m    758\u001b[0m     \u001b[0;32mdef\u001b[0m \u001b[0mprobA_\u001b[0m\u001b[0;34m(\u001b[0m\u001b[0mself\u001b[0m\u001b[0;34m)\u001b[0m\u001b[0;34m:\u001b[0m\u001b[0;34m\u001b[0m\u001b[0;34m\u001b[0m\u001b[0m\n\u001b[0;32m--> 759\u001b[0;31m         \u001b[0;32mreturn\u001b[0m \u001b[0mself\u001b[0m\u001b[0;34m.\u001b[0m\u001b[0m_probA\u001b[0m\u001b[0;34m\u001b[0m\u001b[0;34m\u001b[0m\u001b[0m\n\u001b[0m\u001b[1;32m    760\u001b[0m \u001b[0;34m\u001b[0m\u001b[0m\n\u001b[1;32m    761\u001b[0m     \u001b[0;34m@\u001b[0m\u001b[0mproperty\u001b[0m\u001b[0;34m\u001b[0m\u001b[0;34m\u001b[0m\u001b[0m\n",
      "\u001b[0;31mAttributeError\u001b[0m: 'SVC' object has no attribute '_probA'"
     ]
    }
   ],
   "source": [
    "y_pred_svm_tr=grid.predict_proba(train_new)[:,1]"
   ]
  },
  {
   "cell_type": "code",
   "execution_count": 12,
   "metadata": {},
   "outputs": [],
   "source": [
    "y_pred_svm=grid.predict_proba(test_new)[:,1]"
   ]
  },
  {
   "cell_type": "code",
   "execution_count": 295,
   "metadata": {},
   "outputs": [
    {
     "data": {
      "text/plain": [
       "{'gamma': 1e-05, 'C': 100000.0}"
      ]
     },
     "execution_count": 295,
     "metadata": {},
     "output_type": "execute_result"
    }
   ],
   "source": [
    "grid.best_params_"
   ]
  },
  {
   "cell_type": "code",
   "execution_count": 353,
   "metadata": {},
   "outputs": [
    {
     "data": {
      "text/plain": [
       "(array([175., 260., 256., 175., 125., 100.,  63.,  45.,  31.,  24.,  14.,\n",
       "         10.,  12.,   6.,   7.,   3.,   3.,   2.,   2.,   4.]),\n",
       " array([0.01019557, 0.03511585, 0.06003612, 0.0849564 , 0.10987667,\n",
       "        0.13479695, 0.15971722, 0.18463749, 0.20955777, 0.23447804,\n",
       "        0.25939832, 0.28431859, 0.30923887, 0.33415914, 0.35907941,\n",
       "        0.38399969, 0.40891996, 0.43384024, 0.45876051, 0.48368079,\n",
       "        0.50860106]),\n",
       " <a list of 20 Patch objects>)"
      ]
     },
     "execution_count": 353,
     "metadata": {},
     "output_type": "execute_result"
    },
    {
     "data": {
      "image/png": "[encoded data removed]",
      "text/plain": [
       "<Figure size 432x288 with 1 Axes>"
      ]
     },
     "metadata": {
      "needs_background": "light"
     },
     "output_type": "display_data"
    }
   ],
   "source": [
    "plt.hist(y_pred_svm,bins=20)"
   ]
  },
  {
   "cell_type": "markdown",
   "metadata": {},
   "source": [
    "### RF"
   ]
  },
  {
   "cell_type": "code",
   "execution_count": 1,
   "metadata": {},
   "outputs": [],
   "source": [
    "from sklearn.utils.class_weight import compute_class_weight"
   ]
  },
  {
   "cell_type": "code",
   "execution_count": null,
   "metadata": {},
   "outputs": [],
   "source": [
    "compute_class_weight('balanced', np.unique(y_train),y_train)"
   ]
  },
  {
   "cell_type": "code",
   "execution_count": 107,
   "metadata": {},
   "outputs": [
    {
     "name": "stdout",
     "output_type": "stream",
     "text": [
      "Fitting 5 folds for each of 50 candidates, totalling 250 fits\n"
     ]
    },
    {
     "name": "stderr",
     "output_type": "stream",
     "text": [
      "[Parallel(n_jobs=-1)]: Using backend LokyBackend with 12 concurrent workers.\n",
      "[Parallel(n_jobs=-1)]: Done  26 tasks      | elapsed:    1.5s\n",
      "[Parallel(n_jobs=-1)]: Done 176 tasks      | elapsed:    7.4s\n",
      "[Parallel(n_jobs=-1)]: Done 250 out of 250 | elapsed:   10.7s finished\n"
     ]
    },
    {
     "name": "stdout",
     "output_type": "stream",
     "text": [
      "12.40212106704712\n"
     ]
    }
   ],
   "source": [
    "from sklearn.ensemble import RandomForestClassifier\n",
    "param_grid = {\n",
    "                \"n_estimators\": [10,25,50,75,100,500,1000],\n",
    "                \"min_samples_split\": [.1,.3,.5,.7,.9,1.],\n",
    "                \"min_weight_fraction_leaf\": [0,.1,.3,.5], #min_weight_fraction_leaf must in [0, 0.5]\n",
    "                \"max_depth\": [3, 4, 5, 6, 9, None],\n",
    "#                     \"cp_alpha\": [0, 0.001, 0.003, 0.005, 0.010, 0.0015 ],\n",
    "                \"warm_start\":[ False],\n",
    "    \"class_weight\": [\"balanced\", \"balanced_subsample\"]\n",
    "}\n",
    "start = time.time()\n",
    "grid_rf = RandomizedSearchCV(RandomForestClassifier(class_weight ='balanced',random_state=42), \n",
    "                             scoring=cv_scorer,\n",
    "                          param_distributions=param_grid, cv=5,n_jobs=-1,n_iter=50,verbose=True)\n",
    "grid_rf.fit(X_train, y_train)\n",
    "end = time.time()\n",
    "print(end - start)"
   ]
  },
  {
   "cell_type": "code",
   "execution_count": 108,
   "metadata": {
    "scrolled": true
   },
   "outputs": [
    {
     "data": {
      "text/plain": [
       "{'warm_start': False,\n",
       " 'n_estimators': 1000,\n",
       " 'min_weight_fraction_leaf': 0,\n",
       " 'min_samples_split': 0.1,\n",
       " 'max_depth': 6,\n",
       " 'class_weight': 'balanced_subsample'}"
      ]
     },
     "execution_count": 108,
     "metadata": {},
     "output_type": "execute_result"
    }
   ],
   "source": [
    "grid_rf.best_params_\n",
    "# {'warm_start': False, 'n_estimators': 500, 'min_weight_fraction_leaf': 0, 'min_samples_split': 0.3, 'max_depth': 9, 'class_weight': 'balanced_subsample'}"
   ]
  },
  {
   "cell_type": "code",
   "execution_count": 5,
   "metadata": {},
   "outputs": [],
   "source": [
    "y_pred_rf_tr=grid_rf.predict_proba(X_train)[:,1]"
   ]
  },
  {
   "cell_type": "code",
   "execution_count": 6,
   "metadata": {},
   "outputs": [],
   "source": [
    "y_pred_rf=grid_rf.predict_proba(X_test)[:,1]"
   ]
  },
  {
   "cell_type": "code",
   "execution_count": 7,
   "metadata": {},
   "outputs": [
    {
     "ename": "NameError",
     "evalue": "name 'plt' is not defined",
     "output_type": "error",
     "traceback": [
      "\u001b[0;31m---------------------------------------------------------------------------\u001b[0m",
      "\u001b[0;31mNameError\u001b[0m                                 Traceback (most recent call last)",
      "\u001b[0;32m<ipython-input-7-81ab6de6356f>\u001b[0m in \u001b[0;36m<module>\u001b[0;34m\u001b[0m\n\u001b[0;32m----> 1\u001b[0;31m \u001b[0mplt\u001b[0m\u001b[0;34m.\u001b[0m\u001b[0mhist\u001b[0m\u001b[0;34m(\u001b[0m\u001b[0my_pred_rf_tr\u001b[0m\u001b[0;34m,\u001b[0m\u001b[0mbins\u001b[0m\u001b[0;34m=\u001b[0m\u001b[0;36m20\u001b[0m\u001b[0;34m)\u001b[0m\u001b[0;34m\u001b[0m\u001b[0;34m\u001b[0m\u001b[0m\n\u001b[0m",
      "\u001b[0;31mNameError\u001b[0m: name 'plt' is not defined"
     ]
    }
   ],
   "source": [
    "plt.hist(y_pred_rf_tr,bins=20)"
   ]
  },
  {
   "cell_type": "code",
   "execution_count": 7,
   "metadata": {
    "scrolled": true
   },
   "outputs": [
    {
     "data": {
      "text/plain": [
       "(array([ 72.,  46.,  30.,  28.,  45., 152., 124.,  65.,  70.,  71.,  46.,\n",
       "        116., 141.,  77.,  75.,  67.,  31.,  32.,  15.,  14.]),\n",
       " array([0.24338697, 0.26737698, 0.29136698, 0.31535698, 0.33934698,\n",
       "        0.36333699, 0.38732699, 0.41131699, 0.43530699, 0.45929699,\n",
       "        0.483287  , 0.507277  , 0.531267  , 0.555257  , 0.57924701,\n",
       "        0.60323701, 0.62722701, 0.65121701, 0.67520702, 0.69919702,\n",
       "        0.72318702]),\n",
       " <a list of 20 Patch objects>)"
      ]
     },
     "execution_count": 7,
     "metadata": {},
     "output_type": "execute_result"
    },
    {
     "data": {
      "image/png": "[encoded data removed]",
      "text/plain": [
       "<Figure size 432x288 with 1 Axes>"
      ]
     },
     "metadata": {
      "needs_background": "light"
     },
     "output_type": "display_data"
    }
   ],
   "source": [
    "plt.hist(y_pred_rf,bins=20)"
   ]
  },
  {
   "cell_type": "markdown",
   "metadata": {},
   "source": [
    "### LR"
   ]
  },
  {
   "cell_type": "code",
   "execution_count": null,
   "metadata": {},
   "outputs": [],
   "source": [
    "from sklearn.linear_model import LogisticRegression\n",
    "clf = LogisticRegression(random_state=0,penalty='none',verbose=1,solver='lbfgs',max_iter=1000).fit(train_new, y_train)"
   ]
  },
  {
   "cell_type": "code",
   "execution_count": 30,
   "metadata": {},
   "outputs": [],
   "source": [
    "y_pred_lr=clf.predict_proba(test_new)[:,1]"
   ]
  },
  {
   "cell_type": "code",
   "execution_count": 15,
   "metadata": {},
   "outputs": [],
   "source": [
    "y_pred_lr_tr=clf.predict_proba(train_new)[:,1]"
   ]
  },
  {
   "cell_type": "code",
   "execution_count": 63,
   "metadata": {},
   "outputs": [
    {
     "name": "stdout",
     "output_type": "stream",
     "text": [
      "(13,)\n"
     ]
    }
   ],
   "source": [
    "from scipy.stats import norm\n",
    "from sklearn.linear_model import LogisticRegression\n",
    "\n",
    "def logit_pvalue(model, x):\n",
    "    \"\"\" Calculate z-scores for scikit-learn LogisticRegression.\n",
    "    parameters:\n",
    "        model: fitted sklearn.linear_model.LogisticRegression with intercept and large C\n",
    "        x:     matrix on which the model was fit\n",
    "    This function uses asymtptics for maximum likelihood estimates.\n",
    "    \"\"\"\n",
    "    p = model.predict_proba(x)\n",
    "    n = len(p)\n",
    "    m = len(model.coef_[0]) + 1\n",
    "    coefs = np.concatenate([model.intercept_, model.coef_[0]])\n",
    "    print(coefs.shape)\n",
    "    x_full = np.matrix(np.insert(np.array(x), 0, 1, axis = 1))\n",
    "    ans = np.zeros((m, m))\n",
    "    for i in range(n):\n",
    "        ans = ans + np.dot(np.transpose(x_full[i, :]), x_full[i, :]) * p[i,1] * p[i, 0]\n",
    "    vcov = np.linalg.inv(np.matrix(ans))\n",
    "    se = np.sqrt(np.diag(vcov))\n",
    "    t =  coefs/se  \n",
    "    p = (1 - norm.cdf(abs(t))) * 2\n",
    "    return p\n",
    "\n",
    "def logit_zstatistics(resLogit, X_train):\n",
    "\n",
    "    predProbs = resLogit.predict_proba(X_train)\n",
    "\n",
    "    # Design matrix -- add column of 1's at the beginning of your X_train matrix\n",
    "    X_design = np.hstack([np.ones((X_train.shape[0], 1)), X_train])\n",
    "\n",
    "    # Initiate matrix of 0's, fill diagonal with each predicted observation's variance\n",
    "    V = np.diagflat(np.product(predProbs, axis=1))\n",
    "\n",
    "    # Covariance matrix\n",
    "    # Note that the @-operater does matrix multiplication in Python 3.5+, so if you're running\n",
    "    # Python 3.5+, you can replace the covLogit-line below with the more readable:\n",
    "    # covLogit = np.linalg.inv(X_design.T @ V @ X_design)\n",
    "    covLogit = np.linalg.inv(np.dot(np.dot(X_design.T, V), X_design))\n",
    "#     print(\"Covariance matrix: \", covLogit)\n",
    "\n",
    "    # Standard errors\n",
    "    se= np.sqrt(np.diag(covLogit))\n",
    "#     print(\"Standard errors: \",se)\n",
    "\n",
    "    # Wald statistic (coefficient / s.e.) ^ 2\n",
    "    logitParams = np.insert(resLogit.coef_, 0, resLogit.intercept_)\n",
    "    wald =  (logitParams / np.sqrt(np.diag(covLogit))) ** 2\n",
    "#     print(\"Wald statistics: \",wald)\n",
    "    \n",
    "    return se , wald\n",
    "\n",
    "# test p-values\n",
    "logistic_p=logit_pvalue(clf2, train_new)\n",
    "se, wald = logit_zstatistics(clf2, train_new)"
   ]
  },
  {
   "cell_type": "code",
   "execution_count": 62,
   "metadata": {},
   "outputs": [],
   "source": [
    "varnames= train_new.columns.tolist()\n",
    "varnames.append('intercept')\n",
    "\n",
    "coefs = clf2.coef_[0].tolist()\n",
    "coefs.append(clf2.intercept_[0])"
   ]
  },
  {
   "cell_type": "code",
   "execution_count": 59,
   "metadata": {
    "scrolled": false
   },
   "outputs": [
    {
     "data": {
      "text/plain": [
       "array([0.00000000e+00, 1.15806764e-09, 2.34539934e-05, 1.09153575e-10,\n",
       "       9.10809428e-01, 1.32166836e-03, 2.25337020e-01, 2.77259378e-01,\n",
       "       6.12930595e-10, 3.14938316e-03, 3.18874213e-01, 5.70951379e-01,\n",
       "       3.84632303e-01])"
      ]
     },
     "execution_count": 59,
     "metadata": {},
     "output_type": "execute_result"
    }
   ],
   "source": [
    "logistic_p "
   ]
  },
  {
   "cell_type": "code",
   "execution_count": 60,
   "metadata": {},
   "outputs": [
    {
     "data": {
      "text/html": [
       "<div>\n",
       "<style scoped>\n",
       "    .dataframe tbody tr th:only-of-type {\n",
       "        vertical-align: middle;\n",
       "    }\n",
       "\n",
       "    .dataframe tbody tr th {\n",
       "        vertical-align: top;\n",
       "    }\n",
       "\n",
       "    .dataframe thead th {\n",
       "        text-align: right;\n",
       "    }\n",
       "</style>\n",
       "<table border=\"1\" class=\"dataframe\">\n",
       "  <thead>\n",
       "    <tr style=\"text-align: right;\">\n",
       "      <th></th>\n",
       "      <th>Sex.M1F0</th>\n",
       "      <th>age</th>\n",
       "      <th>dizziness</th>\n",
       "      <th>Hypertension</th>\n",
       "      <th>Diabetes</th>\n",
       "      <th>smoking</th>\n",
       "      <th>coronary.artery.disease</th>\n",
       "      <th>previous.stroke</th>\n",
       "      <th>Hyperlipidemia</th>\n",
       "      <th>수축기혈압</th>\n",
       "      <th>이완기혈압</th>\n",
       "      <th>맥박</th>\n",
       "    </tr>\n",
       "  </thead>\n",
       "  <tbody>\n",
       "    <tr>\n",
       "      <th>0</th>\n",
       "      <td>1</td>\n",
       "      <td>49</td>\n",
       "      <td>1</td>\n",
       "      <td>1</td>\n",
       "      <td>0</td>\n",
       "      <td>1</td>\n",
       "      <td>0</td>\n",
       "      <td>0</td>\n",
       "      <td>0</td>\n",
       "      <td>152</td>\n",
       "      <td>94</td>\n",
       "      <td>77</td>\n",
       "    </tr>\n",
       "    <tr>\n",
       "      <th>1</th>\n",
       "      <td>0</td>\n",
       "      <td>60</td>\n",
       "      <td>0</td>\n",
       "      <td>1</td>\n",
       "      <td>0</td>\n",
       "      <td>0</td>\n",
       "      <td>0</td>\n",
       "      <td>0</td>\n",
       "      <td>0</td>\n",
       "      <td>169</td>\n",
       "      <td>105</td>\n",
       "      <td>71</td>\n",
       "    </tr>\n",
       "    <tr>\n",
       "      <th>2</th>\n",
       "      <td>1</td>\n",
       "      <td>61</td>\n",
       "      <td>0</td>\n",
       "      <td>0</td>\n",
       "      <td>0</td>\n",
       "      <td>0</td>\n",
       "      <td>1</td>\n",
       "      <td>0</td>\n",
       "      <td>0</td>\n",
       "      <td>138</td>\n",
       "      <td>89</td>\n",
       "      <td>67</td>\n",
       "    </tr>\n",
       "    <tr>\n",
       "      <th>3</th>\n",
       "      <td>0</td>\n",
       "      <td>58</td>\n",
       "      <td>0</td>\n",
       "      <td>1</td>\n",
       "      <td>1</td>\n",
       "      <td>0</td>\n",
       "      <td>0</td>\n",
       "      <td>1</td>\n",
       "      <td>0</td>\n",
       "      <td>188</td>\n",
       "      <td>109</td>\n",
       "      <td>71</td>\n",
       "    </tr>\n",
       "    <tr>\n",
       "      <th>4</th>\n",
       "      <td>0</td>\n",
       "      <td>70</td>\n",
       "      <td>0</td>\n",
       "      <td>0</td>\n",
       "      <td>0</td>\n",
       "      <td>0</td>\n",
       "      <td>0</td>\n",
       "      <td>0</td>\n",
       "      <td>1</td>\n",
       "      <td>131</td>\n",
       "      <td>92</td>\n",
       "      <td>71</td>\n",
       "    </tr>\n",
       "  </tbody>\n",
       "</table>\n",
       "</div>"
      ],
      "text/plain": [
       "   Sex.M1F0  age  dizziness  Hypertension  Diabetes  smoking  \\\n",
       "0         1   49          1             1         0        1   \n",
       "1         0   60          0             1         0        0   \n",
       "2         1   61          0             0         0        0   \n",
       "3         0   58          0             1         1        0   \n",
       "4         0   70          0             0         0        0   \n",
       "\n",
       "   coronary.artery.disease  previous.stroke  Hyperlipidemia  수축기혈압  이완기혈압  맥박  \n",
       "0                        0                0               0    152     94  77  \n",
       "1                        0                0               0    169    105  71  \n",
       "2                        1                0               0    138     89  67  \n",
       "3                        0                1               0    188    109  71  \n",
       "4                        0                0               1    131     92  71  "
      ]
     },
     "execution_count": 60,
     "metadata": {},
     "output_type": "execute_result"
    }
   ],
   "source": [
    "X_train.head()"
   ]
  },
  {
   "cell_type": "code",
   "execution_count": 61,
   "metadata": {},
   "outputs": [
    {
     "name": "stderr",
     "output_type": "stream",
     "text": [
      "[Parallel(n_jobs=1)]: Using backend SequentialBackend with 1 concurrent workers.\n",
      "[Parallel(n_jobs=1)]: Done   1 out of   1 | elapsed:    0.4s finished\n"
     ]
    }
   ],
   "source": [
    "clf2 = LogisticRegression(random_state=0,penalty='none',verbose=1,solver='lbfgs',max_iter=1000).fit(X_train, y_train)"
   ]
  },
  {
   "cell_type": "code",
   "execution_count": 65,
   "metadata": {},
   "outputs": [],
   "source": [
    "y_pred2=clf2.predict_proba(X_test)[:,1]"
   ]
  },
  {
   "cell_type": "code",
   "execution_count": 67,
   "metadata": {
    "scrolled": false
   },
   "outputs": [
    {
     "data": {
      "text/html": [
       "<div>\n",
       "<style scoped>\n",
       "    .dataframe tbody tr th:only-of-type {\n",
       "        vertical-align: middle;\n",
       "    }\n",
       "\n",
       "    .dataframe tbody tr th {\n",
       "        vertical-align: top;\n",
       "    }\n",
       "\n",
       "    .dataframe thead th {\n",
       "        text-align: right;\n",
       "    }\n",
       "</style>\n",
       "<table border=\"1\" class=\"dataframe\">\n",
       "  <thead>\n",
       "    <tr style=\"text-align: right;\">\n",
       "      <th></th>\n",
       "      <th>names</th>\n",
       "      <th>coef</th>\n",
       "      <th>SE</th>\n",
       "      <th>Z</th>\n",
       "      <th>P</th>\n",
       "    </tr>\n",
       "  </thead>\n",
       "  <tbody>\n",
       "    <tr>\n",
       "      <th>0</th>\n",
       "      <td>Sex.M1F0</td>\n",
       "      <td>0.8575</td>\n",
       "      <td>0.5236</td>\n",
       "      <td>137.9824</td>\n",
       "      <td>0.0000</td>\n",
       "    </tr>\n",
       "    <tr>\n",
       "      <th>1</th>\n",
       "      <td>age</td>\n",
       "      <td>0.0283</td>\n",
       "      <td>0.4083</td>\n",
       "      <td>4.4111</td>\n",
       "      <td>0.0357</td>\n",
       "    </tr>\n",
       "    <tr>\n",
       "      <th>2</th>\n",
       "      <td>dizziness</td>\n",
       "      <td>0.9517</td>\n",
       "      <td>0.2098</td>\n",
       "      <td>0.0182</td>\n",
       "      <td>0.8926</td>\n",
       "    </tr>\n",
       "    <tr>\n",
       "      <th>3</th>\n",
       "      <td>Hypertension</td>\n",
       "      <td>-0.0188</td>\n",
       "      <td>0.4380</td>\n",
       "      <td>4.7218</td>\n",
       "      <td>0.0298</td>\n",
       "    </tr>\n",
       "    <tr>\n",
       "      <th>4</th>\n",
       "      <td>Diabetes</td>\n",
       "      <td>0.5335</td>\n",
       "      <td>0.3911</td>\n",
       "      <td>0.0023</td>\n",
       "      <td>0.9617</td>\n",
       "    </tr>\n",
       "    <tr>\n",
       "      <th>5</th>\n",
       "      <td>smoking</td>\n",
       "      <td>0.2842</td>\n",
       "      <td>0.4620</td>\n",
       "      <td>1.3332</td>\n",
       "      <td>0.2482</td>\n",
       "    </tr>\n",
       "    <tr>\n",
       "      <th>6</th>\n",
       "      <td>coronary.artery.disease</td>\n",
       "      <td>0.1862</td>\n",
       "      <td>0.5867</td>\n",
       "      <td>0.2347</td>\n",
       "      <td>0.6281</td>\n",
       "    </tr>\n",
       "    <tr>\n",
       "      <th>7</th>\n",
       "      <td>previous.stroke</td>\n",
       "      <td>1.0370</td>\n",
       "      <td>0.4864</td>\n",
       "      <td>0.1465</td>\n",
       "      <td>0.7019</td>\n",
       "    </tr>\n",
       "    <tr>\n",
       "      <th>8</th>\n",
       "      <td>Hyperlipidemia</td>\n",
       "      <td>0.4426</td>\n",
       "      <td>0.4394</td>\n",
       "      <td>5.5706</td>\n",
       "      <td>0.0183</td>\n",
       "    </tr>\n",
       "    <tr>\n",
       "      <th>9</th>\n",
       "      <td>수축기혈압</td>\n",
       "      <td>0.0040</td>\n",
       "      <td>0.4166</td>\n",
       "      <td>1.1288</td>\n",
       "      <td>0.2880</td>\n",
       "    </tr>\n",
       "    <tr>\n",
       "      <th>10</th>\n",
       "      <td>이완기혈압</td>\n",
       "      <td>-0.0035</td>\n",
       "      <td>0.2550</td>\n",
       "      <td>0.0002</td>\n",
       "      <td>0.9875</td>\n",
       "    </tr>\n",
       "    <tr>\n",
       "      <th>11</th>\n",
       "      <td>맥박</td>\n",
       "      <td>0.0041</td>\n",
       "      <td>0.2615</td>\n",
       "      <td>0.0002</td>\n",
       "      <td>0.9893</td>\n",
       "    </tr>\n",
       "    <tr>\n",
       "      <th>12</th>\n",
       "      <td>intercept</td>\n",
       "      <td>-6.1503</td>\n",
       "      <td>0.1868</td>\n",
       "      <td>0.0005</td>\n",
       "      <td>0.9825</td>\n",
       "    </tr>\n",
       "  </tbody>\n",
       "</table>\n",
       "</div>"
      ],
      "text/plain": [
       "                      names    coef     SE        Z      P\n",
       "0                  Sex.M1F0  0.8575 0.5236 137.9824 0.0000\n",
       "1                       age  0.0283 0.4083   4.4111 0.0357\n",
       "2                 dizziness  0.9517 0.2098   0.0182 0.8926\n",
       "3              Hypertension -0.0188 0.4380   4.7218 0.0298\n",
       "4                  Diabetes  0.5335 0.3911   0.0023 0.9617\n",
       "5                   smoking  0.2842 0.4620   1.3332 0.2482\n",
       "6   coronary.artery.disease  0.1862 0.5867   0.2347 0.6281\n",
       "7           previous.stroke  1.0370 0.4864   0.1465 0.7019\n",
       "8            Hyperlipidemia  0.4426 0.4394   5.5706 0.0183\n",
       "9                     수축기혈압  0.0040 0.4166   1.1288 0.2880\n",
       "10                    이완기혈압 -0.0035 0.2550   0.0002 0.9875\n",
       "11                       맥박  0.0041 0.2615   0.0002 0.9893\n",
       "12                intercept -6.1503 0.1868   0.0005 0.9825"
      ]
     },
     "execution_count": 67,
     "metadata": {},
     "output_type": "execute_result"
    }
   ],
   "source": [
    "#Coefficients fitted on the standardized data \n",
    "pd.set_option('display.float_format', lambda x: '%.4f' % x)\n",
    "pd.DataFrame(data={\"names\":varnames,\"coef\":coefs,'SE': se,'Z': wald,\"P\":logistic_p})"
   ]
  },
  {
   "cell_type": "code",
   "execution_count": 66,
   "metadata": {},
   "outputs": [
    {
     "name": "stdout",
     "output_type": "stream",
     "text": [
      "0.730525235563019\n"
     ]
    }
   ],
   "source": [
    "print(roc_auc_score(y_preds['Y_test'], y_pred2))\n"
   ]
  },
  {
   "cell_type": "markdown",
   "metadata": {},
   "source": [
    "### Predictions"
   ]
  },
  {
   "cell_type": "code",
   "execution_count": 113,
   "metadata": {},
   "outputs": [],
   "source": [
    "y_preds_tr=np.concatenate((y_train.values.reshape(len(y_train),1),\n",
    "                        y_pred_lr_tr.reshape(len(y_train),1), \n",
    "                        y_pred_svm_tr.reshape(len(y_train),1), \n",
    "                        y_pred_rf_tr.reshape(len(y_train),1), \n",
    "                        y_pred_train.reshape(len(y_train),1)\n",
    "                       ), axis=1)"
   ]
  },
  {
   "cell_type": "code",
   "execution_count": 114,
   "metadata": {
    "scrolled": false
   },
   "outputs": [
    {
     "data": {
      "text/plain": [
       "(1317, 5)"
      ]
     },
     "execution_count": 114,
     "metadata": {},
     "output_type": "execute_result"
    }
   ],
   "source": [
    "y_preds=np.concatenate((y_test.values.reshape(len(y_test),1),\n",
    "                        y_pred_lr.reshape(len(y_test),1), \n",
    "                        y_pred_svm.reshape(len(y_test),1), \n",
    "                        y_pred_rf.reshape(len(y_test),1), \n",
    "                        y_pred_cat.reshape(len(y_test),1)\n",
    "                       ), axis=1)\n",
    "y_preds.shape\n"
   ]
  },
  {
   "cell_type": "code",
   "execution_count": 11,
   "metadata": {},
   "outputs": [
    {
     "ename": "NameError",
     "evalue": "name 'y_preds' is not defined",
     "output_type": "error",
     "traceback": [
      "\u001b[0;31m---------------------------------------------------------------------------\u001b[0m",
      "\u001b[0;31mNameError\u001b[0m                                 Traceback (most recent call last)",
      "\u001b[0;32m<ipython-input-11-b2e581594b20>\u001b[0m in \u001b[0;36m<module>\u001b[0;34m\u001b[0m\n\u001b[0;32m----> 1\u001b[0;31m \u001b[0my_preds\u001b[0m\u001b[0;34m=\u001b[0m\u001b[0mpd\u001b[0m\u001b[0;34m.\u001b[0m\u001b[0mDataFrame\u001b[0m\u001b[0;34m(\u001b[0m\u001b[0my_preds\u001b[0m\u001b[0;34m,\u001b[0m\u001b[0mcolumns\u001b[0m\u001b[0;34m=\u001b[0m\u001b[0;34m[\u001b[0m\u001b[0;34m'Y_test'\u001b[0m\u001b[0;34m,\u001b[0m\u001b[0;34m'Pred_lr'\u001b[0m\u001b[0;34m,\u001b[0m\u001b[0;34m'Pred_svm'\u001b[0m\u001b[0;34m,\u001b[0m\u001b[0;34m'Pred_rf'\u001b[0m\u001b[0;34m,\u001b[0m\u001b[0;34m'Pred_cat'\u001b[0m\u001b[0;34m]\u001b[0m\u001b[0;34m)\u001b[0m\u001b[0;34m\u001b[0m\u001b[0;34m\u001b[0m\u001b[0m\n\u001b[0m\u001b[1;32m      2\u001b[0m \u001b[0my_preds_tr\u001b[0m\u001b[0;34m=\u001b[0m\u001b[0mpd\u001b[0m\u001b[0;34m.\u001b[0m\u001b[0mDataFrame\u001b[0m\u001b[0;34m(\u001b[0m\u001b[0my_preds_tr\u001b[0m\u001b[0;34m,\u001b[0m\u001b[0mcolumns\u001b[0m\u001b[0;34m=\u001b[0m\u001b[0;34m[\u001b[0m\u001b[0;34m'Y_train'\u001b[0m\u001b[0;34m,\u001b[0m\u001b[0;34m'Pred_lr'\u001b[0m\u001b[0;34m,\u001b[0m\u001b[0;34m'Pred_svm'\u001b[0m\u001b[0;34m,\u001b[0m\u001b[0;34m'Pred_rf'\u001b[0m\u001b[0;34m,\u001b[0m\u001b[0;34m'Pred_cat'\u001b[0m\u001b[0;34m]\u001b[0m\u001b[0;34m)\u001b[0m\u001b[0;34m\u001b[0m\u001b[0;34m\u001b[0m\u001b[0m\n\u001b[1;32m      3\u001b[0m \u001b[0;31m# y_preds['Y_test']=y_test\u001b[0m\u001b[0;34m\u001b[0m\u001b[0;34m\u001b[0m\u001b[0;34m\u001b[0m\u001b[0m\n",
      "\u001b[0;31mNameError\u001b[0m: name 'y_preds' is not defined"
     ]
    }
   ],
   "source": [
    "y_preds=pd.DataFrame(y_preds,columns=['Y_test','Pred_lr','Pred_svm','Pred_rf','Pred_cat'])\n",
    "y_preds_tr=pd.DataFrame(y_preds_tr,columns=['Y_train','Pred_lr','Pred_svm','Pred_rf','Pred_cat'])\n",
    "# y_preds['Y_test']=y_test"
   ]
  },
  {
   "cell_type": "markdown",
   "metadata": {},
   "source": [
    "## save prediction data"
   ]
  },
  {
   "cell_type": "code",
   "execution_count": 395,
   "metadata": {},
   "outputs": [
    {
     "data": {
      "text/plain": [
       "'./results/ml_200527'"
      ]
     },
     "execution_count": 395,
     "metadata": {},
     "output_type": "execute_result"
    }
   ],
   "source": [
    "savedir"
   ]
  },
  {
   "cell_type": "code",
   "execution_count": 68,
   "metadata": {},
   "outputs": [],
   "source": [
    "y_preds_tr.to_csv(f'{savedir}/ml_preds_trainset.csv',index=False)"
   ]
  },
  {
   "cell_type": "code",
   "execution_count": 49,
   "metadata": {},
   "outputs": [],
   "source": [
    "y_preds.to_csv(f'{savedir}/ml_preds.csv',index=False)"
   ]
  },
  {
   "cell_type": "code",
   "execution_count": 106,
   "metadata": {
    "scrolled": true
   },
   "outputs": [
    {
     "name": "stdout",
     "output_type": "stream",
     "text": [
      "['lr', 'svm', 'rf', 'cat']\n"
     ]
    }
   ],
   "source": [
    "cols={\"LR\":\"#FF800E\",'SVM':\"#7E6148B2\",'RF':\"#DC0000B2\",'CAT':\"#00A087B2\"} #DL\":\"#006BA4\"\n",
    "#blue, yellow,brown ,red, green\n",
    "algs=[str.lower(x) for x in cols.keys()]\n",
    "print(algs)"
   ]
  },
  {
   "cell_type": "code",
   "execution_count": 47,
   "metadata": {},
   "outputs": [
    {
     "data": {
      "text/plain": [
       "'./results/ml_200602'"
      ]
     },
     "execution_count": 47,
     "metadata": {},
     "output_type": "execute_result"
    }
   ],
   "source": [
    "savedir"
   ]
  },
  {
   "cell_type": "code",
   "execution_count": 403,
   "metadata": {},
   "outputs": [],
   "source": [
    "import pickle\n",
    "objs = [X_train, X_test, y_train, y_test, clf, grid, grid_rf, gbm_model]\n",
    "save_object(objs, f'{savedir}/DatasetsandModels_200528.pkl')\n",
    "# clf=logistic; grid = svm; grid_rf=random forest; gbm_model = catboost"
   ]
  },
  {
   "cell_type": "code",
   "execution_count": 21,
   "metadata": {},
   "outputs": [
    {
     "name": "stderr",
     "output_type": "stream",
     "text": [
      "/home/skjang/.local/lib/python3.7/site-packages/sklearn/base.py:334: UserWarning: Trying to unpickle estimator LogisticRegression from version 0.21.2 when using version 0.23.1. This might lead to breaking code or invalid results. Use at your own risk.\n",
      "  UserWarning)\n",
      "/home/skjang/.local/lib/python3.7/site-packages/sklearn/base.py:334: UserWarning: Trying to unpickle estimator SVC from version 0.21.2 when using version 0.23.1. This might lead to breaking code or invalid results. Use at your own risk.\n",
      "  UserWarning)\n",
      "/home/skjang/.local/lib/python3.7/site-packages/sklearn/base.py:334: UserWarning: Trying to unpickle estimator RandomizedSearchCV from version 0.21.2 when using version 0.23.1. This might lead to breaking code or invalid results. Use at your own risk.\n",
      "  UserWarning)\n",
      "/home/skjang/.local/lib/python3.7/site-packages/sklearn/base.py:334: UserWarning: Trying to unpickle estimator DecisionTreeClassifier from version 0.21.2 when using version 0.23.1. This might lead to breaking code or invalid results. Use at your own risk.\n",
      "  UserWarning)\n",
      "/home/skjang/.local/lib/python3.7/site-packages/sklearn/base.py:334: UserWarning: Trying to unpickle estimator RandomForestClassifier from version 0.21.2 when using version 0.23.1. This might lead to breaking code or invalid results. Use at your own risk.\n",
      "  UserWarning)\n"
     ]
    }
   ],
   "source": [
    "# with open(\"./results/ml_200527/DatasetsandModels_200528.pkl\", 'rb') as input:\n",
    "#     [X_train, X_test, y_train, y_test, clf, grid, grid_rf, gbm_model]  = pickle.load(input)"
   ]
  },
  {
   "cell_type": "code",
   "execution_count": 9,
   "metadata": {},
   "outputs": [],
   "source": [
    "y_preds = pd.read_csv('/home/hdd1/Projects/dizziness/results/ml_200710/ml_preds.csv')\n",
    "y_preds_tr = pd.read_csv('/home/hdd1/Projects/dizziness/results/ml_200710/ml_preds_trainset.csv')"
   ]
  },
  {
   "cell_type": "code",
   "execution_count": 13,
   "metadata": {
    "scrolled": true
   },
   "outputs": [
    {
     "data": {
      "text/html": [
       "<div>\n",
       "<style scoped>\n",
       "    .dataframe tbody tr th:only-of-type {\n",
       "        vertical-align: middle;\n",
       "    }\n",
       "\n",
       "    .dataframe tbody tr th {\n",
       "        vertical-align: top;\n",
       "    }\n",
       "\n",
       "    .dataframe thead th {\n",
       "        text-align: right;\n",
       "    }\n",
       "</style>\n",
       "<table border=\"1\" class=\"dataframe\">\n",
       "  <thead>\n",
       "    <tr style=\"text-align: right;\">\n",
       "      <th></th>\n",
       "      <th>Y_test</th>\n",
       "      <th>Pred_lr</th>\n",
       "      <th>Pred_svm</th>\n",
       "      <th>Pred_rf</th>\n",
       "      <th>Pred_cat</th>\n",
       "    </tr>\n",
       "  </thead>\n",
       "  <tbody>\n",
       "    <tr>\n",
       "      <th>0</th>\n",
       "      <td>0.0</td>\n",
       "      <td>0.127120</td>\n",
       "      <td>0.130194</td>\n",
       "      <td>0.167033</td>\n",
       "      <td>0.122383</td>\n",
       "    </tr>\n",
       "    <tr>\n",
       "      <th>1</th>\n",
       "      <td>0.0</td>\n",
       "      <td>0.050909</td>\n",
       "      <td>0.048544</td>\n",
       "      <td>0.043312</td>\n",
       "      <td>0.064104</td>\n",
       "    </tr>\n",
       "    <tr>\n",
       "      <th>2</th>\n",
       "      <td>0.0</td>\n",
       "      <td>0.081642</td>\n",
       "      <td>0.048544</td>\n",
       "      <td>0.043312</td>\n",
       "      <td>0.056124</td>\n",
       "    </tr>\n",
       "    <tr>\n",
       "      <th>3</th>\n",
       "      <td>0.0</td>\n",
       "      <td>0.037149</td>\n",
       "      <td>0.037344</td>\n",
       "      <td>0.043312</td>\n",
       "      <td>0.041744</td>\n",
       "    </tr>\n",
       "    <tr>\n",
       "      <th>4</th>\n",
       "      <td>0.0</td>\n",
       "      <td>0.015940</td>\n",
       "      <td>0.000000</td>\n",
       "      <td>0.015444</td>\n",
       "      <td>0.028074</td>\n",
       "    </tr>\n",
       "    <tr>\n",
       "      <th>5</th>\n",
       "      <td>0.0</td>\n",
       "      <td>0.133425</td>\n",
       "      <td>0.203125</td>\n",
       "      <td>0.104167</td>\n",
       "      <td>0.182824</td>\n",
       "    </tr>\n",
       "    <tr>\n",
       "      <th>6</th>\n",
       "      <td>1.0</td>\n",
       "      <td>0.150659</td>\n",
       "      <td>0.203125</td>\n",
       "      <td>0.167033</td>\n",
       "      <td>0.149914</td>\n",
       "    </tr>\n",
       "    <tr>\n",
       "      <th>7</th>\n",
       "      <td>0.0</td>\n",
       "      <td>0.012810</td>\n",
       "      <td>0.000000</td>\n",
       "      <td>0.015444</td>\n",
       "      <td>0.020079</td>\n",
       "    </tr>\n",
       "    <tr>\n",
       "      <th>8</th>\n",
       "      <td>0.0</td>\n",
       "      <td>0.160736</td>\n",
       "      <td>0.182927</td>\n",
       "      <td>0.167033</td>\n",
       "      <td>0.140862</td>\n",
       "    </tr>\n",
       "    <tr>\n",
       "      <th>9</th>\n",
       "      <td>0.0</td>\n",
       "      <td>0.059024</td>\n",
       "      <td>0.048544</td>\n",
       "      <td>0.043312</td>\n",
       "      <td>0.046272</td>\n",
       "    </tr>\n",
       "    <tr>\n",
       "      <th>10</th>\n",
       "      <td>0.0</td>\n",
       "      <td>0.092801</td>\n",
       "      <td>0.116176</td>\n",
       "      <td>0.053061</td>\n",
       "      <td>0.168726</td>\n",
       "    </tr>\n",
       "    <tr>\n",
       "      <th>11</th>\n",
       "      <td>0.0</td>\n",
       "      <td>0.085215</td>\n",
       "      <td>0.060241</td>\n",
       "      <td>0.053061</td>\n",
       "      <td>0.075679</td>\n",
       "    </tr>\n",
       "    <tr>\n",
       "      <th>12</th>\n",
       "      <td>0.0</td>\n",
       "      <td>0.024548</td>\n",
       "      <td>0.012270</td>\n",
       "      <td>0.015444</td>\n",
       "      <td>0.043141</td>\n",
       "    </tr>\n",
       "    <tr>\n",
       "      <th>13</th>\n",
       "      <td>0.0</td>\n",
       "      <td>0.045283</td>\n",
       "      <td>0.048544</td>\n",
       "      <td>0.053061</td>\n",
       "      <td>0.064869</td>\n",
       "    </tr>\n",
       "    <tr>\n",
       "      <th>14</th>\n",
       "      <td>0.0</td>\n",
       "      <td>0.102454</td>\n",
       "      <td>0.087719</td>\n",
       "      <td>0.167033</td>\n",
       "      <td>0.127092</td>\n",
       "    </tr>\n",
       "    <tr>\n",
       "      <th>15</th>\n",
       "      <td>0.0</td>\n",
       "      <td>0.053501</td>\n",
       "      <td>0.048544</td>\n",
       "      <td>0.043312</td>\n",
       "      <td>0.047926</td>\n",
       "    </tr>\n",
       "    <tr>\n",
       "      <th>16</th>\n",
       "      <td>0.0</td>\n",
       "      <td>0.055756</td>\n",
       "      <td>0.048544</td>\n",
       "      <td>0.053061</td>\n",
       "      <td>0.063891</td>\n",
       "    </tr>\n",
       "    <tr>\n",
       "      <th>17</th>\n",
       "      <td>0.0</td>\n",
       "      <td>0.078205</td>\n",
       "      <td>0.060241</td>\n",
       "      <td>0.043312</td>\n",
       "      <td>0.081291</td>\n",
       "    </tr>\n",
       "    <tr>\n",
       "      <th>18</th>\n",
       "      <td>0.0</td>\n",
       "      <td>0.045107</td>\n",
       "      <td>0.048544</td>\n",
       "      <td>0.053061</td>\n",
       "      <td>0.059970</td>\n",
       "    </tr>\n",
       "    <tr>\n",
       "      <th>19</th>\n",
       "      <td>0.0</td>\n",
       "      <td>0.046039</td>\n",
       "      <td>0.048544</td>\n",
       "      <td>0.043312</td>\n",
       "      <td>0.052833</td>\n",
       "    </tr>\n",
       "    <tr>\n",
       "      <th>20</th>\n",
       "      <td>0.0</td>\n",
       "      <td>0.050172</td>\n",
       "      <td>0.048544</td>\n",
       "      <td>0.015444</td>\n",
       "      <td>0.085387</td>\n",
       "    </tr>\n",
       "    <tr>\n",
       "      <th>21</th>\n",
       "      <td>1.0</td>\n",
       "      <td>0.073407</td>\n",
       "      <td>0.048544</td>\n",
       "      <td>0.053061</td>\n",
       "      <td>0.068571</td>\n",
       "    </tr>\n",
       "    <tr>\n",
       "      <th>22</th>\n",
       "      <td>0.0</td>\n",
       "      <td>0.015241</td>\n",
       "      <td>0.000000</td>\n",
       "      <td>0.043312</td>\n",
       "      <td>0.030886</td>\n",
       "    </tr>\n",
       "    <tr>\n",
       "      <th>23</th>\n",
       "      <td>0.0</td>\n",
       "      <td>0.035907</td>\n",
       "      <td>0.037344</td>\n",
       "      <td>0.043312</td>\n",
       "      <td>0.044464</td>\n",
       "    </tr>\n",
       "    <tr>\n",
       "      <th>24</th>\n",
       "      <td>0.0</td>\n",
       "      <td>0.117220</td>\n",
       "      <td>0.130194</td>\n",
       "      <td>0.164286</td>\n",
       "      <td>0.111286</td>\n",
       "    </tr>\n",
       "    <tr>\n",
       "      <th>25</th>\n",
       "      <td>1.0</td>\n",
       "      <td>0.247921</td>\n",
       "      <td>0.271845</td>\n",
       "      <td>0.253165</td>\n",
       "      <td>0.215751</td>\n",
       "    </tr>\n",
       "    <tr>\n",
       "      <th>26</th>\n",
       "      <td>0.0</td>\n",
       "      <td>0.385325</td>\n",
       "      <td>0.301205</td>\n",
       "      <td>0.322581</td>\n",
       "      <td>0.252029</td>\n",
       "    </tr>\n",
       "    <tr>\n",
       "      <th>27</th>\n",
       "      <td>0.0</td>\n",
       "      <td>0.210732</td>\n",
       "      <td>0.250000</td>\n",
       "      <td>0.167033</td>\n",
       "      <td>0.151626</td>\n",
       "    </tr>\n",
       "    <tr>\n",
       "      <th>28</th>\n",
       "      <td>0.0</td>\n",
       "      <td>0.109391</td>\n",
       "      <td>0.130194</td>\n",
       "      <td>0.167033</td>\n",
       "      <td>0.107451</td>\n",
       "    </tr>\n",
       "    <tr>\n",
       "      <th>29</th>\n",
       "      <td>0.0</td>\n",
       "      <td>0.044858</td>\n",
       "      <td>0.048544</td>\n",
       "      <td>0.043312</td>\n",
       "      <td>0.111480</td>\n",
       "    </tr>\n",
       "    <tr>\n",
       "      <th>...</th>\n",
       "      <td>...</td>\n",
       "      <td>...</td>\n",
       "      <td>...</td>\n",
       "      <td>...</td>\n",
       "      <td>...</td>\n",
       "    </tr>\n",
       "    <tr>\n",
       "      <th>1287</th>\n",
       "      <td>1.0</td>\n",
       "      <td>0.135434</td>\n",
       "      <td>0.203125</td>\n",
       "      <td>0.208333</td>\n",
       "      <td>0.115435</td>\n",
       "    </tr>\n",
       "    <tr>\n",
       "      <th>1288</th>\n",
       "      <td>0.0</td>\n",
       "      <td>0.190849</td>\n",
       "      <td>0.250000</td>\n",
       "      <td>0.173077</td>\n",
       "      <td>0.156138</td>\n",
       "    </tr>\n",
       "    <tr>\n",
       "      <th>1289</th>\n",
       "      <td>0.0</td>\n",
       "      <td>0.163993</td>\n",
       "      <td>0.250000</td>\n",
       "      <td>0.173077</td>\n",
       "      <td>0.167892</td>\n",
       "    </tr>\n",
       "    <tr>\n",
       "      <th>1290</th>\n",
       "      <td>0.0</td>\n",
       "      <td>0.047751</td>\n",
       "      <td>0.048544</td>\n",
       "      <td>0.043312</td>\n",
       "      <td>0.049956</td>\n",
       "    </tr>\n",
       "    <tr>\n",
       "      <th>1291</th>\n",
       "      <td>0.0</td>\n",
       "      <td>0.087410</td>\n",
       "      <td>0.074074</td>\n",
       "      <td>0.043312</td>\n",
       "      <td>0.103416</td>\n",
       "    </tr>\n",
       "    <tr>\n",
       "      <th>1292</th>\n",
       "      <td>0.0</td>\n",
       "      <td>0.321409</td>\n",
       "      <td>0.301205</td>\n",
       "      <td>0.444444</td>\n",
       "      <td>0.247124</td>\n",
       "    </tr>\n",
       "    <tr>\n",
       "      <th>1293</th>\n",
       "      <td>0.0</td>\n",
       "      <td>0.092461</td>\n",
       "      <td>0.087719</td>\n",
       "      <td>0.104167</td>\n",
       "      <td>0.100945</td>\n",
       "    </tr>\n",
       "    <tr>\n",
       "      <th>1294</th>\n",
       "      <td>0.0</td>\n",
       "      <td>0.263181</td>\n",
       "      <td>0.271845</td>\n",
       "      <td>0.253165</td>\n",
       "      <td>0.148135</td>\n",
       "    </tr>\n",
       "    <tr>\n",
       "      <th>1295</th>\n",
       "      <td>0.0</td>\n",
       "      <td>0.046166</td>\n",
       "      <td>0.048544</td>\n",
       "      <td>0.043312</td>\n",
       "      <td>0.051959</td>\n",
       "    </tr>\n",
       "    <tr>\n",
       "      <th>1296</th>\n",
       "      <td>0.0</td>\n",
       "      <td>0.338343</td>\n",
       "      <td>0.301205</td>\n",
       "      <td>0.322581</td>\n",
       "      <td>0.232973</td>\n",
       "    </tr>\n",
       "    <tr>\n",
       "      <th>1297</th>\n",
       "      <td>1.0</td>\n",
       "      <td>0.072308</td>\n",
       "      <td>0.048544</td>\n",
       "      <td>0.043312</td>\n",
       "      <td>0.090036</td>\n",
       "    </tr>\n",
       "    <tr>\n",
       "      <th>1298</th>\n",
       "      <td>0.0</td>\n",
       "      <td>0.086459</td>\n",
       "      <td>0.130194</td>\n",
       "      <td>0.074627</td>\n",
       "      <td>0.119350</td>\n",
       "    </tr>\n",
       "    <tr>\n",
       "      <th>1299</th>\n",
       "      <td>0.0</td>\n",
       "      <td>0.035766</td>\n",
       "      <td>0.037344</td>\n",
       "      <td>0.060914</td>\n",
       "      <td>0.045178</td>\n",
       "    </tr>\n",
       "    <tr>\n",
       "      <th>1300</th>\n",
       "      <td>0.0</td>\n",
       "      <td>0.029557</td>\n",
       "      <td>0.027624</td>\n",
       "      <td>0.015444</td>\n",
       "      <td>0.054733</td>\n",
       "    </tr>\n",
       "    <tr>\n",
       "      <th>1301</th>\n",
       "      <td>0.0</td>\n",
       "      <td>0.053769</td>\n",
       "      <td>0.048544</td>\n",
       "      <td>0.053061</td>\n",
       "      <td>0.077165</td>\n",
       "    </tr>\n",
       "    <tr>\n",
       "      <th>1302</th>\n",
       "      <td>0.0</td>\n",
       "      <td>0.162988</td>\n",
       "      <td>0.233886</td>\n",
       "      <td>0.173077</td>\n",
       "      <td>0.166932</td>\n",
       "    </tr>\n",
       "    <tr>\n",
       "      <th>1303</th>\n",
       "      <td>0.0</td>\n",
       "      <td>0.063106</td>\n",
       "      <td>0.048544</td>\n",
       "      <td>0.043312</td>\n",
       "      <td>0.068485</td>\n",
       "    </tr>\n",
       "    <tr>\n",
       "      <th>1304</th>\n",
       "      <td>0.0</td>\n",
       "      <td>0.048195</td>\n",
       "      <td>0.048544</td>\n",
       "      <td>0.053061</td>\n",
       "      <td>0.062646</td>\n",
       "    </tr>\n",
       "    <tr>\n",
       "      <th>1305</th>\n",
       "      <td>0.0</td>\n",
       "      <td>0.066673</td>\n",
       "      <td>0.048544</td>\n",
       "      <td>0.043312</td>\n",
       "      <td>0.125817</td>\n",
       "    </tr>\n",
       "    <tr>\n",
       "      <th>1306</th>\n",
       "      <td>0.0</td>\n",
       "      <td>0.049155</td>\n",
       "      <td>0.048544</td>\n",
       "      <td>0.043312</td>\n",
       "      <td>0.097234</td>\n",
       "    </tr>\n",
       "    <tr>\n",
       "      <th>1307</th>\n",
       "      <td>0.0</td>\n",
       "      <td>0.026351</td>\n",
       "      <td>0.037344</td>\n",
       "      <td>0.043312</td>\n",
       "      <td>0.045607</td>\n",
       "    </tr>\n",
       "    <tr>\n",
       "      <th>1308</th>\n",
       "      <td>0.0</td>\n",
       "      <td>0.123396</td>\n",
       "      <td>0.130194</td>\n",
       "      <td>0.167033</td>\n",
       "      <td>0.115141</td>\n",
       "    </tr>\n",
       "    <tr>\n",
       "      <th>1309</th>\n",
       "      <td>0.0</td>\n",
       "      <td>0.102636</td>\n",
       "      <td>0.087719</td>\n",
       "      <td>0.167033</td>\n",
       "      <td>0.104465</td>\n",
       "    </tr>\n",
       "    <tr>\n",
       "      <th>1310</th>\n",
       "      <td>0.0</td>\n",
       "      <td>0.064120</td>\n",
       "      <td>0.048544</td>\n",
       "      <td>0.043312</td>\n",
       "      <td>0.061734</td>\n",
       "    </tr>\n",
       "    <tr>\n",
       "      <th>1311</th>\n",
       "      <td>0.0</td>\n",
       "      <td>0.301659</td>\n",
       "      <td>0.301205</td>\n",
       "      <td>0.253165</td>\n",
       "      <td>0.214478</td>\n",
       "    </tr>\n",
       "    <tr>\n",
       "      <th>1312</th>\n",
       "      <td>0.0</td>\n",
       "      <td>0.171026</td>\n",
       "      <td>0.182927</td>\n",
       "      <td>0.074627</td>\n",
       "      <td>0.133975</td>\n",
       "    </tr>\n",
       "    <tr>\n",
       "      <th>1313</th>\n",
       "      <td>0.0</td>\n",
       "      <td>0.108683</td>\n",
       "      <td>0.130194</td>\n",
       "      <td>0.173077</td>\n",
       "      <td>0.111029</td>\n",
       "    </tr>\n",
       "    <tr>\n",
       "      <th>1314</th>\n",
       "      <td>0.0</td>\n",
       "      <td>0.032649</td>\n",
       "      <td>0.037344</td>\n",
       "      <td>0.043312</td>\n",
       "      <td>0.041338</td>\n",
       "    </tr>\n",
       "    <tr>\n",
       "      <th>1315</th>\n",
       "      <td>0.0</td>\n",
       "      <td>0.037772</td>\n",
       "      <td>0.048544</td>\n",
       "      <td>0.167033</td>\n",
       "      <td>0.141896</td>\n",
       "    </tr>\n",
       "    <tr>\n",
       "      <th>1316</th>\n",
       "      <td>0.0</td>\n",
       "      <td>0.045078</td>\n",
       "      <td>0.048544</td>\n",
       "      <td>0.015444</td>\n",
       "      <td>0.066757</td>\n",
       "    </tr>\n",
       "  </tbody>\n",
       "</table>\n",
       "<p>1317 rows × 5 columns</p>\n",
       "</div>"
      ],
      "text/plain": [
       "      Y_test   Pred_lr  Pred_svm   Pred_rf  Pred_cat\n",
       "0        0.0  0.127120  0.130194  0.167033  0.122383\n",
       "1        0.0  0.050909  0.048544  0.043312  0.064104\n",
       "2        0.0  0.081642  0.048544  0.043312  0.056124\n",
       "3        0.0  0.037149  0.037344  0.043312  0.041744\n",
       "4        0.0  0.015940  0.000000  0.015444  0.028074\n",
       "5        0.0  0.133425  0.203125  0.104167  0.182824\n",
       "6        1.0  0.150659  0.203125  0.167033  0.149914\n",
       "7        0.0  0.012810  0.000000  0.015444  0.020079\n",
       "8        0.0  0.160736  0.182927  0.167033  0.140862\n",
       "9        0.0  0.059024  0.048544  0.043312  0.046272\n",
       "10       0.0  0.092801  0.116176  0.053061  0.168726\n",
       "11       0.0  0.085215  0.060241  0.053061  0.075679\n",
       "12       0.0  0.024548  0.012270  0.015444  0.043141\n",
       "13       0.0  0.045283  0.048544  0.053061  0.064869\n",
       "14       0.0  0.102454  0.087719  0.167033  0.127092\n",
       "15       0.0  0.053501  0.048544  0.043312  0.047926\n",
       "16       0.0  0.055756  0.048544  0.053061  0.063891\n",
       "17       0.0  0.078205  0.060241  0.043312  0.081291\n",
       "18       0.0  0.045107  0.048544  0.053061  0.059970\n",
       "19       0.0  0.046039  0.048544  0.043312  0.052833\n",
       "20       0.0  0.050172  0.048544  0.015444  0.085387\n",
       "21       1.0  0.073407  0.048544  0.053061  0.068571\n",
       "22       0.0  0.015241  0.000000  0.043312  0.030886\n",
       "23       0.0  0.035907  0.037344  0.043312  0.044464\n",
       "24       0.0  0.117220  0.130194  0.164286  0.111286\n",
       "25       1.0  0.247921  0.271845  0.253165  0.215751\n",
       "26       0.0  0.385325  0.301205  0.322581  0.252029\n",
       "27       0.0  0.210732  0.250000  0.167033  0.151626\n",
       "28       0.0  0.109391  0.130194  0.167033  0.107451\n",
       "29       0.0  0.044858  0.048544  0.043312  0.111480\n",
       "...      ...       ...       ...       ...       ...\n",
       "1287     1.0  0.135434  0.203125  0.208333  0.115435\n",
       "1288     0.0  0.190849  0.250000  0.173077  0.156138\n",
       "1289     0.0  0.163993  0.250000  0.173077  0.167892\n",
       "1290     0.0  0.047751  0.048544  0.043312  0.049956\n",
       "1291     0.0  0.087410  0.074074  0.043312  0.103416\n",
       "1292     0.0  0.321409  0.301205  0.444444  0.247124\n",
       "1293     0.0  0.092461  0.087719  0.104167  0.100945\n",
       "1294     0.0  0.263181  0.271845  0.253165  0.148135\n",
       "1295     0.0  0.046166  0.048544  0.043312  0.051959\n",
       "1296     0.0  0.338343  0.301205  0.322581  0.232973\n",
       "1297     1.0  0.072308  0.048544  0.043312  0.090036\n",
       "1298     0.0  0.086459  0.130194  0.074627  0.119350\n",
       "1299     0.0  0.035766  0.037344  0.060914  0.045178\n",
       "1300     0.0  0.029557  0.027624  0.015444  0.054733\n",
       "1301     0.0  0.053769  0.048544  0.053061  0.077165\n",
       "1302     0.0  0.162988  0.233886  0.173077  0.166932\n",
       "1303     0.0  0.063106  0.048544  0.043312  0.068485\n",
       "1304     0.0  0.048195  0.048544  0.053061  0.062646\n",
       "1305     0.0  0.066673  0.048544  0.043312  0.125817\n",
       "1306     0.0  0.049155  0.048544  0.043312  0.097234\n",
       "1307     0.0  0.026351  0.037344  0.043312  0.045607\n",
       "1308     0.0  0.123396  0.130194  0.167033  0.115141\n",
       "1309     0.0  0.102636  0.087719  0.167033  0.104465\n",
       "1310     0.0  0.064120  0.048544  0.043312  0.061734\n",
       "1311     0.0  0.301659  0.301205  0.253165  0.214478\n",
       "1312     0.0  0.171026  0.182927  0.074627  0.133975\n",
       "1313     0.0  0.108683  0.130194  0.173077  0.111029\n",
       "1314     0.0  0.032649  0.037344  0.043312  0.041338\n",
       "1315     0.0  0.037772  0.048544  0.167033  0.141896\n",
       "1316     0.0  0.045078  0.048544  0.015444  0.066757\n",
       "\n",
       "[1317 rows x 5 columns]"
      ]
     },
     "execution_count": 13,
     "metadata": {},
     "output_type": "execute_result"
    }
   ],
   "source": [
    "y_preds"
   ]
  },
  {
   "cell_type": "markdown",
   "metadata": {},
   "source": [
    "## ROC curve"
   ]
  },
  {
   "cell_type": "code",
   "execution_count": 15,
   "metadata": {
    "scrolled": false
   },
   "outputs": [
    {
     "name": "stdout",
     "output_type": "stream",
     "text": [
      "0.7304452707475378\n",
      "0.7267568936334678\n",
      "0.6929750909599777\n",
      "0.7379952820758866\n"
     ]
    }
   ],
   "source": [
    "import numpy as np\n",
    "from sklearn.metrics import roc_auc_score\n",
    "print(roc_auc_score(y_preds['Y_test'], y_preds['Pred_lr']))\n",
    "print(roc_auc_score(y_preds['Y_test'], y_preds['Pred_svm']))\n",
    "print(roc_auc_score(y_preds['Y_test'], y_preds['Pred_rf']))\n",
    "print(roc_auc_score(y_preds['Y_test'], y_preds['Pred_cat']))"
   ]
  },
  {
   "cell_type": "code",
   "execution_count": 13,
   "metadata": {},
   "outputs": [
    {
     "data": {
      "text/plain": [
       "array([0.1       , 0.09928515, 0.09936407, ..., 0.        , 0.        ,\n",
       "       1.        ])"
      ]
     },
     "execution_count": 13,
     "metadata": {},
     "output_type": "execute_result"
    }
   ],
   "source": [
    "precision"
   ]
  },
  {
   "cell_type": "code",
   "execution_count": 14,
   "metadata": {},
   "outputs": [
    {
     "data": {
      "text/plain": [
       "array([1.        , 0.99206349, 0.99206349, ..., 0.        , 0.        ,\n",
       "       0.        ])"
      ]
     },
     "execution_count": 14,
     "metadata": {},
     "output_type": "execute_result"
    }
   ],
   "source": [
    "recall"
   ]
  },
  {
   "cell_type": "code",
   "execution_count": 19,
   "metadata": {},
   "outputs": [
    {
     "name": "stdout",
     "output_type": "stream",
     "text": [
      "0.20432630450951747\n",
      "0.18851513691784422\n",
      "0.20854622870664352\n",
      "0.20415114257654401\n"
     ]
    },
    {
     "name": "stderr",
     "output_type": "stream",
     "text": [
      "/home/skjang/anaconda3/envs/skorch/lib/python3.7/site-packages/ipykernel_launcher.py:15: MatplotlibDeprecationWarning: Unrecognized location 'top right'. Falling back on 'best'; valid locations are\n",
      "\tbest\n",
      "\tupper right\n",
      "\tupper left\n",
      "\tlower left\n",
      "\tlower right\n",
      "\tright\n",
      "\tcenter left\n",
      "\tcenter right\n",
      "\tlower center\n",
      "\tupper center\n",
      "\tcenter\n",
      "This will raise an exception in 3.3.\n",
      "  from ipykernel import kernelapp as app\n"
     ]
    },
    {
     "data": {
      "image/png": "[encoded data removed]",
      "text/plain": [
       "<Figure size 360x360 with 1 Axes>"
      ]
     },
     "metadata": {
      "needs_background": "light"
     },
     "output_type": "display_data"
    }
   ],
   "source": [
    "from sklearn.metrics import precision_recall_curve, average_precision_score\n",
    "fig_size=(5,5)\n",
    "\n",
    "plt.figure(figsize=fig_size)\n",
    "plt.xlabel('Recall ( True positive rate )')\n",
    "plt.ylabel('Precision ( Positive predictive value )')\n",
    "# plt.plot([0, 1], [0, 1], color='grey', linestyle='--')\n",
    "plt.xlim([-0.01, 1.01])\n",
    "plt.ylim([-0.01, 1.01])\n",
    "for alg in ['lr','svm','rf','cat']:\n",
    "    exec(f\"precision, recall, thresholds = precision_recall_curve(y_preds['Y_test'], y_preds['Pred_{alg}'])\")\n",
    "    exec(f\"pr_auc = average_precision_score(y_preds['Y_test'], y_preds['Pred_{alg}'])\")\n",
    "    print(pr_auc)\n",
    "    plt.plot( recall,precision,  lw=2, label='%s ( AUPR = %0.3f )' %(alg.upper(), pr_auc))\n",
    "    plt.legend(loc=\"upper right\")\n",
    "    \n",
    "plt.savefig('/home/hdd1/Projects/dizziness/results/PR_curve_4models_200710.png', dpi=600,  transparent=False, bbox_inches=None, pad_inches=0.1)"
   ]
  },
  {
   "cell_type": "code",
   "execution_count": 16,
   "metadata": {},
   "outputs": [
    {
     "name": "stdout",
     "output_type": "stream",
     "text": [
      "0.7304452707475378\n",
      "0.7267568936334678\n",
      "0.7264470299734783\n",
      "0.7379952820758866\n"
     ]
    },
    {
     "data": {
      "image/png": "[encoded data removed]",
      "text/plain": [
       "<Figure size 360x360 with 1 Axes>"
      ]
     },
     "metadata": {
      "needs_background": "light"
     },
     "output_type": "display_data"
    }
   ],
   "source": [
    "import datetime\n",
    "from sklearn.metrics import roc_curve, auc\n",
    "fig_size=(5,5)\n",
    "date=datetime.datetime.now().strftime(\"%y%m%d\")\n",
    "\n",
    "\n",
    "#GRAPH DATA\n",
    "plt.figure(figsize=fig_size)\n",
    "plt.xlabel('False Positive Rate')\n",
    "plt.ylabel('True Positive Rate')\n",
    "plt.plot([0, 1], [0, 1], color='grey', linestyle='--')\n",
    "plt.xlim([-0.01, 1.01])\n",
    "plt.ylim([-0.01, 1.01])\n",
    "for alg in ['lr','svm','rf','cat']:\n",
    "    exec(f\"fpr, tpr, thresholds = roc_curve(y_preds['Y_test'], y_preds['Pred_{alg}'])\")\n",
    "    roc_auc = auc(fpr, tpr)\n",
    "    print(roc_auc)\n",
    "    plt.plot(fpr, tpr,  lw=2, label='%s ( AUC = %0.3f )' %(alg.upper(), roc_auc))\n",
    "    plt.legend(loc=\"lower right\")\n",
    "    \n",
    "plt.savefig('/home/hdd1/Projects/dizziness/results/ROC_curve_4models_200710.png', dpi=600, format='png',  transparent=False, bbox_inches=None, pad_inches=0.1)"
   ]
  },
  {
   "cell_type": "markdown",
   "metadata": {},
   "source": [
    "## calibration curve"
   ]
  },
  {
   "cell_type": "code",
   "execution_count": 14,
   "metadata": {},
   "outputs": [],
   "source": [
    "from sklearn.calibration import calibration_curve\n",
    "mpv, fop = calibration_curve( y_preds['Y_test'],y_preds['Pred_rf'],n_bins=10, strategy='quantile')"
   ]
  },
  {
   "cell_type": "code",
   "execution_count": 15,
   "metadata": {},
   "outputs": [
    {
     "data": {
      "image/png": "[encoded data removed]",
      "text/plain": [
       "<Figure size 432x432 with 1 Axes>"
      ]
     },
     "metadata": {
      "needs_background": "light"
     },
     "output_type": "display_data"
    }
   ],
   "source": [
    "import matplotlib.pyplot as plt\n",
    "fig=plt.figure(figsize=(6,6))\n",
    "ax = plt.axes()\n",
    "plt.plot([0, 1], [0, 1], linestyle='--',color='grey')\n",
    "ax.set(ylabel='Observed frequency', xlabel='Predicted probability')\n",
    "ax.set(xlim=[0,1],ylim=[0,1]) \n",
    "plt.plot(mpv, fop, marker='.')\n",
    "plt.show()"
   ]
  },
  {
   "cell_type": "code",
   "execution_count": 54,
   "metadata": {},
   "outputs": [
    {
     "data": {
      "text/plain": [
       "count    1317.000000\n",
       "mean        0.101427\n",
       "std         0.061662\n",
       "min         0.018898\n",
       "25%         0.052833\n",
       "50%         0.088668\n",
       "75%         0.133163\n",
       "max         0.379032\n",
       "Name: Pred_cat, dtype: float64"
      ]
     },
     "execution_count": 54,
     "metadata": {},
     "output_type": "execute_result"
    }
   ],
   "source": [
    "y_preds['Pred_cat'].describe()"
   ]
  },
  {
   "cell_type": "code",
   "execution_count": 133,
   "metadata": {},
   "outputs": [],
   "source": [
    "fpr, recall, thresholds = roc_curve(y_preds['Y_test'],y_preds['Pred_rf'])\n"
   ]
  },
  {
   "cell_type": "code",
   "execution_count": 147,
   "metadata": {},
   "outputs": [],
   "source": [
    "fprc=fpr.copy()\n",
    "fprc[recall<=0.99] =1\n",
    "idx= np.argmin(fprc)"
   ]
  },
  {
   "cell_type": "code",
   "execution_count": 149,
   "metadata": {},
   "outputs": [
    {
     "data": {
      "text/plain": [
       "0.8589420654911839"
      ]
     },
     "execution_count": 149,
     "metadata": {},
     "output_type": "execute_result"
    }
   ],
   "source": [
    "fprc[idx]"
   ]
  },
  {
   "cell_type": "code",
   "execution_count": 150,
   "metadata": {},
   "outputs": [
    {
     "data": {
      "text/plain": [
       "0.9920634920634921"
      ]
     },
     "execution_count": 150,
     "metadata": {},
     "output_type": "execute_result"
    }
   ],
   "source": [
    "recall[idx]"
   ]
  },
  {
   "cell_type": "markdown",
   "metadata": {},
   "source": [
    "## Optimal Threshold"
   ]
  },
  {
   "cell_type": "code",
   "execution_count": 18,
   "metadata": {},
   "outputs": [],
   "source": [
    "def estimateOptimalThreshold(y_true, y_proba, verbose=True, method='specificity',niter=10,kfold=5,sen=0.99):\n",
    "    from sklearn.metrics import precision_recall_curve, f1_score, confusion_matrix\n",
    "    from sklearn.model_selection import RepeatedStratifiedKFold\n",
    "    import numpy as np\n",
    "    np.seterr(divide='ignore', invalid='ignore')\n",
    "    def threshold_search(yt, yp):\n",
    "        if method=='F1':\n",
    "            precision, recall, thresholds = precision_recall_curve(yt, yp)\n",
    "            thresholds = np.append(thresholds, 1.001) \n",
    "            F = 2 / (1/precision + 1/recall)\n",
    "            best_score = np.max(F)\n",
    "            best_th = thresholds[np.argmax(F)]\n",
    "        elif method=='specificity': \n",
    "            fpr, recall, thresholds = roc_curve(yt, yp)\n",
    "            fprc=fpr.copy()\n",
    "            fprc[recall<=sen] =1\n",
    "            idx= np.argmin(fprc)\n",
    "            best_score=1-fpr[idx] # specificity at recall>0.99\n",
    "            best_th =thresholds[idx]\n",
    "        return best_th \n",
    "    if type(y_true)==pd.Series:\n",
    "        y_true=y_true.values.copy()\n",
    "    rkf = RepeatedStratifiedKFold(n_splits=kfold, n_repeats=niter)\n",
    "    scores = []\n",
    "    ths = []\n",
    "    for train_index, test_index in rkf.split(y_true, y_true):\n",
    "        y_prob_train, y_prob_test = y_proba[train_index], y_proba[test_index]\n",
    "        y_true_train, y_true_test = y_true[train_index], y_true[test_index]\n",
    "        # determine best threshold on 'train' part \n",
    "        best_threshold = threshold_search(y_true_train, y_prob_train)\n",
    "        # use this threshold on 'test' part for score \n",
    "        if method=='F1':\n",
    "            sc = f1_score(y_true_test, (y_prob_test > best_threshold).astype(int))\n",
    "        elif method=='specificity':\n",
    "            tn, fp, fn, tp=confusion_matrix(y_true_test, y_prob_test>best_threshold).ravel()\n",
    "            sc=(tn/(fp+tn))#specificity\n",
    "            # sc=(tp/(tp+fp))#precision\n",
    "        scores.append(sc)\n",
    "        ths.append(best_threshold)\n",
    "    best_th = np.median(ths)\n",
    "    score = np.mean(scores)\n",
    "    if verbose: print(f'Best threshold: {np.round(best_th, 4)}, Score: {np.round(score,5)}')\n",
    "    return best_th, score"
   ]
  },
  {
   "cell_type": "code",
   "execution_count": 19,
   "metadata": {},
   "outputs": [],
   "source": [
    "from sklearn.metrics import confusion_matrix, recall_score,roc_auc_score,confusion_matrix\n"
   ]
  },
  {
   "cell_type": "code",
   "execution_count": 20,
   "metadata": {
    "scrolled": false
   },
   "outputs": [
    {
     "name": "stdout",
     "output_type": "stream",
     "text": [
      "lr\n",
      "0.73\n",
      "sensitivity = 99%\n",
      "Best threshold: 0.0252, Score: 0.14277\n",
      "0.992\n",
      "0.107\n",
      "sensitivity = 99.9%\n",
      "Best threshold: 0.0209, Score: 0.09468\n",
      "0.992\n",
      "0.068\n",
      "svm\n",
      "0.727\n",
      "sensitivity = 99%\n",
      "Best threshold: 0.031, Score: 0.1605\n",
      "0.984\n",
      "0.156\n",
      "sensitivity = 99.9%\n",
      "Best threshold: 0.0266, Score: 0.10619\n",
      "0.992\n",
      "0.116\n",
      "rf\n",
      "0.693\n",
      "sensitivity = 99%\n",
      "Best threshold: 0.3252, Score: 0.1911\n",
      "0.0\n",
      "0.997\n",
      "sensitivity = 99.9%\n",
      "Best threshold: 0.2711, Score: 0.10751\n",
      "0.103\n",
      "0.974\n",
      "cat\n",
      "0.738\n",
      "sensitivity = 99%\n",
      "Best threshold: 0.0426, Score: 0.22858\n",
      "0.984\n",
      "0.152\n",
      "sensitivity = 99.9%\n",
      "Best threshold: 0.028, Score: 0.09888\n",
      "1.0\n",
      "0.046\n"
     ]
    }
   ],
   "source": [
    "from sklearn.metrics import precision_score\n",
    "\n",
    "for alg in ['lr','svm','rf','cat']:\n",
    "    print(alg)\n",
    "    exec(f\"auc_{alg}=roc_auc_score(y_preds['Y_test'], y_preds['Pred_{alg}']);print(round(auc_{alg},3))\")\n",
    "    print('sensitivity = 99%')\n",
    "    exec(f\"thr99_{alg},_=estimateOptimalThreshold(y_preds_tr['Y_train'],y_preds_tr['Pred_{alg}'],sen=0.99)\")\n",
    "    exec(f\"sen99_{alg}=recall_score(y_preds['Y_test'], y_preds['Pred_{alg}']>thr99_{alg});print(round(sen99_{alg},3))\")\n",
    "    exec(f\"tn, fp, fn, tp = confusion_matrix(y_preds['Y_test'], y_preds['Pred_{alg}']>thr99_{alg}).ravel(); spe99_{alg}=tn/(tn+fp);print(round(spe99_{alg},3))\")\n",
    "    print('sensitivity = 99.9%')\n",
    "    exec(f\"thr999_{alg},_=estimateOptimalThreshold(y_preds_tr['Y_train'],y_preds_tr['Pred_{alg}'],sen=0.999)\")\n",
    "    exec(f\"sen999_{alg}=recall_score(y_preds['Y_test'], y_preds['Pred_{alg}']>thr999_{alg});print(round(sen999_{alg},3))\")\n",
    "    exec(f\"tn, fp, fn, tp = confusion_matrix(y_preds['Y_test'], y_preds['Pred_{alg}']>thr999_{alg}).ravel(); spe999_{alg}=tn/(tn+fp);print(round(spe999_{alg},3))\")\n"
   ]
  },
  {
   "cell_type": "markdown",
   "metadata": {},
   "source": [
    "해보니까 estimateOptimalThreshold로 repeated k-fold한거랑, trainset에서 바로 구한거랑 똑같음 -.-"
   ]
  },
  {
   "cell_type": "code",
   "execution_count": 94,
   "metadata": {
    "scrolled": true
   },
   "outputs": [
    {
     "data": {
      "text/html": [
       "<div>\n",
       "<style scoped>\n",
       "    .dataframe tbody tr th:only-of-type {\n",
       "        vertical-align: middle;\n",
       "    }\n",
       "\n",
       "    .dataframe tbody tr th {\n",
       "        vertical-align: top;\n",
       "    }\n",
       "\n",
       "    .dataframe thead th {\n",
       "        text-align: right;\n",
       "    }\n",
       "</style>\n",
       "<table border=\"1\" class=\"dataframe\">\n",
       "  <thead>\n",
       "    <tr style=\"text-align: right;\">\n",
       "      <th></th>\n",
       "      <th>Y_test</th>\n",
       "      <th>Pred_lr</th>\n",
       "      <th>Pred_svm</th>\n",
       "      <th>Pred_rf</th>\n",
       "      <th>Pred_cat</th>\n",
       "    </tr>\n",
       "  </thead>\n",
       "  <tbody>\n",
       "    <tr>\n",
       "      <th>0</th>\n",
       "      <td>0.0000</td>\n",
       "      <td>0.1271</td>\n",
       "      <td>0.1302</td>\n",
       "      <td>0.1670</td>\n",
       "      <td>0.1224</td>\n",
       "    </tr>\n",
       "    <tr>\n",
       "      <th>1</th>\n",
       "      <td>0.0000</td>\n",
       "      <td>0.0509</td>\n",
       "      <td>0.0485</td>\n",
       "      <td>0.0433</td>\n",
       "      <td>0.0641</td>\n",
       "    </tr>\n",
       "    <tr>\n",
       "      <th>2</th>\n",
       "      <td>0.0000</td>\n",
       "      <td>0.0816</td>\n",
       "      <td>0.0485</td>\n",
       "      <td>0.0433</td>\n",
       "      <td>0.0561</td>\n",
       "    </tr>\n",
       "    <tr>\n",
       "      <th>3</th>\n",
       "      <td>0.0000</td>\n",
       "      <td>0.0371</td>\n",
       "      <td>0.0373</td>\n",
       "      <td>0.0433</td>\n",
       "      <td>0.0417</td>\n",
       "    </tr>\n",
       "    <tr>\n",
       "      <th>4</th>\n",
       "      <td>0.0000</td>\n",
       "      <td>0.0159</td>\n",
       "      <td>0.0000</td>\n",
       "      <td>0.0154</td>\n",
       "      <td>0.0281</td>\n",
       "    </tr>\n",
       "  </tbody>\n",
       "</table>\n",
       "</div>"
      ],
      "text/plain": [
       "   Y_test  Pred_lr  Pred_svm  Pred_rf  Pred_cat\n",
       "0  0.0000   0.1271    0.1302   0.1670    0.1224\n",
       "1  0.0000   0.0509    0.0485   0.0433    0.0641\n",
       "2  0.0000   0.0816    0.0485   0.0433    0.0561\n",
       "3  0.0000   0.0371    0.0373   0.0433    0.0417\n",
       "4  0.0000   0.0159    0.0000   0.0154    0.0281"
      ]
     },
     "execution_count": 94,
     "metadata": {},
     "output_type": "execute_result"
    }
   ],
   "source": [
    "y_preds.head()"
   ]
  },
  {
   "cell_type": "code",
   "execution_count": 89,
   "metadata": {},
   "outputs": [],
   "source": [
    "thr99df=pd.DataFrame([thr99_lr,thr99_svm,thr99_rf,thr99_cat],index= ['lr','svm','rf','cat'],columns=['sen99'])\n",
    "thr999df=pd.DataFrame([thr999_lr,thr999_svm,thr999_rf,thr999_cat],index= ['lr','svm','rf','cat'],columns=['sen999'])"
   ]
  },
  {
   "cell_type": "code",
   "execution_count": 93,
   "metadata": {},
   "outputs": [],
   "source": [
    "thrdf=pd.concat([thr99df,thr999df],1)\n",
    "thrdf.to_csv('/home/hdd1/Projects/dizziness/results/ml_200710/thresholds.csv')"
   ]
  },
  {
   "cell_type": "code",
   "execution_count": 97,
   "metadata": {},
   "outputs": [
    {
     "data": {
      "text/plain": [
       "count   3164.0000\n",
       "mean       0.4420\n",
       "std        0.1155\n",
       "min        0.2422\n",
       "25%        0.3627\n",
       "50%        0.4293\n",
       "75%        0.5342\n",
       "max        0.7410\n",
       "Name: Pred_rf, dtype: float64"
      ]
     },
     "execution_count": 97,
     "metadata": {},
     "output_type": "execute_result"
    }
   ],
   "source": [
    "y_preds_tr['Pred_rf'].describe()"
   ]
  },
  {
   "cell_type": "code",
   "execution_count": 96,
   "metadata": {},
   "outputs": [
    {
     "data": {
      "text/plain": [
       "count   1317.0000\n",
       "mean       0.1028\n",
       "std        0.0822\n",
       "min        0.0154\n",
       "25%        0.0433\n",
       "50%        0.0531\n",
       "75%        0.1670\n",
       "max        0.4444\n",
       "Name: Pred_rf, dtype: float64"
      ]
     },
     "execution_count": 96,
     "metadata": {},
     "output_type": "execute_result"
    }
   ],
   "source": [
    "y_preds['Pred_rf'].describe()"
   ]
  },
  {
   "cell_type": "markdown",
   "metadata": {},
   "source": [
    "### Confusion matrix"
   ]
  },
  {
   "cell_type": "code",
   "execution_count": 173,
   "metadata": {
    "scrolled": true
   },
   "outputs": [
    {
     "data": {
      "text/plain": [
       "array([[ 138, 1053],\n",
       "       [   1,  125]])"
      ]
     },
     "execution_count": 173,
     "metadata": {},
     "output_type": "execute_result"
    }
   ],
   "source": [
    "confusion_matrix(y_preds['Y_test'],y_preds['Pred_svm']>thr99_svm)"
   ]
  },
  {
   "cell_type": "code",
   "execution_count": 174,
   "metadata": {},
   "outputs": [
    {
     "data": {
      "text/plain": [
       "array([[  55, 1136],\n",
       "       [   0,  126]])"
      ]
     },
     "execution_count": 174,
     "metadata": {},
     "output_type": "execute_result"
    }
   ],
   "source": [
    "confusion_matrix(y_preds['Y_test'],y_preds['Pred_cat']>thr999_cat)"
   ]
  },
  {
   "cell_type": "code",
   "execution_count": 219,
   "metadata": {},
   "outputs": [
    {
     "data": {
      "text/plain": [
       "1317"
      ]
     },
     "execution_count": 219,
     "metadata": {},
     "output_type": "execute_result"
    }
   ],
   "source": [
    "len(y_preds['Y_test'])"
   ]
  },
  {
   "cell_type": "code",
   "execution_count": 214,
   "metadata": {},
   "outputs": [
    {
     "data": {
      "text/plain": [
       "0.0    1191\n",
       "1.0     126\n",
       "Name: Y_test, dtype: int64"
      ]
     },
     "execution_count": 214,
     "metadata": {},
     "output_type": "execute_result"
    }
   ],
   "source": [
    "y_preds['Y_test'].value_counts()"
   ]
  },
  {
   "cell_type": "code",
   "execution_count": 215,
   "metadata": {},
   "outputs": [
    {
     "data": {
      "text/plain": [
       "True     1178\n",
       "False     139\n",
       "Name: Pred_svm, dtype: int64"
      ]
     },
     "execution_count": 215,
     "metadata": {},
     "output_type": "execute_result"
    }
   ],
   "source": [
    "(y_preds['Pred_svm']>thr99_svm).value_counts()"
   ]
  },
  {
   "cell_type": "code",
   "execution_count": 216,
   "metadata": {},
   "outputs": [],
   "source": [
    "\n",
    "from sklearn import svm, datasets\n",
    "from sklearn.model_selection import train_test_split\n",
    "from sklearn.metrics import confusion_matrix\n",
    "from sklearn.utils.multiclass import unique_labels\n",
    "\n",
    "def plot_confusion_matrix(y_true, y_pred_binary, flag,classes=None,\n",
    "                          normalize=False,\n",
    "                          title=None,\n",
    "                          cmap=plt.cm.Blues,\n",
    "                          savepth=None,\n",
    "                          fig_size=(2,6),\n",
    "                          binary_label=True, #binary or original mRS\n",
    "                          auc=0,\n",
    "                          date=datetime.datetime.now().strftime(\"%y%m%d\")):\n",
    "    \"\"\"\n",
    "    This function prints and plots the confusion matrix.\n",
    "    Normalization can be applied by setting `normalize=True`.\n",
    "    \"\"\"\n",
    "    def labelling(a,cutoff):\n",
    "        if cutoff==1:\n",
    "            l='greater than 1' if a ==0 else 'less than or equal to 1'\n",
    "        else :\n",
    "            l='greater than 2' if a ==0 else 'less than or equal to 2'\n",
    "        return l\n",
    "    # Compute confusion matrix\n",
    "    cm = confusion_matrix(y_true, y_pred_binary)\n",
    "    # Only use the labels that appear in the data\n",
    "    xc = unique_labels(y_pred_binary)\n",
    "    yc = unique_labels(y_true)\n",
    "    cm = cm[:len(yc),:len(xc)]\n",
    "    if not classes==None:  \n",
    "        xc = yc = classes[unique_labels(y_true, y_pred_binary)]\n",
    "\n",
    "#     xcl = [labelling(x,cutoff=flag)  for x in xc.astype('int').tolist()]\n",
    "#     if binary_label :\n",
    "#         ycl = [labelling(x,cutoff=flag)  for x in yc.astype('int').tolist()]\n",
    "#     else:\n",
    "#         ycl=yc.astype('str').tolist()\n",
    "\n",
    "    if normalize:\n",
    "        cmn = cm.astype('float') / cm.sum(axis=1)[:, np.newaxis]\n",
    "        print(\"Normalized confusion matrix\")\n",
    "    else:\n",
    "        print('Confusion matrix, without normalization')\n",
    "\n",
    "    print(cm)\n",
    "\n",
    "    fig, ax = plt.subplots(figsize=fig_size)\n",
    "    im = ax.imshow(cmn if normalize else cm, interpolation='nearest', cmap=cmap)\n",
    "    # ax.figure.colorbar(im, ax=ax)\n",
    "    # We want to show all ticks...\n",
    "    ax.set(xticks=np.arange(cm.shape[1]+1)-0.5,\n",
    "           yticks=np.arange(cm.shape[0]+1)-0.5,\n",
    "           # ... and label them with the respective list entries\n",
    "           xticklabels=['\\n\\n\\nNon-central','\\n\\n\\nCentral'],\n",
    "           yticklabels=['\\n\\n\\nNon-central','\\n\\n\\nCentral'],\n",
    "           title=title,\n",
    "           ylabel='True diagnosis',\n",
    "           xlabel='Predicted diagnosis')\n",
    "\n",
    "    # Rotate the tick labels and set their alignment.\n",
    "    plt.setp(ax.get_xticklabels(), rotation=45, ha=\"right\",\n",
    "             rotation_mode=\"anchor\")\n",
    "\n",
    "    # Loop over data dimensions and create text annotations.\n",
    "    fmt = '.2f' if normalize else 'd'\n",
    "    \n",
    "    thresh =  0.5 if normalize else (cm.max() / 2.)\n",
    "    for i in range(cm.shape[0]):\n",
    "        for j in range(cm.shape[1]):\n",
    "            ax.text(j, i, '%.2f\\n(n = %s)' %(cmn[i, j],cm[i, j]) if normalize else cm[i, j],\n",
    "                    ha=\"center\", va=\"center\",fontsize=9,\n",
    "                    color=(\"yellow\" if normalize else \"white\") \n",
    "                    if (cmn[i, j] if normalize else cm[i, j]) > thresh \n",
    "                    else \"black\")\n",
    "    fig.tight_layout()\n",
    "#     return ax\n",
    "    if not savepth == None:\n",
    "        plt.savefig('%s/confmat_%s_%s.png' %(savepth,flag,date),dpi=600)\n"
   ]
  },
  {
   "cell_type": "code",
   "execution_count": 217,
   "metadata": {
    "scrolled": false
   },
   "outputs": [
    {
     "name": "stdout",
     "output_type": "stream",
     "text": [
      "Confusion matrix, without normalization\n",
      "[[ 138 1053]\n",
      " [   1  125]]\n"
     ]
    },
    {
     "data": {
      "image/png": "[encoded data removed]",
      "text/plain": [
       "<Figure size 216x288 with 1 Axes>"
      ]
     },
     "metadata": {
      "needs_background": "light"
     },
     "output_type": "display_data"
    }
   ],
   "source": [
    "plot_confusion_matrix(y_preds['Y_test'],y_preds['Pred_svm']>thr99_svm,flag='svm99A',title=\"\",fig_size=(3,4),savepth=savedir)"
   ]
  },
  {
   "cell_type": "code",
   "execution_count": 218,
   "metadata": {
    "scrolled": true
   },
   "outputs": [
    {
     "name": "stdout",
     "output_type": "stream",
     "text": [
      "Confusion matrix, without normalization\n",
      "[[  55 1136]\n",
      " [   0  126]]\n"
     ]
    },
    {
     "data": {
      "image/png": "[encoded data removed]",
      "text/plain": [
       "<Figure size 216x288 with 1 Axes>"
      ]
     },
     "metadata": {
      "needs_background": "light"
     },
     "output_type": "display_data"
    }
   ],
   "source": [
    "plot_confusion_matrix(y_preds['Y_test'],y_preds['Pred_cat']>thr999_cat,flag='cat999B',title=\"\",fig_size=(3,4),savepth=savedir)"
   ]
  },
  {
   "cell_type": "code",
   "execution_count": null,
   "metadata": {},
   "outputs": [],
   "source": []
  }
 ],
 "metadata": {
  "kernelspec": {
   "display_name": "Python 3",
   "language": "python",
   "name": "python3"
  },
  "language_info": {
   "codemirror_mode": {
    "name": "ipython",
    "version": 3
   },
   "file_extension": ".py",
   "mimetype": "text/x-python",
   "name": "python",
   "nbconvert_exporter": "python",
   "pygments_lexer": "ipython3",
   "version": "3.7.3"
  }
 },
 "nbformat": 4,
 "nbformat_minor": 2
}
